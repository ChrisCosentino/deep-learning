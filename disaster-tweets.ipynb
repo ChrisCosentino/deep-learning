{
 "cells": [
  {
   "cell_type": "raw",
   "id": "5eb60d84",
   "metadata": {
    "papermill": {
     "duration": 0.017179,
     "end_time": "2023-12-26T07:08:50.946595",
     "exception": false,
     "start_time": "2023-12-26T07:08:50.929416",
     "status": "completed"
    },
    "tags": []
   },
   "source": []
  },
  {
   "cell_type": "code",
   "execution_count": 1,
   "id": "23c2211b",
   "metadata": {
    "_cell_guid": "b1076dfc-b9ad-4769-8c92-a6c4dae69d19",
    "_uuid": "8f2839f25d086af736a60e9eeb907d3b93b6e0e5",
    "execution": {
     "iopub.execute_input": "2023-12-26T07:08:50.982599Z",
     "iopub.status.busy": "2023-12-26T07:08:50.981927Z",
     "iopub.status.idle": "2023-12-26T07:08:51.317539Z",
     "shell.execute_reply": "2023-12-26T07:08:51.316200Z"
    },
    "papermill": {
     "duration": 0.357071,
     "end_time": "2023-12-26T07:08:51.320508",
     "exception": false,
     "start_time": "2023-12-26T07:08:50.963437",
     "status": "completed"
    },
    "tags": []
   },
   "outputs": [
    {
     "name": "stdout",
     "output_type": "stream",
     "text": [
      "/kaggle/input/distil_bert/keras/distil_bert_base_en_uncased/1/config.json\n",
      "/kaggle/input/distil_bert/keras/distil_bert_base_en_uncased/1/tokenizer.json\n",
      "/kaggle/input/distil_bert/keras/distil_bert_base_en_uncased/1/metadata.json\n",
      "/kaggle/input/distil_bert/keras/distil_bert_base_en_uncased/1/model.weights.h5\n",
      "/kaggle/input/distil_bert/keras/distil_bert_base_en_uncased/1/assets/tokenizer/vocabulary.txt\n",
      "/kaggle/input/nlp-getting-started/sample_submission.csv\n",
      "/kaggle/input/nlp-getting-started/train.csv\n",
      "/kaggle/input/nlp-getting-started/test.csv\n",
      "/kaggle/input/bert/tensorflow2/en-cased-preprocess/3/saved_model.pb\n",
      "/kaggle/input/bert/tensorflow2/en-cased-preprocess/3/keras_metadata.pb\n",
      "/kaggle/input/bert/tensorflow2/en-cased-preprocess/3/assets/vocab.txt\n",
      "/kaggle/input/bert/tensorflow2/en-cased-preprocess/3/variables/variables.index\n",
      "/kaggle/input/bert/tensorflow2/en-cased-preprocess/3/variables/variables.data-00000-of-00001\n"
     ]
    }
   ],
   "source": [
    "# This Python 3 environment comes with many helpful analytics libraries installed\n",
    "# It is defined by the kaggle/python Docker image: https://github.com/kaggle/docker-python\n",
    "# For example, here's several helpful packages to load\n",
    "\n",
    "import numpy as np # linear algebra\n",
    "import pandas as pd # data processing, CSV file I/O (e.g. pd.read_csv)\n",
    "\n",
    "# Input data files are available in the read-only \"../input/\" directory\n",
    "# For example, running this (by clicking run or pressing Shift+Enter) will list all files under the input directory\n",
    "\n",
    "import os\n",
    "for dirname, _, filenames in os.walk('/kaggle/input'):\n",
    "    for filename in filenames:\n",
    "        print(os.path.join(dirname, filename))\n",
    "\n",
    "# You can write up to 20GB to the current directory (/kaggle/working/) that gets preserved as output when you create a version using \"Save & Run All\" \n",
    "# You can also write temporary files to /kaggle/temp/, but they won't be saved outside of the current session"
   ]
  },
  {
   "cell_type": "markdown",
   "id": "183125ac",
   "metadata": {
    "papermill": {
     "duration": 0.016957,
     "end_time": "2023-12-26T07:08:51.356223",
     "exception": false,
     "start_time": "2023-12-26T07:08:51.339266",
     "status": "completed"
    },
    "tags": []
   },
   "source": [
    "# Disaster tweets\n",
    "\n",
    "0 = Not a disaster\n",
    "1 = a disaster"
   ]
  },
  {
   "cell_type": "code",
   "execution_count": 2,
   "id": "80e2b5e0",
   "metadata": {
    "execution": {
     "iopub.execute_input": "2023-12-26T07:08:51.396314Z",
     "iopub.status.busy": "2023-12-26T07:08:51.395752Z",
     "iopub.status.idle": "2023-12-26T07:08:51.487931Z",
     "shell.execute_reply": "2023-12-26T07:08:51.486636Z"
    },
    "papermill": {
     "duration": 0.117163,
     "end_time": "2023-12-26T07:08:51.490611",
     "exception": false,
     "start_time": "2023-12-26T07:08:51.373448",
     "status": "completed"
    },
    "tags": []
   },
   "outputs": [
    {
     "data": {
      "text/html": [
       "<div>\n",
       "<style scoped>\n",
       "    .dataframe tbody tr th:only-of-type {\n",
       "        vertical-align: middle;\n",
       "    }\n",
       "\n",
       "    .dataframe tbody tr th {\n",
       "        vertical-align: top;\n",
       "    }\n",
       "\n",
       "    .dataframe thead th {\n",
       "        text-align: right;\n",
       "    }\n",
       "</style>\n",
       "<table border=\"1\" class=\"dataframe\">\n",
       "  <thead>\n",
       "    <tr style=\"text-align: right;\">\n",
       "      <th></th>\n",
       "      <th>id</th>\n",
       "      <th>keyword</th>\n",
       "      <th>location</th>\n",
       "      <th>text</th>\n",
       "      <th>target</th>\n",
       "    </tr>\n",
       "  </thead>\n",
       "  <tbody>\n",
       "    <tr>\n",
       "      <th>0</th>\n",
       "      <td>1</td>\n",
       "      <td>NaN</td>\n",
       "      <td>NaN</td>\n",
       "      <td>Our Deeds are the Reason of this #earthquake M...</td>\n",
       "      <td>1</td>\n",
       "    </tr>\n",
       "    <tr>\n",
       "      <th>1</th>\n",
       "      <td>4</td>\n",
       "      <td>NaN</td>\n",
       "      <td>NaN</td>\n",
       "      <td>Forest fire near La Ronge Sask. Canada</td>\n",
       "      <td>1</td>\n",
       "    </tr>\n",
       "    <tr>\n",
       "      <th>2</th>\n",
       "      <td>5</td>\n",
       "      <td>NaN</td>\n",
       "      <td>NaN</td>\n",
       "      <td>All residents asked to 'shelter in place' are ...</td>\n",
       "      <td>1</td>\n",
       "    </tr>\n",
       "    <tr>\n",
       "      <th>3</th>\n",
       "      <td>6</td>\n",
       "      <td>NaN</td>\n",
       "      <td>NaN</td>\n",
       "      <td>13,000 people receive #wildfires evacuation or...</td>\n",
       "      <td>1</td>\n",
       "    </tr>\n",
       "    <tr>\n",
       "      <th>4</th>\n",
       "      <td>7</td>\n",
       "      <td>NaN</td>\n",
       "      <td>NaN</td>\n",
       "      <td>Just got sent this photo from Ruby #Alaska as ...</td>\n",
       "      <td>1</td>\n",
       "    </tr>\n",
       "    <tr>\n",
       "      <th>...</th>\n",
       "      <td>...</td>\n",
       "      <td>...</td>\n",
       "      <td>...</td>\n",
       "      <td>...</td>\n",
       "      <td>...</td>\n",
       "    </tr>\n",
       "    <tr>\n",
       "      <th>7608</th>\n",
       "      <td>10869</td>\n",
       "      <td>NaN</td>\n",
       "      <td>NaN</td>\n",
       "      <td>Two giant cranes holding a bridge collapse int...</td>\n",
       "      <td>1</td>\n",
       "    </tr>\n",
       "    <tr>\n",
       "      <th>7609</th>\n",
       "      <td>10870</td>\n",
       "      <td>NaN</td>\n",
       "      <td>NaN</td>\n",
       "      <td>@aria_ahrary @TheTawniest The out of control w...</td>\n",
       "      <td>1</td>\n",
       "    </tr>\n",
       "    <tr>\n",
       "      <th>7610</th>\n",
       "      <td>10871</td>\n",
       "      <td>NaN</td>\n",
       "      <td>NaN</td>\n",
       "      <td>M1.94 [01:04 UTC]?5km S of Volcano Hawaii. htt...</td>\n",
       "      <td>1</td>\n",
       "    </tr>\n",
       "    <tr>\n",
       "      <th>7611</th>\n",
       "      <td>10872</td>\n",
       "      <td>NaN</td>\n",
       "      <td>NaN</td>\n",
       "      <td>Police investigating after an e-bike collided ...</td>\n",
       "      <td>1</td>\n",
       "    </tr>\n",
       "    <tr>\n",
       "      <th>7612</th>\n",
       "      <td>10873</td>\n",
       "      <td>NaN</td>\n",
       "      <td>NaN</td>\n",
       "      <td>The Latest: More Homes Razed by Northern Calif...</td>\n",
       "      <td>1</td>\n",
       "    </tr>\n",
       "  </tbody>\n",
       "</table>\n",
       "<p>7613 rows × 5 columns</p>\n",
       "</div>"
      ],
      "text/plain": [
       "         id keyword location  \\\n",
       "0         1     NaN      NaN   \n",
       "1         4     NaN      NaN   \n",
       "2         5     NaN      NaN   \n",
       "3         6     NaN      NaN   \n",
       "4         7     NaN      NaN   \n",
       "...     ...     ...      ...   \n",
       "7608  10869     NaN      NaN   \n",
       "7609  10870     NaN      NaN   \n",
       "7610  10871     NaN      NaN   \n",
       "7611  10872     NaN      NaN   \n",
       "7612  10873     NaN      NaN   \n",
       "\n",
       "                                                   text  target  \n",
       "0     Our Deeds are the Reason of this #earthquake M...       1  \n",
       "1                Forest fire near La Ronge Sask. Canada       1  \n",
       "2     All residents asked to 'shelter in place' are ...       1  \n",
       "3     13,000 people receive #wildfires evacuation or...       1  \n",
       "4     Just got sent this photo from Ruby #Alaska as ...       1  \n",
       "...                                                 ...     ...  \n",
       "7608  Two giant cranes holding a bridge collapse int...       1  \n",
       "7609  @aria_ahrary @TheTawniest The out of control w...       1  \n",
       "7610  M1.94 [01:04 UTC]?5km S of Volcano Hawaii. htt...       1  \n",
       "7611  Police investigating after an e-bike collided ...       1  \n",
       "7612  The Latest: More Homes Razed by Northern Calif...       1  \n",
       "\n",
       "[7613 rows x 5 columns]"
      ]
     },
     "execution_count": 2,
     "metadata": {},
     "output_type": "execute_result"
    }
   ],
   "source": [
    "import pandas as pd\n",
    "\n",
    "train_df = pd.read_csv(\"/kaggle/input/nlp-getting-started/train.csv\")\n",
    "test_df = pd.read_csv('/kaggle/input/nlp-getting-started/test.csv')\n",
    "train_df"
   ]
  },
  {
   "cell_type": "code",
   "execution_count": 3,
   "id": "005dd7ec",
   "metadata": {
    "execution": {
     "iopub.execute_input": "2023-12-26T07:08:51.526616Z",
     "iopub.status.busy": "2023-12-26T07:08:51.526044Z",
     "iopub.status.idle": "2023-12-26T07:08:51.540503Z",
     "shell.execute_reply": "2023-12-26T07:08:51.539724Z"
    },
    "papermill": {
     "duration": 0.034266,
     "end_time": "2023-12-26T07:08:51.542563",
     "exception": false,
     "start_time": "2023-12-26T07:08:51.508297",
     "status": "completed"
    },
    "tags": []
   },
   "outputs": [
    {
     "data": {
      "text/plain": [
       "target\n",
       "0    4342\n",
       "1    3271\n",
       "Name: count, dtype: int64"
      ]
     },
     "execution_count": 3,
     "metadata": {},
     "output_type": "execute_result"
    }
   ],
   "source": [
    "train_df['target'].value_counts()"
   ]
  },
  {
   "cell_type": "code",
   "execution_count": 4,
   "id": "bb63e500",
   "metadata": {
    "execution": {
     "iopub.execute_input": "2023-12-26T07:08:51.641351Z",
     "iopub.status.busy": "2023-12-26T07:08:51.640726Z",
     "iopub.status.idle": "2023-12-26T07:08:51.662032Z",
     "shell.execute_reply": "2023-12-26T07:08:51.661224Z"
    },
    "papermill": {
     "duration": 0.044161,
     "end_time": "2023-12-26T07:08:51.663961",
     "exception": false,
     "start_time": "2023-12-26T07:08:51.619800",
     "status": "completed"
    },
    "tags": []
   },
   "outputs": [
    {
     "name": "stdout",
     "output_type": "stream",
     "text": [
      "<class 'pandas.core.frame.DataFrame'>\n",
      "RangeIndex: 7613 entries, 0 to 7612\n",
      "Data columns (total 5 columns):\n",
      " #   Column    Non-Null Count  Dtype \n",
      "---  ------    --------------  ----- \n",
      " 0   id        7613 non-null   int64 \n",
      " 1   keyword   7552 non-null   object\n",
      " 2   location  5080 non-null   object\n",
      " 3   text      7613 non-null   object\n",
      " 4   target    7613 non-null   int64 \n",
      "dtypes: int64(2), object(3)\n",
      "memory usage: 297.5+ KB\n"
     ]
    }
   ],
   "source": [
    "# check for null data\n",
    "train_df.info()"
   ]
  },
  {
   "cell_type": "code",
   "execution_count": 5,
   "id": "f2326a49",
   "metadata": {
    "execution": {
     "iopub.execute_input": "2023-12-26T07:08:51.701251Z",
     "iopub.status.busy": "2023-12-26T07:08:51.700562Z",
     "iopub.status.idle": "2023-12-26T07:08:51.708362Z",
     "shell.execute_reply": "2023-12-26T07:08:51.706976Z"
    },
    "papermill": {
     "duration": 0.028959,
     "end_time": "2023-12-26T07:08:51.710331",
     "exception": false,
     "start_time": "2023-12-26T07:08:51.681372",
     "status": "completed"
    },
    "tags": []
   },
   "outputs": [
    {
     "data": {
      "text/plain": [
       "0       Our Deeds are the Reason of this #earthquake M...\n",
       "1                  Forest fire near La Ronge Sask. Canada\n",
       "2       All residents asked to 'shelter in place' are ...\n",
       "3       13,000 people receive #wildfires evacuation or...\n",
       "4       Just got sent this photo from Ruby #Alaska as ...\n",
       "                              ...                        \n",
       "7608    Two giant cranes holding a bridge collapse int...\n",
       "7609    @aria_ahrary @TheTawniest The out of control w...\n",
       "7610    M1.94 [01:04 UTC]?5km S of Volcano Hawaii. htt...\n",
       "7611    Police investigating after an e-bike collided ...\n",
       "7612    The Latest: More Homes Razed by Northern Calif...\n",
       "Name: text, Length: 7613, dtype: object"
      ]
     },
     "execution_count": 5,
     "metadata": {},
     "output_type": "execute_result"
    }
   ],
   "source": [
    "train_data = train_df[\"text\"]\n",
    "train_labels = train_df[\"target\"]\n",
    "train_data"
   ]
  },
  {
   "cell_type": "code",
   "execution_count": 6,
   "id": "7d4a890b",
   "metadata": {
    "execution": {
     "iopub.execute_input": "2023-12-26T07:08:51.747983Z",
     "iopub.status.busy": "2023-12-26T07:08:51.747581Z",
     "iopub.status.idle": "2023-12-26T07:08:53.129737Z",
     "shell.execute_reply": "2023-12-26T07:08:53.128249Z"
    },
    "papermill": {
     "duration": 1.404259,
     "end_time": "2023-12-26T07:08:53.132493",
     "exception": false,
     "start_time": "2023-12-26T07:08:51.728234",
     "status": "completed"
    },
    "tags": []
   },
   "outputs": [
    {
     "data": {
      "text/plain": [
       "(6851, 6851, 762, 762)"
      ]
     },
     "execution_count": 6,
     "metadata": {},
     "output_type": "execute_result"
    }
   ],
   "source": [
    "# split the train_data into train and valid sets \n",
    "from sklearn.model_selection import train_test_split\n",
    "\n",
    "X_train, X_valid, y_train, y_valid = train_test_split(train_data,\n",
    "                                                     train_labels,\n",
    "                                                     test_size=0.1,\n",
    "                                                     random_state=42,\n",
    "                                                     shuffle=True)\n",
    "len(X_train), len(y_train), len(X_valid), len(y_valid)"
   ]
  },
  {
   "cell_type": "code",
   "execution_count": 7,
   "id": "3adf5cdf",
   "metadata": {
    "execution": {
     "iopub.execute_input": "2023-12-26T07:08:53.173665Z",
     "iopub.status.busy": "2023-12-26T07:08:53.173231Z",
     "iopub.status.idle": "2023-12-26T07:08:53.179504Z",
     "shell.execute_reply": "2023-12-26T07:08:53.178875Z"
    },
    "papermill": {
     "duration": 0.029627,
     "end_time": "2023-12-26T07:08:53.181699",
     "exception": false,
     "start_time": "2023-12-26T07:08:53.152072",
     "status": "completed"
    },
    "tags": []
   },
   "outputs": [
    {
     "data": {
      "text/plain": [
       "('Forest fire near La Ronge Sask. Canada', 1)"
      ]
     },
     "execution_count": 7,
     "metadata": {},
     "output_type": "execute_result"
    }
   ],
   "source": [
    "X_train[1], y_train[1]"
   ]
  },
  {
   "cell_type": "markdown",
   "id": "ccd29d45",
   "metadata": {
    "papermill": {
     "duration": 0.018212,
     "end_time": "2023-12-26T07:08:53.217694",
     "exception": false,
     "start_time": "2023-12-26T07:08:53.199482",
     "status": "completed"
    },
    "tags": []
   },
   "source": [
    "Prepare the data for Neural Networks\n",
    "\n",
    "* Vectorization layer will convert text to numbers\n",
    "* Embedding layers will capture relationships between those numbers"
   ]
  },
  {
   "cell_type": "code",
   "execution_count": 8,
   "id": "d44eccb7",
   "metadata": {
    "execution": {
     "iopub.execute_input": "2023-12-26T07:08:53.255327Z",
     "iopub.status.busy": "2023-12-26T07:08:53.254459Z",
     "iopub.status.idle": "2023-12-26T07:08:53.267453Z",
     "shell.execute_reply": "2023-12-26T07:08:53.266840Z"
    },
    "papermill": {
     "duration": 0.033676,
     "end_time": "2023-12-26T07:08:53.269289",
     "exception": false,
     "start_time": "2023-12-26T07:08:53.235613",
     "status": "completed"
    },
    "tags": []
   },
   "outputs": [
    {
     "data": {
      "text/plain": [
       "14.87447088016348"
      ]
     },
     "execution_count": 8,
     "metadata": {},
     "output_type": "execute_result"
    }
   ],
   "source": [
    "# convert text to numbers\n",
    "import numpy as np \n",
    "\n",
    "tweet_lengths = [len(tweet.split()) for tweet in X_train] # an array of all tweet lengths\n",
    "avg_tweet_length = np.mean(tweet_lengths)\n",
    "avg_tweet_length"
   ]
  },
  {
   "cell_type": "code",
   "execution_count": 9,
   "id": "e7e696b4",
   "metadata": {
    "execution": {
     "iopub.execute_input": "2023-12-26T07:08:53.307555Z",
     "iopub.status.busy": "2023-12-26T07:08:53.306847Z",
     "iopub.status.idle": "2023-12-26T07:08:53.647535Z",
     "shell.execute_reply": "2023-12-26T07:08:53.646579Z"
    },
    "papermill": {
     "duration": 0.362592,
     "end_time": "2023-12-26T07:08:53.650241",
     "exception": false,
     "start_time": "2023-12-26T07:08:53.287649",
     "status": "completed"
    },
    "tags": []
   },
   "outputs": [
    {
     "data": {
      "text/plain": [
       "(array([ 355.,  974., 1530., 2081., 1242.,  556.,  113.]),\n",
       " array([ 1.        ,  5.28571429,  9.57142857, 13.85714286, 18.14285714,\n",
       "        22.42857143, 26.71428571, 31.        ]),\n",
       " <BarContainer object of 7 artists>)"
      ]
     },
     "execution_count": 9,
     "metadata": {},
     "output_type": "execute_result"
    },
    {
     "data": {
      "image/png": "[encoded data removed]",
      "text/plain": [
       "<Figure size 640x480 with 1 Axes>"
      ]
     },
     "metadata": {},
     "output_type": "display_data"
    }
   ],
   "source": [
    "import matplotlib.pyplot as plt\n",
    "plt.hist(tweet_lengths, bins=7)"
   ]
  },
  {
   "cell_type": "markdown",
   "id": "2c5b28e1",
   "metadata": {
    "papermill": {
     "duration": 0.017747,
     "end_time": "2023-12-26T07:08:53.689408",
     "exception": false,
     "start_time": "2023-12-26T07:08:53.671661",
     "status": "completed"
    },
    "tags": []
   },
   "source": [
    "Looks like most sentences are between 5 and 25"
   ]
  },
  {
   "cell_type": "code",
   "execution_count": 10,
   "id": "d758a34c",
   "metadata": {
    "execution": {
     "iopub.execute_input": "2023-12-26T07:08:53.727441Z",
     "iopub.status.busy": "2023-12-26T07:08:53.726016Z",
     "iopub.status.idle": "2023-12-26T07:08:53.738389Z",
     "shell.execute_reply": "2023-12-26T07:08:53.737467Z"
    },
    "papermill": {
     "duration": 0.033072,
     "end_time": "2023-12-26T07:08:53.740199",
     "exception": false,
     "start_time": "2023-12-26T07:08:53.707127",
     "status": "completed"
    },
    "tags": []
   },
   "outputs": [
    {
     "data": {
      "text/plain": [
       "24"
      ]
     },
     "execution_count": 10,
     "metadata": {},
     "output_type": "execute_result"
    }
   ],
   "source": [
    "# how long of a tweet covers 95% of the length?\n",
    "output_seq_len = int(np.percentile(tweet_lengths, 95))\n",
    "output_seq_len"
   ]
  },
  {
   "cell_type": "code",
   "execution_count": 11,
   "id": "4acf1ca6",
   "metadata": {
    "execution": {
     "iopub.execute_input": "2023-12-26T07:08:53.777738Z",
     "iopub.status.busy": "2023-12-26T07:08:53.777146Z",
     "iopub.status.idle": "2023-12-26T07:09:07.596626Z",
     "shell.execute_reply": "2023-12-26T07:09:07.595585Z"
    },
    "papermill": {
     "duration": 13.841121,
     "end_time": "2023-12-26T07:09:07.599180",
     "exception": false,
     "start_time": "2023-12-26T07:08:53.758059",
     "status": "completed"
    },
    "tags": []
   },
   "outputs": [],
   "source": [
    "import tensorflow as tf\n",
    "\n",
    "max_vocab_length = 10000\n",
    "\n",
    "text_vectorizer = tf.keras.layers.TextVectorization(max_tokens=max_vocab_length,\n",
    "                                                   pad_to_max_tokens=True,\n",
    "                                                   output_sequence_length=24,\n",
    "                                                   split=\"whitespace\",\n",
    "                                                   output_mode=\"int\",\n",
    "                                                   standardize=\"lower_and_strip_punctuation\")"
   ]
  },
  {
   "cell_type": "code",
   "execution_count": 12,
   "id": "f554d834",
   "metadata": {
    "execution": {
     "iopub.execute_input": "2023-12-26T07:09:07.638753Z",
     "iopub.status.busy": "2023-12-26T07:09:07.638391Z",
     "iopub.status.idle": "2023-12-26T07:09:08.498859Z",
     "shell.execute_reply": "2023-12-26T07:09:08.497368Z"
    },
    "papermill": {
     "duration": 0.883464,
     "end_time": "2023-12-26T07:09:08.501741",
     "exception": false,
     "start_time": "2023-12-26T07:09:07.618277",
     "status": "completed"
    },
    "tags": []
   },
   "outputs": [],
   "source": [
    "text_vectorizer.adapt(X_train)"
   ]
  },
  {
   "cell_type": "code",
   "execution_count": 13,
   "id": "ab53c987",
   "metadata": {
    "execution": {
     "iopub.execute_input": "2023-12-26T07:09:08.541808Z",
     "iopub.status.busy": "2023-12-26T07:09:08.541359Z",
     "iopub.status.idle": "2023-12-26T07:09:08.610714Z",
     "shell.execute_reply": "2023-12-26T07:09:08.608981Z"
    },
    "papermill": {
     "duration": 0.092602,
     "end_time": "2023-12-26T07:09:08.613135",
     "exception": false,
     "start_time": "2023-12-26T07:09:08.520533",
     "status": "completed"
    },
    "tags": []
   },
   "outputs": [
    {
     "name": "stdout",
     "output_type": "stream",
     "text": [
      "Text:\n",
      "#News: 'Many deaths' in shipwreck: Rescuers are trying to save hundreds of migrants after the... http://t.co/tX51oYbrN6 via @TheNewsHype\n",
      "\n",
      "Length of text: 18\n",
      "\n",
      "Vectorized text:\n",
      "[[  57  134  331    4 3423  321   21  640    5  338  416    6  341   38\n",
      "     2    1   51 7606    0    0    0    0    0    0]]\n"
     ]
    }
   ],
   "source": [
    "import random\n",
    "\n",
    "target_sentence = random.choice(X_train)\n",
    "print(f\"Text:\\n{target_sentence}\")\n",
    "print(f\"\\nLength of text: {len(target_sentence.split())}\")\n",
    "print(f\"\\nVectorized text:\\n{text_vectorizer([target_sentence])}\")"
   ]
  },
  {
   "cell_type": "code",
   "execution_count": 14,
   "id": "791308c2",
   "metadata": {
    "execution": {
     "iopub.execute_input": "2023-12-26T07:09:08.652110Z",
     "iopub.status.busy": "2023-12-26T07:09:08.651520Z",
     "iopub.status.idle": "2023-12-26T07:09:08.679368Z",
     "shell.execute_reply": "2023-12-26T07:09:08.677225Z"
    },
    "papermill": {
     "duration": 0.0503,
     "end_time": "2023-12-26T07:09:08.682244",
     "exception": false,
     "start_time": "2023-12-26T07:09:08.631944",
     "status": "completed"
    },
    "tags": []
   },
   "outputs": [
    {
     "name": "stdout",
     "output_type": "stream",
     "text": [
      "Number of words in vocabulary: 10000\n",
      "Most common words in the vocabulary: ['', '[UNK]', 'the', 'a', 'in']\n",
      "Least common words in the vocabulary: ['pakthey', 'pakistan\\x89Ûªs', 'pakistans', 'pajamas', 'paints']\n"
     ]
    }
   ],
   "source": [
    "# How many words in our training vocabulary?\n",
    "tweets_text_vocab = text_vectorizer.get_vocabulary()\n",
    "print(f\"Number of words in vocabulary: {len(tweets_text_vocab)}\"),\n",
    "print(f\"Most common words in the vocabulary: {tweets_text_vocab[:5]}\")\n",
    "print(f\"Least common words in the vocabulary: {tweets_text_vocab[-5:]}\")"
   ]
  },
  {
   "cell_type": "markdown",
   "id": "27d0dd27",
   "metadata": {
    "papermill": {
     "duration": 0.018123,
     "end_time": "2023-12-26T07:09:08.719022",
     "exception": false,
     "start_time": "2023-12-26T07:09:08.700899",
     "status": "completed"
    },
    "tags": []
   },
   "source": [
    "## Create the token embedding"
   ]
  },
  {
   "cell_type": "code",
   "execution_count": 15,
   "id": "49962dc0",
   "metadata": {
    "execution": {
     "iopub.execute_input": "2023-12-26T07:09:08.758068Z",
     "iopub.status.busy": "2023-12-26T07:09:08.757434Z",
     "iopub.status.idle": "2023-12-26T07:09:08.764398Z",
     "shell.execute_reply": "2023-12-26T07:09:08.763301Z"
    },
    "papermill": {
     "duration": 0.029089,
     "end_time": "2023-12-26T07:09:08.766481",
     "exception": false,
     "start_time": "2023-12-26T07:09:08.737392",
     "status": "completed"
    },
    "tags": []
   },
   "outputs": [],
   "source": [
    "token_embedding = tf.keras.layers.Embedding(input_dim=len(tweets_text_vocab),\n",
    "                                           output_dim=128, # size of output embedding vector. Ie: a value of 100 outputs a feature vector of size 100 for each word\n",
    "                                           mask_zero=True,\n",
    "                                           name=\"token_embed\")"
   ]
  },
  {
   "cell_type": "code",
   "execution_count": 16,
   "id": "a3804ed1",
   "metadata": {
    "execution": {
     "iopub.execute_input": "2023-12-26T07:09:08.807909Z",
     "iopub.status.busy": "2023-12-26T07:09:08.806800Z",
     "iopub.status.idle": "2023-12-26T07:09:08.860660Z",
     "shell.execute_reply": "2023-12-26T07:09:08.859156Z"
    },
    "papermill": {
     "duration": 0.077958,
     "end_time": "2023-12-26T07:09:08.863598",
     "exception": false,
     "start_time": "2023-12-26T07:09:08.785640",
     "status": "completed"
    },
    "tags": []
   },
   "outputs": [
    {
     "name": "stdout",
     "output_type": "stream",
     "text": [
      "Sentence before vectorization:\n",
      "#News: 'Many deaths' in shipwreck: Rescuers are trying to save hundreds of migrants after the... http://t.co/tX51oYbrN6 via @TheNewsHype\n",
      "\n",
      "Sentence after vectorization (before embedding):\n",
      "[[  57  134  331    4 3423  321   21  640    5  338  416    6  341   38\n",
      "     2    1   51 7606    0    0    0    0    0    0]]\n",
      "\n",
      "Sentence after embedding:\n",
      "[[[ 0.03019544 -0.02418411  0.01751139 ... -0.01936489 -0.01953087\n",
      "    0.03324485]\n",
      "  [-0.00149969  0.04522185  0.04490285 ... -0.04235858  0.00419889\n",
      "    0.01360964]\n",
      "  [-0.04690814 -0.02690545 -0.01564493 ...  0.02323444  0.04659337\n",
      "   -0.04844758]\n",
      "  ...\n",
      "  [-0.01573888  0.00268257 -0.0046014  ...  0.02686039  0.04894122\n",
      "    0.00162994]\n",
      "  [-0.01573888  0.00268257 -0.0046014  ...  0.02686039  0.04894122\n",
      "    0.00162994]\n",
      "  [-0.01573888  0.00268257 -0.0046014  ...  0.02686039  0.04894122\n",
      "    0.00162994]]]\n",
      "\n",
      "Embedded sentence shape: (1, 24, 128)\n"
     ]
    }
   ],
   "source": [
    "# Show example embedding\n",
    "print(f\"Sentence before vectorization:\\n{target_sentence}\\n\")\n",
    "vectorized_sentence = text_vectorizer([target_sentence])\n",
    "print(f\"Sentence after vectorization (before embedding):\\n{vectorized_sentence}\\n\")\n",
    "embedded_sentence = token_embedding(vectorized_sentence)\n",
    "print(f\"Sentence after embedding:\\n{embedded_sentence}\\n\")\n",
    "print(f\"Embedded sentence shape: {embedded_sentence.shape}\")"
   ]
  },
  {
   "cell_type": "code",
   "execution_count": 17,
   "id": "8fc29d92",
   "metadata": {
    "execution": {
     "iopub.execute_input": "2023-12-26T07:09:08.905526Z",
     "iopub.status.busy": "2023-12-26T07:09:08.905128Z",
     "iopub.status.idle": "2023-12-26T07:09:08.920164Z",
     "shell.execute_reply": "2023-12-26T07:09:08.919271Z"
    },
    "papermill": {
     "duration": 0.038859,
     "end_time": "2023-12-26T07:09:08.922256",
     "exception": false,
     "start_time": "2023-12-26T07:09:08.883397",
     "status": "completed"
    },
    "tags": []
   },
   "outputs": [
    {
     "name": "stdout",
     "output_type": "stream",
     "text": [
      "Original text:\n",
      "@random_tourist it rained. Some guys tree hit by lightning and some jackholes drove onto flooded streets.      \n",
      "\n",
      "Embedded version:\n"
     ]
    },
    {
     "data": {
      "text/plain": [
       "<tf.Tensor: shape=(1, 24, 128), dtype=float32, numpy=\n",
       "array([[[-0.01000402,  0.02437745,  0.03948537, ..., -0.03636986,\n",
       "          0.00658759, -0.00348108],\n",
       "        [-0.03506844,  0.0406344 ,  0.01081747, ..., -0.02909932,\n",
       "          0.02497986,  0.01631084],\n",
       "        [ 0.00942886, -0.01196678,  0.01535243, ..., -0.03290317,\n",
       "          0.02591038, -0.02769855],\n",
       "        ...,\n",
       "        [-0.01573888,  0.00268257, -0.0046014 , ...,  0.02686039,\n",
       "          0.04894122,  0.00162994],\n",
       "        [-0.01573888,  0.00268257, -0.0046014 , ...,  0.02686039,\n",
       "          0.04894122,  0.00162994],\n",
       "        [-0.01573888,  0.00268257, -0.0046014 , ...,  0.02686039,\n",
       "          0.04894122,  0.00162994]]], dtype=float32)>"
      ]
     },
     "execution_count": 17,
     "metadata": {},
     "output_type": "execute_result"
    }
   ],
   "source": [
    "# Get a random sentence from training set\n",
    "random_sentence = random.choice(X_train)\n",
    "print(f\"Original text:\\n{random_sentence}\\\n",
    "      \\n\\nEmbedded version:\")\n",
    "\n",
    "# Embed the random sentence (turn it into numerical representation)\n",
    "sample_embed = token_embedding(text_vectorizer([random_sentence]))\n",
    "sample_embed"
   ]
  },
  {
   "cell_type": "code",
   "execution_count": 18,
   "id": "1d13c351",
   "metadata": {
    "execution": {
     "iopub.execute_input": "2023-12-26T07:09:08.961636Z",
     "iopub.status.busy": "2023-12-26T07:09:08.960768Z",
     "iopub.status.idle": "2023-12-26T07:09:08.974996Z",
     "shell.execute_reply": "2023-12-26T07:09:08.973622Z"
    },
    "papermill": {
     "duration": 0.03662,
     "end_time": "2023-12-26T07:09:08.977595",
     "exception": false,
     "start_time": "2023-12-26T07:09:08.940975",
     "status": "completed"
    },
    "tags": []
   },
   "outputs": [
    {
     "data": {
      "text/plain": [
       "<tf.Tensor: shape=(128,), dtype=float32, numpy=\n",
       "array([-1.00040212e-02,  2.43774541e-02,  3.94853689e-02, -2.78397929e-02,\n",
       "       -4.59815264e-02, -4.17415127e-02,  3.27600501e-02,  4.49448265e-02,\n",
       "       -1.63150206e-02, -4.95513082e-02,  1.43349878e-02,  1.84648111e-03,\n",
       "        4.50806059e-02, -1.33390315e-02, -3.85915861e-02,  1.37749650e-02,\n",
       "       -4.08224352e-02, -4.14562225e-03, -3.50546129e-02, -2.99784895e-02,\n",
       "       -1.71714053e-02,  3.83880772e-02,  4.02889960e-02,  4.04076651e-03,\n",
       "       -3.96116152e-02,  9.44361091e-05,  4.15216759e-03,  1.29116215e-02,\n",
       "        1.43699162e-02,  2.75588892e-02,  1.91606916e-02, -1.96596514e-02,\n",
       "       -1.00344047e-02,  9.19680670e-03,  2.16869265e-03, -4.29504029e-02,\n",
       "        1.14498138e-02, -9.33218002e-03, -1.59054026e-02, -3.22229862e-02,\n",
       "        2.04294212e-02,  3.11428793e-02,  3.95304002e-02, -1.04162842e-03,\n",
       "        2.77494229e-02, -1.29353181e-02, -3.32513936e-02,  2.41281502e-02,\n",
       "       -2.54145153e-02,  2.03067064e-03, -1.78489797e-02, -3.05795800e-02,\n",
       "       -4.35135141e-02, -4.54300046e-02, -4.26415913e-02, -4.25090641e-03,\n",
       "       -2.25202926e-02, -2.23941095e-02,  2.69538499e-02,  2.25461610e-02,\n",
       "       -3.61445546e-02, -4.02220264e-02,  4.05870192e-02,  2.75466591e-03,\n",
       "       -8.70941952e-03,  4.08574603e-02,  4.73958254e-03,  2.41484903e-02,\n",
       "       -4.80813496e-02, -1.12027153e-02,  1.82721950e-02, -2.17017774e-02,\n",
       "        1.80958584e-03,  3.93999852e-02,  1.94556974e-02, -7.10256025e-03,\n",
       "       -1.04433410e-02, -3.55416536e-02, -2.33876463e-02, -4.44896221e-02,\n",
       "        1.26322359e-03, -3.23335528e-02,  2.01779641e-02, -4.39677387e-03,\n",
       "        4.56624106e-03, -1.41355880e-02,  1.92301013e-02, -1.92915797e-02,\n",
       "       -3.54166627e-02, -1.09240301e-02, -2.48361379e-04,  2.96907686e-02,\n",
       "        1.37888081e-02,  2.33972073e-03, -4.49129827e-02,  4.20786776e-02,\n",
       "       -3.42841744e-02, -1.15416870e-02,  3.28807123e-02, -4.62357178e-02,\n",
       "       -2.52305269e-02,  3.39749716e-02, -4.19965871e-02, -3.65551934e-02,\n",
       "        1.53415538e-02, -3.01634911e-02, -1.81924701e-02, -3.34215388e-02,\n",
       "       -2.60928757e-02, -1.66302100e-02, -4.51510549e-02, -8.07894394e-03,\n",
       "       -2.18884703e-02, -3.13725695e-02, -2.41732951e-02, -1.72806010e-02,\n",
       "        1.46382190e-02, -2.78657675e-02,  2.30699293e-02,  1.48687027e-02,\n",
       "        2.54523866e-02,  9.57272947e-04,  1.77407265e-03, -3.23383361e-02,\n",
       "       -4.56932448e-02, -3.63698602e-02,  6.58758730e-03, -3.48107889e-03],\n",
       "      dtype=float32)>"
      ]
     },
     "execution_count": 18,
     "metadata": {},
     "output_type": "execute_result"
    }
   ],
   "source": [
    "# check out a single tokens embedding\n",
    "sample_embed[0][0]"
   ]
  },
  {
   "cell_type": "markdown",
   "id": "485daa04",
   "metadata": {
    "papermill": {
     "duration": 0.019309,
     "end_time": "2023-12-26T07:09:09.016086",
     "exception": false,
     "start_time": "2023-12-26T07:09:08.996777",
     "status": "completed"
    },
    "tags": []
   },
   "source": [
    "Notice its an array of size 128. Each word is represented in an array of 128 values. \n",
    "\n",
    "Its a tensorflow layer, which is important b/c it can be used as part of a model. Its parameters(word representations) can be updated and improved as the model learns. "
   ]
  },
  {
   "cell_type": "code",
   "execution_count": null,
   "id": "2edea16b",
   "metadata": {
    "papermill": {
     "duration": 0.018732,
     "end_time": "2023-12-26T07:09:09.053767",
     "exception": false,
     "start_time": "2023-12-26T07:09:09.035035",
     "status": "completed"
    },
    "tags": []
   },
   "outputs": [],
   "source": []
  },
  {
   "cell_type": "markdown",
   "id": "b41c60b6",
   "metadata": {
    "papermill": {
     "duration": 0.01994,
     "end_time": "2023-12-26T07:09:09.093098",
     "exception": false,
     "start_time": "2023-12-26T07:09:09.073158",
     "status": "completed"
    },
    "tags": []
   },
   "source": [
    "### Load in datasets faster"
   ]
  },
  {
   "cell_type": "code",
   "execution_count": 19,
   "id": "7796ae15",
   "metadata": {
    "execution": {
     "iopub.execute_input": "2023-12-26T07:09:09.133084Z",
     "iopub.status.busy": "2023-12-26T07:09:09.132409Z",
     "iopub.status.idle": "2023-12-26T07:09:09.151902Z",
     "shell.execute_reply": "2023-12-26T07:09:09.150426Z"
    },
    "papermill": {
     "duration": 0.042043,
     "end_time": "2023-12-26T07:09:09.154296",
     "exception": false,
     "start_time": "2023-12-26T07:09:09.112253",
     "status": "completed"
    },
    "tags": []
   },
   "outputs": [],
   "source": [
    "train_dataset = tf.data.Dataset.from_tensor_slices((X_train, y_train))\n",
    "valid_dataset = tf.data.Dataset.from_tensor_slices((X_valid, y_valid))\n",
    "\n",
    "train_dataset = train_dataset.batch(32).prefetch(tf.data.AUTOTUNE)\n",
    "valid_dataset = valid_dataset.batch(32).prefetch(tf.data.AUTOTUNE)"
   ]
  },
  {
   "cell_type": "code",
   "execution_count": 20,
   "id": "513652da",
   "metadata": {
    "execution": {
     "iopub.execute_input": "2023-12-26T07:09:09.196848Z",
     "iopub.status.busy": "2023-12-26T07:09:09.196200Z",
     "iopub.status.idle": "2023-12-26T07:09:09.274714Z",
     "shell.execute_reply": "2023-12-26T07:09:09.273494Z"
    },
    "papermill": {
     "duration": 0.102248,
     "end_time": "2023-12-26T07:09:09.277188",
     "exception": false,
     "start_time": "2023-12-26T07:09:09.174940",
     "status": "completed"
    },
    "tags": []
   },
   "outputs": [],
   "source": [
    "inputs = tf.keras.Input(shape=(1,), dtype=\"string\") # 1 dimensional strings\n",
    "\n",
    "x = text_vectorizer(inputs) # turn input text into numbers\n",
    "x = token_embedding(x)\n",
    "\n",
    "x = tf.keras.layers.GlobalAveragePooling1D()(x)\n",
    "\n",
    "outputs = tf.keras.layers.Dense(1, activation=\"sigmoid\")(x)\n",
    "\n",
    "model_1 = tf.keras.Model(inputs, outputs, name=\"model_1\")"
   ]
  },
  {
   "cell_type": "code",
   "execution_count": 21,
   "id": "4223bfdd",
   "metadata": {
    "execution": {
     "iopub.execute_input": "2023-12-26T07:09:09.317660Z",
     "iopub.status.busy": "2023-12-26T07:09:09.317100Z",
     "iopub.status.idle": "2023-12-26T07:09:09.335378Z",
     "shell.execute_reply": "2023-12-26T07:09:09.334035Z"
    },
    "papermill": {
     "duration": 0.041722,
     "end_time": "2023-12-26T07:09:09.338048",
     "exception": false,
     "start_time": "2023-12-26T07:09:09.296326",
     "status": "completed"
    },
    "tags": []
   },
   "outputs": [],
   "source": [
    "model_1.compile(loss=\"binary_crossentropy\",\n",
    "                optimizer=tf.keras.optimizers.Adam(),\n",
    "                metrics=[\"accuracy\"])"
   ]
  },
  {
   "cell_type": "code",
   "execution_count": 22,
   "id": "cfcd6742",
   "metadata": {
    "execution": {
     "iopub.execute_input": "2023-12-26T07:09:09.378775Z",
     "iopub.status.busy": "2023-12-26T07:09:09.378154Z",
     "iopub.status.idle": "2023-12-26T07:09:09.407485Z",
     "shell.execute_reply": "2023-12-26T07:09:09.406323Z"
    },
    "papermill": {
     "duration": 0.0519,
     "end_time": "2023-12-26T07:09:09.409632",
     "exception": false,
     "start_time": "2023-12-26T07:09:09.357732",
     "status": "completed"
    },
    "tags": []
   },
   "outputs": [
    {
     "name": "stdout",
     "output_type": "stream",
     "text": [
      "Model: \"model_1\"\n",
      "_________________________________________________________________\n",
      " Layer (type)                Output Shape              Param #   \n",
      "=================================================================\n",
      " input_1 (InputLayer)        [(None, 1)]               0         \n",
      "                                                                 \n",
      " text_vectorization (TextVe  (None, 24)                0         \n",
      " ctorization)                                                    \n",
      "                                                                 \n",
      " token_embed (Embedding)     (None, 24, 128)           1280000   \n",
      "                                                                 \n",
      " global_average_pooling1d (  (None, 128)               0         \n",
      " GlobalAveragePooling1D)                                         \n",
      "                                                                 \n",
      " dense (Dense)               (None, 1)                 129       \n",
      "                                                                 \n",
      "=================================================================\n",
      "Total params: 1280129 (4.88 MB)\n",
      "Trainable params: 1280129 (4.88 MB)\n",
      "Non-trainable params: 0 (0.00 Byte)\n",
      "_________________________________________________________________\n"
     ]
    }
   ],
   "source": [
    "model_1.summary()"
   ]
  },
  {
   "cell_type": "code",
   "execution_count": 23,
   "id": "b3ca8091",
   "metadata": {
    "execution": {
     "iopub.execute_input": "2023-12-26T07:09:09.452344Z",
     "iopub.status.busy": "2023-12-26T07:09:09.451994Z",
     "iopub.status.idle": "2023-12-26T07:09:22.592520Z",
     "shell.execute_reply": "2023-12-26T07:09:22.590803Z"
    },
    "papermill": {
     "duration": 13.165068,
     "end_time": "2023-12-26T07:09:22.595125",
     "exception": false,
     "start_time": "2023-12-26T07:09:09.430057",
     "status": "completed"
    },
    "tags": []
   },
   "outputs": [
    {
     "name": "stdout",
     "output_type": "stream",
     "text": [
      "Epoch 1/5\n",
      "215/215 [==============================] - 3s 11ms/step - loss: 0.6026 - accuracy: 0.7062 - val_loss: 0.5220 - val_accuracy: 0.7848\n",
      "Epoch 2/5\n",
      "215/215 [==============================] - 2s 10ms/step - loss: 0.4202 - accuracy: 0.8313 - val_loss: 0.4793 - val_accuracy: 0.7874\n",
      "Epoch 3/5\n",
      "215/215 [==============================] - 2s 11ms/step - loss: 0.3265 - accuracy: 0.8721 - val_loss: 0.4876 - val_accuracy: 0.7900\n",
      "Epoch 4/5\n",
      "215/215 [==============================] - 2s 11ms/step - loss: 0.2641 - accuracy: 0.8999 - val_loss: 0.5117 - val_accuracy: 0.7874\n",
      "Epoch 5/5\n",
      "215/215 [==============================] - 2s 11ms/step - loss: 0.2170 - accuracy: 0.9225 - val_loss: 0.5446 - val_accuracy: 0.7822\n"
     ]
    }
   ],
   "source": [
    "model_1_history = model_1.fit(train_dataset,\n",
    "                             epochs=5,\n",
    "                             validation_data=(valid_dataset))"
   ]
  },
  {
   "cell_type": "markdown",
   "id": "d8c859ce",
   "metadata": {
    "papermill": {
     "duration": 0.033399,
     "end_time": "2023-12-26T07:09:22.662627",
     "exception": false,
     "start_time": "2023-12-26T07:09:22.629228",
     "status": "completed"
    },
    "tags": []
   },
   "source": [
    "## Model 2: Transfer Learning"
   ]
  },
  {
   "cell_type": "code",
   "execution_count": 24,
   "id": "3feaf95a",
   "metadata": {
    "execution": {
     "iopub.execute_input": "2023-12-26T07:09:22.729208Z",
     "iopub.status.busy": "2023-12-26T07:09:22.728891Z",
     "iopub.status.idle": "2023-12-26T07:09:23.527075Z",
     "shell.execute_reply": "2023-12-26T07:09:23.525388Z"
    },
    "papermill": {
     "duration": 0.834441,
     "end_time": "2023-12-26T07:09:23.529604",
     "exception": false,
     "start_time": "2023-12-26T07:09:22.695163",
     "status": "completed"
    },
    "tags": []
   },
   "outputs": [],
   "source": [
    "import tensorflow_text as text\n",
    "import tensorflow_hub as hub"
   ]
  },
  {
   "cell_type": "code",
   "execution_count": 25,
   "id": "ba7aa40c",
   "metadata": {
    "execution": {
     "iopub.execute_input": "2023-12-26T07:09:23.598960Z",
     "iopub.status.busy": "2023-12-26T07:09:23.598544Z",
     "iopub.status.idle": "2023-12-26T07:09:36.533021Z",
     "shell.execute_reply": "2023-12-26T07:09:36.531039Z"
    },
    "papermill": {
     "duration": 12.971188,
     "end_time": "2023-12-26T07:09:36.535548",
     "exception": false,
     "start_time": "2023-12-26T07:09:23.564360",
     "status": "completed"
    },
    "tags": []
   },
   "outputs": [],
   "source": [
    "sentence_encoder_layer = hub.KerasLayer(\"https://tfhub.dev/google/universal-sentence-encoder/4\",\n",
    "                                        input_shape=[], # shape of inputs coming to our model \n",
    "                                        dtype=tf.string, # data type of inputs coming to the USE layer\n",
    "                                        trainable=False, # keep the pretrained weights (we'll create a feature extractor)\n",
    "                                        name=\"USE\") "
   ]
  },
  {
   "cell_type": "code",
   "execution_count": 26,
   "id": "c0603aae",
   "metadata": {
    "execution": {
     "iopub.execute_input": "2023-12-26T07:09:36.604477Z",
     "iopub.status.busy": "2023-12-26T07:09:36.604110Z",
     "iopub.status.idle": "2023-12-26T07:09:37.508591Z",
     "shell.execute_reply": "2023-12-26T07:09:37.506734Z"
    },
    "papermill": {
     "duration": 0.942986,
     "end_time": "2023-12-26T07:09:37.511473",
     "exception": false,
     "start_time": "2023-12-26T07:09:36.568487",
     "status": "completed"
    },
    "tags": []
   },
   "outputs": [],
   "source": [
    "# Create model using the Sequential API\n",
    "model_2 = tf.keras.Sequential([\n",
    "  sentence_encoder_layer, # take in sentences and then encode them into an embedding\n",
    "  tf.keras.layers.Dense(64, activation=\"relu\"),\n",
    "  tf.keras.layers.Dense(1, activation=\"sigmoid\")\n",
    "], name=\"model_2_USE\")"
   ]
  },
  {
   "cell_type": "code",
   "execution_count": 27,
   "id": "3e7f1389",
   "metadata": {
    "execution": {
     "iopub.execute_input": "2023-12-26T07:09:37.580988Z",
     "iopub.status.busy": "2023-12-26T07:09:37.580474Z",
     "iopub.status.idle": "2023-12-26T07:09:37.584134Z",
     "shell.execute_reply": "2023-12-26T07:09:37.583346Z"
    },
    "papermill": {
     "duration": 0.040627,
     "end_time": "2023-12-26T07:09:37.585993",
     "exception": false,
     "start_time": "2023-12-26T07:09:37.545366",
     "status": "completed"
    },
    "tags": []
   },
   "outputs": [],
   "source": [
    "# import tensorflow_hub as hub\n",
    "# text_input = tf.keras.layers.Input(shape=(), dtype=tf.string, name='text')\n",
    "# preprocessing_layer = hub.KerasLayer(\"https://tfhub.dev/tensorflow/bert_en_uncased_preprocess/3\", name='preprocessing')\n",
    "# encoder_inputs = preprocessing_layer(text_input)\n",
    "# encoder = hub.KerasLayer(\"https://tfhub.dev/google/distilbert_base_uncased/1\", trainable=False, name='BERT_encoder')\n",
    "# outputs = encoder(encoder_inputs)\n",
    "# x = outputs['pooled_output']\n",
    "# x = tf.keras.layers.Dropout(0.1)(x)\n",
    "# x = tf.keras.layers.Dense(1, activation=None, name='classifier')(x)\n",
    "# model_2 = tf.keras.Model(text_input, x, name=\"model_2\")"
   ]
  },
  {
   "cell_type": "code",
   "execution_count": 28,
   "id": "a18f6659",
   "metadata": {
    "execution": {
     "iopub.execute_input": "2023-12-26T07:09:37.659761Z",
     "iopub.status.busy": "2023-12-26T07:09:37.658935Z",
     "iopub.status.idle": "2023-12-26T07:09:37.675700Z",
     "shell.execute_reply": "2023-12-26T07:09:37.673652Z"
    },
    "papermill": {
     "duration": 0.057941,
     "end_time": "2023-12-26T07:09:37.678421",
     "exception": false,
     "start_time": "2023-12-26T07:09:37.620480",
     "status": "completed"
    },
    "tags": []
   },
   "outputs": [],
   "source": [
    "model_2.compile(loss=\"binary_crossentropy\",\n",
    "                optimizer=tf.keras.optimizers.Adam(),\n",
    "                metrics=[\"accuracy\"])"
   ]
  },
  {
   "cell_type": "code",
   "execution_count": 29,
   "id": "46fa30b0",
   "metadata": {
    "execution": {
     "iopub.execute_input": "2023-12-26T07:09:37.750845Z",
     "iopub.status.busy": "2023-12-26T07:09:37.749476Z",
     "iopub.status.idle": "2023-12-26T07:09:37.779258Z",
     "shell.execute_reply": "2023-12-26T07:09:37.777512Z"
    },
    "papermill": {
     "duration": 0.073904,
     "end_time": "2023-12-26T07:09:37.787414",
     "exception": false,
     "start_time": "2023-12-26T07:09:37.713510",
     "status": "completed"
    },
    "tags": []
   },
   "outputs": [
    {
     "name": "stdout",
     "output_type": "stream",
     "text": [
      "Model: \"model_2_USE\"\n",
      "_________________________________________________________________\n",
      " Layer (type)                Output Shape              Param #   \n",
      "=================================================================\n",
      " USE (KerasLayer)            (None, 512)               256797824 \n",
      "                                                                 \n",
      " dense_1 (Dense)             (None, 64)                32832     \n",
      "                                                                 \n",
      " dense_2 (Dense)             (None, 1)                 65        \n",
      "                                                                 \n",
      "=================================================================\n",
      "Total params: 256830721 (979.73 MB)\n",
      "Trainable params: 32897 (128.50 KB)\n",
      "Non-trainable params: 256797824 (979.61 MB)\n",
      "_________________________________________________________________\n"
     ]
    }
   ],
   "source": [
    "model_2.summary()"
   ]
  },
  {
   "cell_type": "code",
   "execution_count": 30,
   "id": "1abb14d5",
   "metadata": {
    "execution": {
     "iopub.execute_input": "2023-12-26T07:09:37.865830Z",
     "iopub.status.busy": "2023-12-26T07:09:37.865476Z",
     "iopub.status.idle": "2023-12-26T07:09:38.140696Z",
     "shell.execute_reply": "2023-12-26T07:09:38.139775Z"
    },
    "papermill": {
     "duration": 0.315424,
     "end_time": "2023-12-26T07:09:38.143109",
     "exception": false,
     "start_time": "2023-12-26T07:09:37.827685",
     "status": "completed"
    },
    "tags": []
   },
   "outputs": [
    {
     "data": {
      "image/png": "[encoded data removed]",
      "text/plain": [
       "<IPython.core.display.Image object>"
      ]
     },
     "execution_count": 30,
     "metadata": {},
     "output_type": "execute_result"
    }
   ],
   "source": [
    "tf.keras.utils.plot_model(model_2)"
   ]
  },
  {
   "cell_type": "code",
   "execution_count": 31,
   "id": "d06bfea0",
   "metadata": {
    "execution": {
     "iopub.execute_input": "2023-12-26T07:09:38.226146Z",
     "iopub.status.busy": "2023-12-26T07:09:38.225419Z",
     "iopub.status.idle": "2023-12-26T07:09:38.230533Z",
     "shell.execute_reply": "2023-12-26T07:09:38.229713Z"
    },
    "papermill": {
     "duration": 0.048439,
     "end_time": "2023-12-26T07:09:38.233060",
     "exception": false,
     "start_time": "2023-12-26T07:09:38.184621",
     "status": "completed"
    },
    "tags": []
   },
   "outputs": [],
   "source": [
    "# early_stopping = tf.keras.callbacks.EarlyStopping(\n",
    "#     monitor='val_loss',  # Metric to monitor\n",
    "#     patience=3,  # Number of epochs with no improvement after which training will be stopped\n",
    "#     verbose=1,  # Logs when training is stopped\n",
    "#     restore_best_weights=True  # Restores model weights from the epoch with the best value of the monitored quantity\n",
    "# )\n",
    "early_stopping_callback = tf.keras.callbacks.EarlyStopping(monitor=\"val_loss\",\n",
    "                                                          patience=5,\n",
    "                                                          restore_best_weights=True)"
   ]
  },
  {
   "cell_type": "code",
   "execution_count": 32,
   "id": "f8d530e8",
   "metadata": {
    "execution": {
     "iopub.execute_input": "2023-12-26T07:09:38.314485Z",
     "iopub.status.busy": "2023-12-26T07:09:38.313975Z",
     "iopub.status.idle": "2023-12-26T07:10:21.428775Z",
     "shell.execute_reply": "2023-12-26T07:10:21.427117Z"
    },
    "papermill": {
     "duration": 43.161432,
     "end_time": "2023-12-26T07:10:21.431387",
     "exception": false,
     "start_time": "2023-12-26T07:09:38.269955",
     "status": "completed"
    },
    "tags": []
   },
   "outputs": [
    {
     "name": "stdout",
     "output_type": "stream",
     "text": [
      "Epoch 1/100\n",
      "215/215 [==============================] - 6s 18ms/step - loss: 0.5112 - accuracy: 0.7714 - val_loss: 0.4233 - val_accuracy: 0.8110\n",
      "Epoch 2/100\n",
      "215/215 [==============================] - 3s 14ms/step - loss: 0.4191 - accuracy: 0.8146 - val_loss: 0.4068 - val_accuracy: 0.8189\n",
      "Epoch 3/100\n",
      "215/215 [==============================] - 3s 14ms/step - loss: 0.4050 - accuracy: 0.8205 - val_loss: 0.4026 - val_accuracy: 0.8228\n",
      "Epoch 4/100\n",
      "215/215 [==============================] - 3s 14ms/step - loss: 0.3958 - accuracy: 0.8259 - val_loss: 0.4008 - val_accuracy: 0.8228\n",
      "Epoch 5/100\n",
      "215/215 [==============================] - 3s 14ms/step - loss: 0.3881 - accuracy: 0.8300 - val_loss: 0.4003 - val_accuracy: 0.8268\n",
      "Epoch 6/100\n",
      "215/215 [==============================] - 3s 15ms/step - loss: 0.3808 - accuracy: 0.8323 - val_loss: 0.3999 - val_accuracy: 0.8268\n",
      "Epoch 7/100\n",
      "215/215 [==============================] - 3s 14ms/step - loss: 0.3738 - accuracy: 0.8361 - val_loss: 0.3999 - val_accuracy: 0.8255\n",
      "Epoch 8/100\n",
      "215/215 [==============================] - 2s 11ms/step - loss: 0.3667 - accuracy: 0.8381 - val_loss: 0.4000 - val_accuracy: 0.8320\n",
      "Epoch 9/100\n",
      "215/215 [==============================] - 2s 11ms/step - loss: 0.3597 - accuracy: 0.8409 - val_loss: 0.4004 - val_accuracy: 0.8320\n",
      "Epoch 10/100\n",
      "215/215 [==============================] - 2s 11ms/step - loss: 0.3526 - accuracy: 0.8432 - val_loss: 0.4013 - val_accuracy: 0.8294\n",
      "Epoch 11/100\n",
      "215/215 [==============================] - 2s 10ms/step - loss: 0.3454 - accuracy: 0.8481 - val_loss: 0.4024 - val_accuracy: 0.8307\n",
      "Epoch 12/100\n",
      "215/215 [==============================] - 3s 12ms/step - loss: 0.3383 - accuracy: 0.8511 - val_loss: 0.4035 - val_accuracy: 0.8294\n"
     ]
    }
   ],
   "source": [
    "model_2_history = model_2.fit(train_dataset,\n",
    "                             epochs=100,\n",
    "                             validation_data=(valid_dataset),\n",
    "                             callbacks=[early_stopping_callback])"
   ]
  },
  {
   "cell_type": "code",
   "execution_count": 33,
   "id": "4c6dfa45",
   "metadata": {
    "execution": {
     "iopub.execute_input": "2023-12-26T07:10:21.561083Z",
     "iopub.status.busy": "2023-12-26T07:10:21.560716Z",
     "iopub.status.idle": "2023-12-26T07:10:21.764865Z",
     "shell.execute_reply": "2023-12-26T07:10:21.763751Z"
    },
    "papermill": {
     "duration": 0.272693,
     "end_time": "2023-12-26T07:10:21.767319",
     "exception": false,
     "start_time": "2023-12-26T07:10:21.494626",
     "status": "completed"
    },
    "tags": []
   },
   "outputs": [
    {
     "name": "stdout",
     "output_type": "stream",
     "text": [
      "24/24 [==============================] - 0s 8ms/step - loss: 0.3999 - accuracy: 0.8255\n"
     ]
    },
    {
     "data": {
      "text/plain": [
       "[0.399919718503952, 0.8254593014717102]"
      ]
     },
     "execution_count": 33,
     "metadata": {},
     "output_type": "execute_result"
    }
   ],
   "source": [
    "model_2.evaluate(valid_dataset)"
   ]
  },
  {
   "cell_type": "code",
   "execution_count": 34,
   "id": "71d16629",
   "metadata": {
    "execution": {
     "iopub.execute_input": "2023-12-26T07:10:21.893616Z",
     "iopub.status.busy": "2023-12-26T07:10:21.893218Z",
     "iopub.status.idle": "2023-12-26T07:10:25.787501Z",
     "shell.execute_reply": "2023-12-26T07:10:25.786176Z"
    },
    "papermill": {
     "duration": 3.959549,
     "end_time": "2023-12-26T07:10:25.789512",
     "exception": false,
     "start_time": "2023-12-26T07:10:21.829963",
     "status": "completed"
    },
    "tags": []
   },
   "outputs": [
    {
     "data": {
      "text/plain": [
       "<tf.Tensor: shape=(1, 512), dtype=float32, numpy=\n",
       "array([[ 3.59669104e-02, -8.57946873e-02, -1.15274275e-02,\n",
       "         5.25982305e-03, -1.85217243e-02, -5.04201166e-02,\n",
       "        -3.61694135e-02,  5.34677319e-03,  4.80591655e-02,\n",
       "         4.69074361e-02, -3.72333042e-02, -1.14954598e-02,\n",
       "         4.35241461e-02,  7.05099106e-02,  7.09376037e-02,\n",
       "        -8.18043128e-02,  8.71716719e-03, -4.65412140e-02,\n",
       "        -2.24577561e-02,  4.68687192e-02,  2.02255719e-03,\n",
       "         3.09907217e-02,  2.04356313e-02,  6.39216825e-02,\n",
       "        -7.64108598e-02,  8.42117891e-02, -4.57604155e-02,\n",
       "        -1.06165453e-03, -2.05941647e-02,  1.24110589e-02,\n",
       "         5.72753921e-02,  3.81562002e-02, -2.74211802e-02,\n",
       "        -3.54347494e-03, -9.83258560e-02, -1.24485437e-02,\n",
       "         3.86562981e-02,  5.03195338e-02, -2.36250591e-02,\n",
       "         3.21848248e-03,  3.22520882e-02,  7.38095073e-03,\n",
       "         4.47310396e-02, -4.12235968e-03,  1.15160132e-02,\n",
       "         2.83772387e-02,  6.01386302e-04, -5.90335354e-02,\n",
       "        -4.94347280e-03, -6.88527431e-03, -4.12424169e-02,\n",
       "        -2.07700115e-03, -1.77201983e-02, -2.27782112e-02,\n",
       "        -2.42898297e-02,  1.39937820e-02, -5.17674796e-02,\n",
       "         5.97374998e-02,  3.81307378e-02, -3.59316505e-02,\n",
       "         3.09860446e-02,  6.09485433e-03, -4.37486842e-02,\n",
       "        -5.38942926e-02, -4.32431735e-02, -3.92870679e-02,\n",
       "         5.61528504e-02,  3.82246706e-03,  6.57869549e-03,\n",
       "        -4.53822017e-02,  3.96313481e-02, -5.69341145e-03,\n",
       "        -2.00726055e-02,  8.17294195e-02,  4.15083915e-02,\n",
       "         3.72894853e-02, -6.70029521e-02, -5.10405190e-02,\n",
       "        -2.56260186e-02,  1.60032213e-02,  3.81825268e-02,\n",
       "        -8.70015658e-03, -2.34965291e-02,  1.55745624e-02,\n",
       "         5.66765331e-02,  7.38508403e-02,  1.52101796e-02,\n",
       "        -8.41723289e-03, -6.44073635e-02, -5.55147976e-02,\n",
       "         7.97353312e-02,  3.61875142e-03,  6.64433539e-02,\n",
       "         2.87908632e-02, -2.44696643e-02,  2.12148149e-02,\n",
       "        -1.03562616e-01, -4.12506908e-02,  2.98409052e-02,\n",
       "        -9.24953595e-02,  4.00588615e-03,  6.01527244e-02,\n",
       "        -3.41755003e-02,  3.29850353e-02, -4.83456142e-02,\n",
       "        -3.69678251e-02,  1.21584861e-02, -2.31851619e-02,\n",
       "        -4.88560051e-02,  3.28469612e-02, -4.62380089e-02,\n",
       "         3.91756278e-03, -3.57808359e-02, -1.83102041e-02,\n",
       "        -3.70730087e-02,  3.35950032e-02,  5.02075367e-02,\n",
       "        -5.49601465e-02,  4.69865017e-02, -3.31131369e-02,\n",
       "         1.66334976e-02, -3.02660111e-02,  6.20632172e-02,\n",
       "        -4.43871841e-02,  6.67187944e-02, -6.10228628e-03,\n",
       "         3.40605080e-02, -5.00078686e-02,  2.04585260e-03,\n",
       "         3.39132398e-02, -3.10870782e-02, -1.93445925e-02,\n",
       "         7.54030049e-02, -6.52688220e-02,  5.25344461e-02,\n",
       "        -6.12028502e-02, -3.02657727e-02,  4.56587551e-03,\n",
       "        -8.89162868e-02, -4.83766720e-02, -2.00605262e-02,\n",
       "        -3.86419035e-02,  1.66885965e-02, -1.47099299e-02,\n",
       "         1.01379864e-02, -8.22198540e-02,  2.74562407e-02,\n",
       "        -3.86098213e-03, -1.09152887e-02, -5.79520538e-02,\n",
       "         2.82120109e-02, -1.71919707e-02,  3.00881453e-02,\n",
       "         2.37060748e-02, -2.33154069e-03, -2.97773238e-02,\n",
       "         1.91768687e-02,  5.16294092e-02, -1.44551247e-02,\n",
       "         1.86847970e-02, -2.49356478e-02,  3.22919488e-02,\n",
       "         2.82293409e-02, -2.51184143e-02, -1.08434986e-02,\n",
       "         3.01642809e-02,  5.04591502e-04, -2.27955673e-02,\n",
       "         2.47641988e-02,  6.97232559e-02,  6.99917274e-03,\n",
       "        -7.34951161e-03,  9.45000499e-02, -6.13124780e-02,\n",
       "         2.62528770e-02,  3.58930118e-02,  6.17794041e-03,\n",
       "         3.43658775e-02,  1.17269838e-02,  4.01629470e-02,\n",
       "         1.53442472e-02,  4.48108371e-03,  5.02520911e-02,\n",
       "         1.88765489e-02,  3.31166796e-02, -2.70847231e-02,\n",
       "        -6.57292223e-03,  8.24265555e-02,  1.05237104e-02,\n",
       "         3.99747752e-02,  2.82466621e-03, -1.24388905e-02,\n",
       "        -3.28871747e-03, -7.26752877e-02, -1.81361043e-03,\n",
       "        -2.76129469e-02,  6.45669401e-02,  5.02010472e-02,\n",
       "         6.75971806e-02,  9.59104113e-03, -8.90628770e-02,\n",
       "         1.17860874e-02,  2.72054579e-02, -3.41815525e-03,\n",
       "        -8.05912465e-02, -5.22511080e-02, -3.81539552e-03,\n",
       "        -4.17377092e-02, -9.68295336e-03,  3.78751308e-02,\n",
       "        -5.67596816e-02, -2.05952711e-02, -1.14134215e-02,\n",
       "        -2.83810738e-02,  9.09044072e-02,  3.93447524e-04,\n",
       "        -2.67902762e-03,  1.53436465e-03,  6.49558231e-02,\n",
       "         5.22872619e-02,  1.80281438e-02,  1.84829552e-02,\n",
       "         1.61396414e-02,  5.27072288e-02, -4.12999056e-02,\n",
       "        -4.80413213e-02, -2.36369204e-02, -2.67371200e-02,\n",
       "         3.93583998e-02,  7.55005376e-03, -6.21337853e-02,\n",
       "        -1.67872924e-02,  1.47809135e-03, -5.64959720e-02,\n",
       "         5.52060865e-02, -1.27272941e-02,  1.03164591e-01,\n",
       "        -1.69769656e-02, -2.17627510e-02, -1.17612286e-02,\n",
       "         1.40766259e-02, -1.40489535e-02,  6.19004555e-02,\n",
       "        -3.57006304e-02,  1.31614264e-02, -3.44647504e-02,\n",
       "        -7.06140092e-03,  1.24527169e-02,  8.55674818e-02,\n",
       "         5.42758591e-02, -3.89169194e-02, -7.57954717e-02,\n",
       "        -1.40139572e-02,  1.48370443e-02,  9.68214497e-02,\n",
       "        -1.03704758e-01,  3.29137146e-02, -6.21125400e-02,\n",
       "         1.86114740e-02, -2.82176267e-02, -7.13014323e-03,\n",
       "         4.11865069e-03, -8.93324912e-02, -5.72975539e-02,\n",
       "         4.44728173e-02,  2.29126122e-02,  4.30734223e-03,\n",
       "        -6.96439147e-02, -6.36359677e-02, -2.61848159e-02,\n",
       "        -6.48371652e-02, -9.65941474e-02,  5.09348139e-02,\n",
       "        -8.90865326e-02, -3.94751914e-02, -2.23109536e-02,\n",
       "        -2.93314215e-02,  3.75236943e-02,  4.67260703e-02,\n",
       "         8.62412080e-02, -2.14184057e-02, -5.29951602e-02,\n",
       "         5.89277968e-02,  1.65255722e-02, -1.04241502e-02,\n",
       "        -2.38159727e-02,  1.38605097e-02,  2.62649842e-02,\n",
       "         5.47960103e-02, -4.24158275e-02,  3.17361066e-03,\n",
       "        -3.96554358e-02, -7.35218003e-02,  2.73186504e-03,\n",
       "        -2.72395392e-03, -3.98468450e-02, -4.29545268e-02,\n",
       "         2.14427803e-02,  3.84629294e-02,  3.88851911e-02,\n",
       "         5.13683306e-03, -4.95571718e-02, -3.24903652e-02,\n",
       "         2.83539910e-02, -4.67896536e-02,  1.97179299e-02,\n",
       "        -4.20575328e-02, -7.54898638e-02, -1.03863399e-03,\n",
       "        -6.73990846e-02,  3.91278006e-02,  4.40352261e-02,\n",
       "        -8.06924552e-02, -2.36365721e-02,  5.99047504e-02,\n",
       "         2.12464621e-03,  2.21580118e-02,  4.36153412e-02,\n",
       "         2.49224412e-03,  4.98775207e-03,  7.48325605e-03,\n",
       "        -2.41463929e-02,  4.05475833e-02,  2.91890893e-02,\n",
       "        -1.10162618e-02, -5.65643162e-02, -6.73807636e-02,\n",
       "         4.05558571e-02, -8.50009471e-02, -5.40723391e-02,\n",
       "         7.34482110e-02, -7.35008046e-02,  7.54501158e-03,\n",
       "        -7.00687692e-02,  4.39716466e-02, -2.71129999e-02,\n",
       "        -6.92854971e-02, -2.58241743e-02,  3.92786302e-02,\n",
       "         5.67648746e-02,  1.59088895e-02,  2.35410146e-02,\n",
       "        -5.06520681e-02,  1.17191877e-02, -6.92344531e-02,\n",
       "         1.38218021e-02,  1.09325098e-02,  7.00728893e-02,\n",
       "        -1.26283066e-02,  7.97541440e-02, -3.13802809e-02,\n",
       "        -4.11442146e-02, -3.50070745e-02, -4.26069349e-02,\n",
       "         4.05677110e-02,  7.93018416e-02, -9.75148305e-02,\n",
       "        -1.42815765e-02,  2.42777336e-02, -7.38642067e-02,\n",
       "        -1.56750157e-02, -3.48734483e-02, -5.93835339e-02,\n",
       "        -4.12432365e-02, -4.60711075e-03,  3.71533111e-02,\n",
       "         2.14900598e-02,  5.58095276e-02,  2.14638896e-02,\n",
       "        -6.75328374e-02,  1.01270585e-03,  5.95025197e-02,\n",
       "         1.24676106e-03,  3.76901664e-02,  4.18491513e-02,\n",
       "        -2.79387459e-02, -4.01746631e-02, -8.21424834e-03,\n",
       "        -5.58206625e-02, -1.60544906e-02, -4.75718491e-02,\n",
       "        -5.95801920e-02, -1.01037407e-02, -7.33452067e-02,\n",
       "        -1.84457712e-02,  3.76496129e-02, -8.28180313e-02,\n",
       "         7.54492171e-03, -2.76729763e-02, -3.70695889e-02,\n",
       "        -4.07462008e-02,  7.34208757e-03, -3.86688090e-03,\n",
       "        -1.10412011e-05,  3.76898386e-02,  1.45606184e-02,\n",
       "         2.78660888e-03, -6.57309070e-02, -2.55980715e-02,\n",
       "        -4.81109843e-02,  1.18657360e-02, -2.13191174e-02,\n",
       "         3.31167621e-03,  4.66567352e-02,  4.63188067e-02,\n",
       "        -3.60700563e-02, -7.05618635e-02, -7.14360178e-02,\n",
       "        -9.04082786e-03,  2.11611893e-02, -4.92307954e-02,\n",
       "         3.87155823e-02,  7.73286894e-02,  1.89449191e-02,\n",
       "         3.85826752e-02, -6.83923960e-02, -5.28842211e-02,\n",
       "         8.54228660e-02,  1.28640411e-02,  2.20266078e-02,\n",
       "         2.16055308e-02,  5.56477928e-04,  1.64826363e-02,\n",
       "        -3.31564397e-02,  8.13280344e-02, -2.25724392e-02,\n",
       "        -4.43336144e-02,  7.10498765e-02, -8.87572840e-02,\n",
       "         5.36288284e-02, -6.93188459e-02, -2.98249465e-03,\n",
       "         4.52212580e-02,  4.61279564e-02,  3.65344770e-02,\n",
       "         4.84847240e-02, -2.92588528e-02,  7.36933053e-02,\n",
       "         3.66693325e-02, -6.80679232e-02,  3.96359526e-03,\n",
       "        -9.04875919e-02, -6.32659942e-02, -5.38307987e-02,\n",
       "         6.08242899e-02, -1.84412934e-02,  4.89365384e-02,\n",
       "        -5.12656756e-02, -1.50806140e-02, -5.71213290e-03,\n",
       "        -5.10706715e-02, -6.49115443e-02, -1.13350083e-03,\n",
       "         1.27703352e-02,  1.82183105e-02, -8.28226283e-02,\n",
       "         2.10518437e-03, -3.31831463e-02,  5.95652163e-02,\n",
       "         3.61991227e-02,  5.35384640e-02, -2.25340743e-02,\n",
       "         2.64133215e-02, -3.91572677e-02, -5.87077700e-02,\n",
       "        -1.03312604e-01,  7.44982332e-04,  1.97312124e-02,\n",
       "         3.94937135e-02,  9.22513306e-02, -2.05244888e-02,\n",
       "         2.21597645e-02, -3.13704535e-02, -1.32244062e-02,\n",
       "         4.00840454e-02, -1.50230555e-02,  6.54290244e-02,\n",
       "        -6.08944334e-02,  7.63139571e-04, -3.62863131e-02,\n",
       "         4.91616279e-02, -6.04683384e-02, -1.77060775e-02,\n",
       "         2.45514186e-03, -4.52068225e-02,  3.63887697e-02,\n",
       "        -9.97238085e-02, -2.95221955e-02,  8.41336604e-03,\n",
       "        -8.18829536e-02,  1.82565190e-02,  1.11088259e-02,\n",
       "        -3.46704014e-02, -1.07370624e-02, -4.20162492e-02,\n",
       "        -2.58049741e-02,  3.06181330e-02,  1.86228398e-02,\n",
       "         2.78460630e-03, -3.67320632e-03,  5.00444323e-02,\n",
       "        -2.75492594e-02,  4.84464467e-02,  7.04697818e-02,\n",
       "         9.36839804e-02,  2.49330979e-02, -4.27237116e-02,\n",
       "        -3.15812379e-02, -4.44082879e-02, -3.41433547e-02,\n",
       "         2.81602386e-02, -8.78943969e-03]], dtype=float32)>"
      ]
     },
     "execution_count": 34,
     "metadata": {},
     "output_type": "execute_result"
    }
   ],
   "source": [
    "import tensorflow_hub as hub\n",
    "embed = hub.load(\"https://tfhub.dev/google/universal-sentence-encoder/4\") # load Universal Sentence Encoder\n",
    "embed_samples = embed([\"When you call the universal sentence encoder on a sentence, it turns it into numbers.\"])\n",
    "embed_samples"
   ]
  },
  {
   "cell_type": "code",
   "execution_count": 35,
   "id": "1fb2be69",
   "metadata": {
    "execution": {
     "iopub.execute_input": "2023-12-26T07:10:25.916322Z",
     "iopub.status.busy": "2023-12-26T07:10:25.915999Z",
     "iopub.status.idle": "2023-12-26T07:10:25.921064Z",
     "shell.execute_reply": "2023-12-26T07:10:25.920006Z"
    },
    "papermill": {
     "duration": 0.070406,
     "end_time": "2023-12-26T07:10:25.922775",
     "exception": false,
     "start_time": "2023-12-26T07:10:25.852369",
     "status": "completed"
    },
    "tags": []
   },
   "outputs": [],
   "source": [
    "# import tensorflow_hub as hub\n",
    "# embed = hub.load(\"https://tfhub.dev/google/universal-sentence-encoder/4\") # load Universal Sentence Encoder\n",
    "# embed_samples = embed([sample_sentence,\n",
    "#                       \"When you call the universal sentence encoder on a sentence, it turns it into numbers.\"])\n",
    "\n",
    "# print(embed_samples[0][:50])\n",
    "\n",
    "# We can use this encoding layer in place of our text_vectorizer and embedding layer\n",
    "# sentence_encoder_layer = hub.KerasLayer(\"https://tfhub.dev/google/universal-sentence-encoder/4\",\n",
    "#                                         input_shape=[], # shape of inputs coming to our model \n",
    "#                                         dtype=tf.string, # data type of inputs coming to the USE layer\n",
    "#                                         trainable=False, # keep the pretrained weights (we'll create a feature extractor)\n",
    "#                                         name=\"USE\") \n",
    "\n",
    "# Create model using the Sequential API\n",
    "# model_6 = tf.keras.Sequential([\n",
    "#   sentence_encoder_layer, # take in sentences and then encode them into an embedding\n",
    "#   layers.Dense(64, activation=\"relu\"),\n",
    "#   layers.Dense(1, activation=\"sigmoid\")\n",
    "# ], name=\"model_6_USE\")\n",
    "\n",
    "# # Compile model\n",
    "# model_6.compile(loss=\"binary_crossentropy\",\n",
    "#                 optimizer=tf.keras.optimizers.Adam(),\n",
    "#                 metrics=[\"accuracy\"])\n",
    "\n",
    "# model_6.summary()\n",
    "\n",
    "# text_input = tf.keras.layers.Input(shape=(), dtype=tf.string)\n",
    "# preprocessor = hub.KerasLayer(\n",
    "#     \"https://kaggle.com/models/tensorflow/bert/frameworks/TensorFlow2/variations/en-uncased-preprocess/versions/3\")\n",
    "# encoder_inputs = preprocessor(text_input)\n",
    "# encoder = hub.KerasLayer(\n",
    "#     \"https://www.kaggle.com/models/tensorflow/bert/frameworks/TensorFlow2/variations/bert-en-uncased-l-10-h-128-a-2/versions/2\",\n",
    "#     trainable=True)\n",
    "# outputs = encoder(encoder_inputs)\n",
    "# pooled_output = outputs[\"pooled_output\"]      # [batch_size, 128].\n",
    "# sequence_output = outputs[\"sequence_output\"]  # [batch_size, seq_length, 128].\n",
    "\n"
   ]
  },
  {
   "cell_type": "code",
   "execution_count": 36,
   "id": "d76d4dac",
   "metadata": {
    "execution": {
     "iopub.execute_input": "2023-12-26T07:10:26.048462Z",
     "iopub.status.busy": "2023-12-26T07:10:26.047535Z",
     "iopub.status.idle": "2023-12-26T07:10:26.053201Z",
     "shell.execute_reply": "2023-12-26T07:10:26.051883Z"
    },
    "papermill": {
     "duration": 0.071358,
     "end_time": "2023-12-26T07:10:26.055325",
     "exception": false,
     "start_time": "2023-12-26T07:10:25.983967",
     "status": "completed"
    },
    "tags": []
   },
   "outputs": [],
   "source": [
    "# # Code below is adapted from: https://www.tensorflow.org/tutorials/text/word_embeddings#retrieve_the_trained_word_embeddings_and_save_them_to_disk\n",
    "# import io\n",
    "\n",
    "# # Create output writers\n",
    "# out_v = io.open(\"embedding_vectors.tsv\", \"w\", encoding=\"utf-8\")\n",
    "# out_m = io.open(\"embedding_metadata.tsv\", \"w\", encoding=\"utf-8\")\n",
    "\n",
    "# # Write embedding vectors and words to file\n",
    "# for num, word in enumerate(words_in_vocab):\n",
    "#   if num == 0: \n",
    "#      continue # skip padding token\n",
    "#   vec = embed_weights[num]\n",
    "#   out_m.write(word + \"\\n\") # write words to file\n",
    "#   out_v.write(\"\\t\".join([str(x) for x in vec]) + \"\\n\") # write corresponding word vector to file\n",
    "# out_v.close()\n",
    "# out_m.close()\n",
    "\n",
    "# # Download files locally to upload to Embedding Projector\n",
    "# try:\n",
    "#   from google.colab import files\n",
    "# except ImportError:\n",
    "#   pass\n",
    "# else:\n",
    "#   files.download(\"embedding_vectors.tsv\")\n",
    "#   files.download(\"embedding_metadata.tsv\")"
   ]
  },
  {
   "cell_type": "markdown",
   "id": "ddac81f0",
   "metadata": {
    "papermill": {
     "duration": 0.064159,
     "end_time": "2023-12-26T07:10:26.182875",
     "exception": false,
     "start_time": "2023-12-26T07:10:26.118716",
     "status": "completed"
    },
    "tags": []
   },
   "source": [
    "## Model 3: LSTM "
   ]
  },
  {
   "cell_type": "code",
   "execution_count": 37,
   "id": "900cdeb4",
   "metadata": {
    "execution": {
     "iopub.execute_input": "2023-12-26T07:10:26.319622Z",
     "iopub.status.busy": "2023-12-26T07:10:26.319111Z",
     "iopub.status.idle": "2023-12-26T07:10:27.264214Z",
     "shell.execute_reply": "2023-12-26T07:10:27.262674Z"
    },
    "papermill": {
     "duration": 1.019704,
     "end_time": "2023-12-26T07:10:27.266810",
     "exception": false,
     "start_time": "2023-12-26T07:10:26.247106",
     "status": "completed"
    },
    "tags": []
   },
   "outputs": [],
   "source": [
    "inputs = tf.keras.layers.Input(shape=(), dtype=\"string\")\n",
    "x = text_vectorizer(inputs)\n",
    "x = token_embedding(x)\n",
    "x = tf.keras.layers.LSTM(64)(x)\n",
    "outputs = tf.keras.layers.Dense(1, activation=\"sigmoid\")(x)\n",
    "\n",
    "model_3 = tf.keras.Model(inputs, outputs, name=\"model_3_lstm\")\n",
    "\n",
    "# inputs = tf.keras.Input(shape=(1,), dtype=\"string\") # 1 dimensional strings\n",
    "\n",
    "# x = text_vectorizer(inputs) # turn input text into numbers\n",
    "# x = token_embedding(x)\n",
    "\n",
    "# x = tf.keras.layers.GlobalAveragePooling1D()(x)\n",
    "\n",
    "# outputs = tf.keras.layers.Dense(1, activation=\"sigmoid\")(x)\n",
    "\n",
    "# model_1 = tf.keras.Model(inputs, outputs, name=\"model_1\")"
   ]
  },
  {
   "cell_type": "code",
   "execution_count": 38,
   "id": "a5b1e04e",
   "metadata": {
    "execution": {
     "iopub.execute_input": "2023-12-26T07:10:27.395336Z",
     "iopub.status.busy": "2023-12-26T07:10:27.394764Z",
     "iopub.status.idle": "2023-12-26T07:10:27.404724Z",
     "shell.execute_reply": "2023-12-26T07:10:27.404074Z"
    },
    "papermill": {
     "duration": 0.075992,
     "end_time": "2023-12-26T07:10:27.406796",
     "exception": false,
     "start_time": "2023-12-26T07:10:27.330804",
     "status": "completed"
    },
    "tags": []
   },
   "outputs": [],
   "source": [
    "model_3.compile(loss=\"binary_crossentropy\",\n",
    "                optimizer=tf.keras.optimizers.Adam(),\n",
    "                metrics=[\"accuracy\"])"
   ]
  },
  {
   "cell_type": "code",
   "execution_count": 39,
   "id": "e4ebde22",
   "metadata": {
    "execution": {
     "iopub.execute_input": "2023-12-26T07:10:27.536085Z",
     "iopub.status.busy": "2023-12-26T07:10:27.535712Z",
     "iopub.status.idle": "2023-12-26T07:10:27.563443Z",
     "shell.execute_reply": "2023-12-26T07:10:27.561565Z"
    },
    "papermill": {
     "duration": 0.09679,
     "end_time": "2023-12-26T07:10:27.566153",
     "exception": false,
     "start_time": "2023-12-26T07:10:27.469363",
     "status": "completed"
    },
    "tags": []
   },
   "outputs": [
    {
     "name": "stdout",
     "output_type": "stream",
     "text": [
      "Model: \"model_3_lstm\"\n",
      "_________________________________________________________________\n",
      " Layer (type)                Output Shape              Param #   \n",
      "=================================================================\n",
      " input_2 (InputLayer)        [(None,)]                 0         \n",
      "                                                                 \n",
      " text_vectorization (TextVe  (None, 24)                0         \n",
      " ctorization)                                                    \n",
      "                                                                 \n",
      " token_embed (Embedding)     (None, 24, 128)           1280000   \n",
      "                                                                 \n",
      " lstm (LSTM)                 (None, 64)                49408     \n",
      "                                                                 \n",
      " dense_3 (Dense)             (None, 1)                 65        \n",
      "                                                                 \n",
      "=================================================================\n",
      "Total params: 1329473 (5.07 MB)\n",
      "Trainable params: 1329473 (5.07 MB)\n",
      "Non-trainable params: 0 (0.00 Byte)\n",
      "_________________________________________________________________\n"
     ]
    }
   ],
   "source": [
    "model_3.summary()"
   ]
  },
  {
   "cell_type": "code",
   "execution_count": 40,
   "id": "630b569d",
   "metadata": {
    "execution": {
     "iopub.execute_input": "2023-12-26T07:10:27.697472Z",
     "iopub.status.busy": "2023-12-26T07:10:27.697083Z",
     "iopub.status.idle": "2023-12-26T07:11:07.561984Z",
     "shell.execute_reply": "2023-12-26T07:11:07.561140Z"
    },
    "papermill": {
     "duration": 39.932164,
     "end_time": "2023-12-26T07:11:07.564635",
     "exception": false,
     "start_time": "2023-12-26T07:10:27.632471",
     "status": "completed"
    },
    "tags": []
   },
   "outputs": [
    {
     "name": "stdout",
     "output_type": "stream",
     "text": [
      "Epoch 1/100\n",
      "215/215 [==============================] - 10s 29ms/step - loss: 0.2038 - accuracy: 0.9355 - val_loss: 0.6440 - val_accuracy: 0.7533\n",
      "Epoch 2/100\n",
      "215/215 [==============================] - 5s 24ms/step - loss: 0.1408 - accuracy: 0.9479 - val_loss: 0.7683 - val_accuracy: 0.7598\n",
      "Epoch 3/100\n",
      "215/215 [==============================] - 5s 23ms/step - loss: 0.1099 - accuracy: 0.9588 - val_loss: 0.9327 - val_accuracy: 0.7546\n",
      "Epoch 4/100\n",
      "215/215 [==============================] - 5s 23ms/step - loss: 0.0874 - accuracy: 0.9664 - val_loss: 1.0929 - val_accuracy: 0.7415\n",
      "Epoch 5/100\n",
      "215/215 [==============================] - 5s 25ms/step - loss: 0.0734 - accuracy: 0.9711 - val_loss: 1.1178 - val_accuracy: 0.7402\n",
      "Epoch 6/100\n",
      "215/215 [==============================] - 5s 25ms/step - loss: 0.0657 - accuracy: 0.9720 - val_loss: 1.0928 - val_accuracy: 0.7454\n"
     ]
    }
   ],
   "source": [
    "model_3_history = model_3.fit(train_dataset,\n",
    "                             epochs=100,\n",
    "                             validation_data=(valid_dataset),\n",
    "                             callbacks=[early_stopping_callback])"
   ]
  },
  {
   "cell_type": "code",
   "execution_count": 41,
   "id": "52699d70",
   "metadata": {
    "execution": {
     "iopub.execute_input": "2023-12-26T07:11:07.819070Z",
     "iopub.status.busy": "2023-12-26T07:11:07.818666Z",
     "iopub.status.idle": "2023-12-26T07:11:08.136134Z",
     "shell.execute_reply": "2023-12-26T07:11:08.134405Z"
    },
    "papermill": {
     "duration": 0.47971,
     "end_time": "2023-12-26T07:11:08.138947",
     "exception": false,
     "start_time": "2023-12-26T07:11:07.659237",
     "status": "completed"
    },
    "tags": []
   },
   "outputs": [
    {
     "name": "stdout",
     "output_type": "stream",
     "text": [
      "24/24 [==============================] - 0s 7ms/step - loss: 0.6440 - accuracy: 0.7533\n"
     ]
    },
    {
     "data": {
      "text/plain": [
       "[0.6439670324325562, 0.7532808184623718]"
      ]
     },
     "execution_count": 41,
     "metadata": {},
     "output_type": "execute_result"
    }
   ],
   "source": [
    "model_3.evaluate(valid_dataset)"
   ]
  },
  {
   "cell_type": "code",
   "execution_count": 42,
   "id": "f4ecf141",
   "metadata": {
    "execution": {
     "iopub.execute_input": "2023-12-26T07:11:08.328191Z",
     "iopub.status.busy": "2023-12-26T07:11:08.327841Z",
     "iopub.status.idle": "2023-12-26T07:11:08.645376Z",
     "shell.execute_reply": "2023-12-26T07:11:08.643991Z"
    },
    "papermill": {
     "duration": 0.415199,
     "end_time": "2023-12-26T07:11:08.647951",
     "exception": false,
     "start_time": "2023-12-26T07:11:08.232752",
     "status": "completed"
    },
    "tags": []
   },
   "outputs": [
    {
     "name": "stdout",
     "output_type": "stream",
     "text": [
      "24/24 [==============================] - 0s 8ms/step - loss: 0.3999 - accuracy: 0.8255\n"
     ]
    },
    {
     "data": {
      "text/plain": [
       "[0.399919718503952, 0.8254593014717102]"
      ]
     },
     "execution_count": 42,
     "metadata": {},
     "output_type": "execute_result"
    }
   ],
   "source": [
    "model_2.evaluate(valid_dataset)"
   ]
  },
  {
   "cell_type": "code",
   "execution_count": 43,
   "id": "39a5a872",
   "metadata": {
    "execution": {
     "iopub.execute_input": "2023-12-26T07:11:08.838064Z",
     "iopub.status.busy": "2023-12-26T07:11:08.836876Z",
     "iopub.status.idle": "2023-12-26T07:11:08.992476Z",
     "shell.execute_reply": "2023-12-26T07:11:08.991217Z"
    },
    "papermill": {
     "duration": 0.253181,
     "end_time": "2023-12-26T07:11:08.995308",
     "exception": false,
     "start_time": "2023-12-26T07:11:08.742127",
     "status": "completed"
    },
    "tags": []
   },
   "outputs": [
    {
     "name": "stdout",
     "output_type": "stream",
     "text": [
      "24/24 [==============================] - 0s 3ms/step - loss: 0.5557 - accuracy: 0.7651\n"
     ]
    },
    {
     "data": {
      "text/plain": [
       "[0.5556552410125732, 0.7650918364524841]"
      ]
     },
     "execution_count": 43,
     "metadata": {},
     "output_type": "execute_result"
    }
   ],
   "source": [
    "model_1.evaluate(valid_dataset)"
   ]
  },
  {
   "cell_type": "markdown",
   "id": "0efe4b42",
   "metadata": {
    "papermill": {
     "duration": 0.095983,
     "end_time": "2023-12-26T07:11:09.182890",
     "exception": false,
     "start_time": "2023-12-26T07:11:09.086907",
     "status": "completed"
    },
    "tags": []
   },
   "source": [
    "## Model 4: GRU"
   ]
  },
  {
   "cell_type": "code",
   "execution_count": 44,
   "id": "1eb6ace2",
   "metadata": {
    "execution": {
     "iopub.execute_input": "2023-12-26T07:11:09.372950Z",
     "iopub.status.busy": "2023-12-26T07:11:09.372503Z",
     "iopub.status.idle": "2023-12-26T07:11:10.209251Z",
     "shell.execute_reply": "2023-12-26T07:11:10.207778Z"
    },
    "papermill": {
     "duration": 0.933136,
     "end_time": "2023-12-26T07:11:10.211510",
     "exception": false,
     "start_time": "2023-12-26T07:11:09.278374",
     "status": "completed"
    },
    "tags": []
   },
   "outputs": [],
   "source": [
    "inputs = tf.keras.layers.Input(shape=(), dtype=\"string\")\n",
    "x = text_vectorizer(inputs)\n",
    "x = token_embedding(x)\n",
    "x = tf.keras.layers.GRU(64)(x)\n",
    "outputs = tf.keras.layers.Dense(1, activation=\"sigmoid\")(x)\n",
    "\n",
    "model_4 = tf.keras.Model(inputs, outputs, name=\"model_4_gru\")"
   ]
  },
  {
   "cell_type": "code",
   "execution_count": 45,
   "id": "f9de1a03",
   "metadata": {
    "execution": {
     "iopub.execute_input": "2023-12-26T07:11:10.401773Z",
     "iopub.status.busy": "2023-12-26T07:11:10.401292Z",
     "iopub.status.idle": "2023-12-26T07:11:10.414111Z",
     "shell.execute_reply": "2023-12-26T07:11:10.412748Z"
    },
    "papermill": {
     "duration": 0.110791,
     "end_time": "2023-12-26T07:11:10.416454",
     "exception": false,
     "start_time": "2023-12-26T07:11:10.305663",
     "status": "completed"
    },
    "tags": []
   },
   "outputs": [],
   "source": [
    "model_4.compile(loss=\"binary_crossentropy\",\n",
    "                optimizer=tf.keras.optimizers.Adam(),\n",
    "                metrics=[\"accuracy\"])"
   ]
  },
  {
   "cell_type": "code",
   "execution_count": 46,
   "id": "95c91004",
   "metadata": {
    "execution": {
     "iopub.execute_input": "2023-12-26T07:11:10.611306Z",
     "iopub.status.busy": "2023-12-26T07:11:10.609990Z",
     "iopub.status.idle": "2023-12-26T07:11:10.642313Z",
     "shell.execute_reply": "2023-12-26T07:11:10.640502Z"
    },
    "papermill": {
     "duration": 0.1334,
     "end_time": "2023-12-26T07:11:10.645045",
     "exception": false,
     "start_time": "2023-12-26T07:11:10.511645",
     "status": "completed"
    },
    "tags": []
   },
   "outputs": [
    {
     "name": "stdout",
     "output_type": "stream",
     "text": [
      "Model: \"model_4_gru\"\n",
      "_________________________________________________________________\n",
      " Layer (type)                Output Shape              Param #   \n",
      "=================================================================\n",
      " input_3 (InputLayer)        [(None,)]                 0         \n",
      "                                                                 \n",
      " text_vectorization (TextVe  (None, 24)                0         \n",
      " ctorization)                                                    \n",
      "                                                                 \n",
      " token_embed (Embedding)     (None, 24, 128)           1280000   \n",
      "                                                                 \n",
      " gru (GRU)                   (None, 64)                37248     \n",
      "                                                                 \n",
      " dense_4 (Dense)             (None, 1)                 65        \n",
      "                                                                 \n",
      "=================================================================\n",
      "Total params: 1317313 (5.03 MB)\n",
      "Trainable params: 1317313 (5.03 MB)\n",
      "Non-trainable params: 0 (0.00 Byte)\n",
      "_________________________________________________________________\n"
     ]
    }
   ],
   "source": [
    "model_4.summary()"
   ]
  },
  {
   "cell_type": "code",
   "execution_count": 47,
   "id": "e3d7d761",
   "metadata": {
    "execution": {
     "iopub.execute_input": "2023-12-26T07:11:10.836905Z",
     "iopub.status.busy": "2023-12-26T07:11:10.836525Z",
     "iopub.status.idle": "2023-12-26T07:11:49.316437Z",
     "shell.execute_reply": "2023-12-26T07:11:49.314740Z"
    },
    "papermill": {
     "duration": 38.579168,
     "end_time": "2023-12-26T07:11:49.319901",
     "exception": false,
     "start_time": "2023-12-26T07:11:10.740733",
     "status": "completed"
    },
    "tags": []
   },
   "outputs": [
    {
     "name": "stdout",
     "output_type": "stream",
     "text": [
      "Epoch 1/100\n",
      "215/215 [==============================] - 10s 28ms/step - loss: 0.1958 - accuracy: 0.9307 - val_loss: 0.7300 - val_accuracy: 0.7559\n",
      "Epoch 2/100\n",
      "215/215 [==============================] - 5s 22ms/step - loss: 0.1275 - accuracy: 0.9555 - val_loss: 0.8393 - val_accuracy: 0.7454\n",
      "Epoch 3/100\n",
      "215/215 [==============================] - 5s 22ms/step - loss: 0.1036 - accuracy: 0.9642 - val_loss: 0.9693 - val_accuracy: 0.7362\n",
      "Epoch 4/100\n",
      "215/215 [==============================] - 5s 22ms/step - loss: 0.0871 - accuracy: 0.9695 - val_loss: 1.0267 - val_accuracy: 0.7323\n",
      "Epoch 5/100\n",
      "215/215 [==============================] - 5s 22ms/step - loss: 0.0775 - accuracy: 0.9724 - val_loss: 1.0742 - val_accuracy: 0.7388\n",
      "Epoch 6/100\n",
      "215/215 [==============================] - 5s 22ms/step - loss: 0.0685 - accuracy: 0.9743 - val_loss: 1.0965 - val_accuracy: 0.7454\n"
     ]
    }
   ],
   "source": [
    "model_4_history = model_4.fit(train_dataset,\n",
    "                             epochs=100,\n",
    "                             validation_data=(valid_dataset),\n",
    "                             callbacks=[early_stopping_callback])"
   ]
  },
  {
   "cell_type": "code",
   "execution_count": 48,
   "id": "58a89540",
   "metadata": {
    "execution": {
     "iopub.execute_input": "2023-12-26T07:11:49.563192Z",
     "iopub.status.busy": "2023-12-26T07:11:49.562080Z",
     "iopub.status.idle": "2023-12-26T07:11:49.727323Z",
     "shell.execute_reply": "2023-12-26T07:11:49.726180Z"
    },
    "papermill": {
     "duration": 0.290747,
     "end_time": "2023-12-26T07:11:49.729298",
     "exception": false,
     "start_time": "2023-12-26T07:11:49.438551",
     "status": "completed"
    },
    "tags": []
   },
   "outputs": [
    {
     "name": "stdout",
     "output_type": "stream",
     "text": [
      "24/24 [==============================] - 0s 6ms/step - loss: 0.7300 - accuracy: 0.7559\n"
     ]
    },
    {
     "data": {
      "text/plain": [
       "[0.7300063967704773, 0.7559055089950562]"
      ]
     },
     "execution_count": 48,
     "metadata": {},
     "output_type": "execute_result"
    }
   ],
   "source": [
    "model_4.evaluate(valid_dataset)"
   ]
  },
  {
   "cell_type": "markdown",
   "id": "9045c65c",
   "metadata": {
    "papermill": {
     "duration": 0.120687,
     "end_time": "2023-12-26T07:11:49.973866",
     "exception": false,
     "start_time": "2023-12-26T07:11:49.853179",
     "status": "completed"
    },
    "tags": []
   },
   "source": [
    "## Model 5: LSTM and GRU"
   ]
  },
  {
   "cell_type": "code",
   "execution_count": 49,
   "id": "82ee4387",
   "metadata": {
    "execution": {
     "iopub.execute_input": "2023-12-26T07:11:50.221267Z",
     "iopub.status.busy": "2023-12-26T07:11:50.220038Z",
     "iopub.status.idle": "2023-12-26T07:11:56.402153Z",
     "shell.execute_reply": "2023-12-26T07:11:56.400548Z"
    },
    "papermill": {
     "duration": 6.309302,
     "end_time": "2023-12-26T07:11:56.404760",
     "exception": false,
     "start_time": "2023-12-26T07:11:50.095458",
     "status": "completed"
    },
    "tags": []
   },
   "outputs": [],
   "source": [
    "inputs = tf.keras.layers.Input(shape=(), dtype=\"string\")\n",
    "x = text_vectorizer(inputs)\n",
    "x = token_embedding(x)\n",
    "x = tf.keras.layers.LSTM(64, return_sequences=True)(x)\n",
    "x = tf.keras.layers.GRU(64)(x)\n",
    "outputs = tf.keras.layers.Dense(1, activation=\"sigmoid\")(x)\n",
    "\n",
    "model_5 = tf.keras.Model(inputs, outputs, name=\"model_5_lstm_and_gru\")"
   ]
  },
  {
   "cell_type": "code",
   "execution_count": 50,
   "id": "9c820c0a",
   "metadata": {
    "execution": {
     "iopub.execute_input": "2023-12-26T07:11:56.656059Z",
     "iopub.status.busy": "2023-12-26T07:11:56.655683Z",
     "iopub.status.idle": "2023-12-26T07:11:56.667237Z",
     "shell.execute_reply": "2023-12-26T07:11:56.666356Z"
    },
    "papermill": {
     "duration": 0.139206,
     "end_time": "2023-12-26T07:11:56.669571",
     "exception": false,
     "start_time": "2023-12-26T07:11:56.530365",
     "status": "completed"
    },
    "tags": []
   },
   "outputs": [],
   "source": [
    "model_5.compile(loss=\"binary_crossentropy\",\n",
    "                optimizer=tf.keras.optimizers.Adam(),\n",
    "                metrics=[\"accuracy\"])"
   ]
  },
  {
   "cell_type": "code",
   "execution_count": 51,
   "id": "a2333f41",
   "metadata": {
    "execution": {
     "iopub.execute_input": "2023-12-26T07:11:56.914086Z",
     "iopub.status.busy": "2023-12-26T07:11:56.913450Z",
     "iopub.status.idle": "2023-12-26T07:13:07.949259Z",
     "shell.execute_reply": "2023-12-26T07:13:07.947274Z"
    },
    "papermill": {
     "duration": 71.16251,
     "end_time": "2023-12-26T07:13:07.952224",
     "exception": false,
     "start_time": "2023-12-26T07:11:56.789714",
     "status": "completed"
    },
    "tags": []
   },
   "outputs": [
    {
     "name": "stdout",
     "output_type": "stream",
     "text": [
      "Epoch 1/100\n",
      "215/215 [==============================] - 18s 48ms/step - loss: 0.1599 - accuracy: 0.9477 - val_loss: 0.7985 - val_accuracy: 0.7559\n",
      "Epoch 2/100\n",
      "215/215 [==============================] - 8s 36ms/step - loss: 0.1170 - accuracy: 0.9594 - val_loss: 0.9330 - val_accuracy: 0.7467\n",
      "Epoch 3/100\n",
      "215/215 [==============================] - 8s 36ms/step - loss: 0.0956 - accuracy: 0.9653 - val_loss: 1.0365 - val_accuracy: 0.7375\n",
      "Epoch 4/100\n",
      "215/215 [==============================] - 8s 36ms/step - loss: 0.0774 - accuracy: 0.9710 - val_loss: 1.1701 - val_accuracy: 0.7270\n",
      "Epoch 5/100\n",
      "215/215 [==============================] - 8s 35ms/step - loss: 0.0694 - accuracy: 0.9720 - val_loss: 1.3131 - val_accuracy: 0.7310\n",
      "Epoch 6/100\n",
      "215/215 [==============================] - 8s 36ms/step - loss: 0.0614 - accuracy: 0.9739 - val_loss: 1.4176 - val_accuracy: 0.7402\n"
     ]
    }
   ],
   "source": [
    "model_5_history = model_5.fit(train_dataset,\n",
    "                             epochs=100,\n",
    "                             validation_data=(valid_dataset),\n",
    "                             callbacks=[early_stopping_callback])"
   ]
  },
  {
   "cell_type": "code",
   "execution_count": 52,
   "id": "527b0e9e",
   "metadata": {
    "execution": {
     "iopub.execute_input": "2023-12-26T07:13:08.290047Z",
     "iopub.status.busy": "2023-12-26T07:13:08.289526Z",
     "iopub.status.idle": "2023-12-26T07:13:08.562376Z",
     "shell.execute_reply": "2023-12-26T07:13:08.561536Z"
    },
    "papermill": {
     "duration": 0.441415,
     "end_time": "2023-12-26T07:13:08.564726",
     "exception": false,
     "start_time": "2023-12-26T07:13:08.123311",
     "status": "completed"
    },
    "tags": []
   },
   "outputs": [
    {
     "name": "stdout",
     "output_type": "stream",
     "text": [
      "24/24 [==============================] - 0s 10ms/step - loss: 0.7985 - accuracy: 0.7559\n"
     ]
    },
    {
     "data": {
      "text/plain": [
       "[0.7984885573387146, 0.7559055089950562]"
      ]
     },
     "execution_count": 52,
     "metadata": {},
     "output_type": "execute_result"
    }
   ],
   "source": [
    "model_5.evaluate(valid_dataset)"
   ]
  },
  {
   "cell_type": "markdown",
   "id": "031c2b2f",
   "metadata": {
    "papermill": {
     "duration": 0.163064,
     "end_time": "2023-12-26T07:13:08.892158",
     "exception": false,
     "start_time": "2023-12-26T07:13:08.729094",
     "status": "completed"
    },
    "tags": []
   },
   "source": [
    "## Model 6: LSTM and GRU multiple layers"
   ]
  },
  {
   "cell_type": "code",
   "execution_count": 53,
   "id": "1c2b7e5d",
   "metadata": {
    "execution": {
     "iopub.execute_input": "2023-12-26T07:13:09.218801Z",
     "iopub.status.busy": "2023-12-26T07:13:09.217804Z",
     "iopub.status.idle": "2023-12-26T07:13:13.582157Z",
     "shell.execute_reply": "2023-12-26T07:13:13.580275Z"
    },
    "papermill": {
     "duration": 4.533141,
     "end_time": "2023-12-26T07:13:13.585408",
     "exception": false,
     "start_time": "2023-12-26T07:13:09.052267",
     "status": "completed"
    },
    "tags": []
   },
   "outputs": [],
   "source": [
    "inputs = tf.keras.layers.Input(shape=(), dtype=\"string\")\n",
    "x = text_vectorizer(inputs)\n",
    "x = token_embedding(x)\n",
    "x = tf.keras.layers.LSTM(64, return_sequences=True)(x)\n",
    "x = tf.keras.layers.GRU(32, return_sequences=True)(x)\n",
    "x = tf.keras.layers.GRU(16, return_sequences=True)(x)\n",
    "x = tf.keras.layers.LSTM(8)(x)\n",
    "outputs = tf.keras.layers.Dense(1, activation=\"sigmoid\")(x)\n",
    "\n",
    "model_6 = tf.keras.Model(inputs, outputs, name=\"model_6_mix_rnn\")"
   ]
  },
  {
   "cell_type": "code",
   "execution_count": 54,
   "id": "35050bce",
   "metadata": {
    "execution": {
     "iopub.execute_input": "2023-12-26T07:13:13.911240Z",
     "iopub.status.busy": "2023-12-26T07:13:13.910577Z",
     "iopub.status.idle": "2023-12-26T07:13:13.945743Z",
     "shell.execute_reply": "2023-12-26T07:13:13.943847Z"
    },
    "papermill": {
     "duration": 0.200127,
     "end_time": "2023-12-26T07:13:13.948268",
     "exception": false,
     "start_time": "2023-12-26T07:13:13.748141",
     "status": "completed"
    },
    "tags": []
   },
   "outputs": [
    {
     "name": "stdout",
     "output_type": "stream",
     "text": [
      "Model: \"model_6_mix_rnn\"\n",
      "_________________________________________________________________\n",
      " Layer (type)                Output Shape              Param #   \n",
      "=================================================================\n",
      " input_5 (InputLayer)        [(None,)]                 0         \n",
      "                                                                 \n",
      " text_vectorization (TextVe  (None, 24)                0         \n",
      " ctorization)                                                    \n",
      "                                                                 \n",
      " token_embed (Embedding)     (None, 24, 128)           1280000   \n",
      "                                                                 \n",
      " lstm_2 (LSTM)               (None, 24, 64)            49408     \n",
      "                                                                 \n",
      " gru_2 (GRU)                 (None, 24, 32)            9408      \n",
      "                                                                 \n",
      " gru_3 (GRU)                 (None, 24, 16)            2400      \n",
      "                                                                 \n",
      " lstm_3 (LSTM)               (None, 8)                 800       \n",
      "                                                                 \n",
      " dense_6 (Dense)             (None, 1)                 9         \n",
      "                                                                 \n",
      "=================================================================\n",
      "Total params: 1342025 (5.12 MB)\n",
      "Trainable params: 1342025 (5.12 MB)\n",
      "Non-trainable params: 0 (0.00 Byte)\n",
      "_________________________________________________________________\n"
     ]
    }
   ],
   "source": [
    "model_6.summary()"
   ]
  },
  {
   "cell_type": "code",
   "execution_count": 55,
   "id": "7f96925d",
   "metadata": {
    "execution": {
     "iopub.execute_input": "2023-12-26T07:13:14.282999Z",
     "iopub.status.busy": "2023-12-26T07:13:14.282551Z",
     "iopub.status.idle": "2023-12-26T07:15:02.711085Z",
     "shell.execute_reply": "2023-12-26T07:15:02.708956Z"
    },
    "papermill": {
     "duration": 108.598447,
     "end_time": "2023-12-26T07:15:02.713590",
     "exception": false,
     "start_time": "2023-12-26T07:13:14.115143",
     "status": "completed"
    },
    "tags": []
   },
   "outputs": [
    {
     "name": "stdout",
     "output_type": "stream",
     "text": [
      "Epoch 1/100\n",
      "215/215 [==============================] - 30s 79ms/step - loss: 0.2317 - accuracy: 0.9372 - val_loss: 0.6676 - val_accuracy: 0.7533\n",
      "Epoch 2/100\n",
      "215/215 [==============================] - 12s 57ms/step - loss: 0.1342 - accuracy: 0.9588 - val_loss: 0.7385 - val_accuracy: 0.7520\n",
      "Epoch 3/100\n",
      "215/215 [==============================] - 12s 57ms/step - loss: 0.1122 - accuracy: 0.9664 - val_loss: 0.8285 - val_accuracy: 0.7454\n",
      "Epoch 4/100\n",
      "215/215 [==============================] - 12s 57ms/step - loss: 0.0893 - accuracy: 0.9721 - val_loss: 0.9407 - val_accuracy: 0.7349\n",
      "Epoch 5/100\n",
      "215/215 [==============================] - 12s 56ms/step - loss: 0.0751 - accuracy: 0.9756 - val_loss: 0.9715 - val_accuracy: 0.7336\n",
      "Epoch 6/100\n",
      "215/215 [==============================] - 12s 58ms/step - loss: 0.0639 - accuracy: 0.9759 - val_loss: 1.0080 - val_accuracy: 0.7415\n"
     ]
    }
   ],
   "source": [
    "model_6.compile(loss=\"binary_crossentropy\",\n",
    "                optimizer=tf.keras.optimizers.Adam(),\n",
    "                metrics=[\"accuracy\"])\n",
    "model_6_history = model_6.fit(train_dataset,\n",
    "                             epochs=100,\n",
    "                             validation_data=(valid_dataset),\n",
    "                             callbacks=[early_stopping_callback])"
   ]
  },
  {
   "cell_type": "markdown",
   "id": "c207488f",
   "metadata": {
    "papermill": {
     "duration": 0.232615,
     "end_time": "2023-12-26T07:15:03.179604",
     "exception": false,
     "start_time": "2023-12-26T07:15:02.946989",
     "status": "completed"
    },
    "tags": []
   },
   "source": [
    "## Model 7: Bidirectional\n",
    "\n",
    "* a normal RNN will process a sequence from left to right, where a bidirectional RNN will process the sequence from left to right and then right to left. \n",
    "* Many models see improvement in performance when using bidirectional RNNs"
   ]
  },
  {
   "cell_type": "code",
   "execution_count": 56,
   "id": "9e42c3cf",
   "metadata": {
    "execution": {
     "iopub.execute_input": "2023-12-26T07:15:03.650011Z",
     "iopub.status.busy": "2023-12-26T07:15:03.649105Z",
     "iopub.status.idle": "2023-12-26T07:15:05.565668Z",
     "shell.execute_reply": "2023-12-26T07:15:05.564004Z"
    },
    "papermill": {
     "duration": 2.15982,
     "end_time": "2023-12-26T07:15:05.568860",
     "exception": false,
     "start_time": "2023-12-26T07:15:03.409040",
     "status": "completed"
    },
    "tags": []
   },
   "outputs": [],
   "source": [
    "tf.random.set_seed(42)\n",
    "from tensorflow.keras import layers\n",
    "# model_4_embedding = layers.Embedding(input_dim=max_vocab_length,\n",
    "#                                      output_dim=128,\n",
    "#                                      embeddings_initializer=\"uniform\",\n",
    "#                                      input_length=max_length,\n",
    "#                                      name=\"embedding_4\")\n",
    "\n",
    "# Build a Bidirectional RNN in TensorFlow\n",
    "inputs = layers.Input(shape=(1,), dtype=\"string\")\n",
    "x = text_vectorizer(inputs)\n",
    "x = token_embedding(x)\n",
    "# x = layers.Bidirectional(layers.LSTM(64, return_sequences=True))(x) # stacking RNN layers requires return_sequences=True\n",
    "x = layers.Bidirectional(layers.LSTM(64))(x) # bidirectional goes both ways so has double the parameters of a regular LSTM layer\n",
    "outputs = layers.Dense(1, activation=\"sigmoid\")(x)\n",
    "model_7 = tf.keras.Model(inputs, outputs, name=\"model_7_Bidirectional\")\n"
   ]
  },
  {
   "cell_type": "code",
   "execution_count": 57,
   "id": "46069704",
   "metadata": {
    "execution": {
     "iopub.execute_input": "2023-12-26T07:15:06.128333Z",
     "iopub.status.busy": "2023-12-26T07:15:06.127931Z",
     "iopub.status.idle": "2023-12-26T07:15:06.164680Z",
     "shell.execute_reply": "2023-12-26T07:15:06.161996Z"
    },
    "papermill": {
     "duration": 0.282583,
     "end_time": "2023-12-26T07:15:06.169662",
     "exception": false,
     "start_time": "2023-12-26T07:15:05.887079",
     "status": "completed"
    },
    "tags": []
   },
   "outputs": [
    {
     "name": "stdout",
     "output_type": "stream",
     "text": [
      "Model: \"model_7_Bidirectional\"\n",
      "_________________________________________________________________\n",
      " Layer (type)                Output Shape              Param #   \n",
      "=================================================================\n",
      " input_6 (InputLayer)        [(None, 1)]               0         \n",
      "                                                                 \n",
      " text_vectorization (TextVe  (None, 24)                0         \n",
      " ctorization)                                                    \n",
      "                                                                 \n",
      " token_embed (Embedding)     (None, 24, 128)           1280000   \n",
      "                                                                 \n",
      " bidirectional (Bidirection  (None, 128)               98816     \n",
      " al)                                                             \n",
      "                                                                 \n",
      " dense_7 (Dense)             (None, 1)                 129       \n",
      "                                                                 \n",
      "=================================================================\n",
      "Total params: 1378945 (5.26 MB)\n",
      "Trainable params: 1378945 (5.26 MB)\n",
      "Non-trainable params: 0 (0.00 Byte)\n",
      "_________________________________________________________________\n"
     ]
    }
   ],
   "source": [
    "model_7.summary()"
   ]
  },
  {
   "cell_type": "code",
   "execution_count": 58,
   "id": "62a1daa6",
   "metadata": {
    "execution": {
     "iopub.execute_input": "2023-12-26T07:15:06.658704Z",
     "iopub.status.busy": "2023-12-26T07:15:06.658372Z",
     "iopub.status.idle": "2023-12-26T07:15:59.524096Z",
     "shell.execute_reply": "2023-12-26T07:15:59.521771Z"
    },
    "papermill": {
     "duration": 53.110281,
     "end_time": "2023-12-26T07:15:59.527480",
     "exception": false,
     "start_time": "2023-12-26T07:15:06.417199",
     "status": "completed"
    },
    "tags": []
   },
   "outputs": [
    {
     "name": "stdout",
     "output_type": "stream",
     "text": [
      "Epoch 1/100\n",
      "215/215 [==============================] - 15s 38ms/step - loss: 0.1496 - accuracy: 0.9549 - val_loss: 0.7673 - val_accuracy: 0.7546\n",
      "Epoch 2/100\n",
      "215/215 [==============================] - 6s 28ms/step - loss: 0.1101 - accuracy: 0.9632 - val_loss: 0.8662 - val_accuracy: 0.7507\n",
      "Epoch 3/100\n",
      "215/215 [==============================] - 6s 28ms/step - loss: 0.0915 - accuracy: 0.9680 - val_loss: 0.9441 - val_accuracy: 0.7454\n",
      "Epoch 4/100\n",
      "215/215 [==============================] - 6s 28ms/step - loss: 0.0785 - accuracy: 0.9705 - val_loss: 1.0356 - val_accuracy: 0.7323\n",
      "Epoch 5/100\n",
      "215/215 [==============================] - 6s 27ms/step - loss: 0.0679 - accuracy: 0.9739 - val_loss: 1.0582 - val_accuracy: 0.7087\n",
      "Epoch 6/100\n",
      "215/215 [==============================] - 6s 28ms/step - loss: 0.0582 - accuracy: 0.9761 - val_loss: 1.6568 - val_accuracy: 0.6995\n"
     ]
    }
   ],
   "source": [
    "model_7.compile(loss=\"binary_crossentropy\",\n",
    "                optimizer=tf.keras.optimizers.Adam(),\n",
    "                metrics=[\"accuracy\"])\n",
    "model_7_history = model_7.fit(train_dataset,\n",
    "                             epochs=100,\n",
    "                             validation_data=(valid_dataset),\n",
    "                             callbacks=[early_stopping_callback])"
   ]
  },
  {
   "cell_type": "markdown",
   "id": "00a60dfa",
   "metadata": {
    "papermill": {
     "duration": 0.270605,
     "end_time": "2023-12-26T07:16:00.074366",
     "exception": false,
     "start_time": "2023-12-26T07:15:59.803761",
     "status": "completed"
    },
    "tags": []
   },
   "source": [
    "## Model 8: Conv1D"
   ]
  },
  {
   "cell_type": "code",
   "execution_count": 59,
   "id": "a70d1e39",
   "metadata": {
    "execution": {
     "iopub.execute_input": "2023-12-26T07:16:00.687326Z",
     "iopub.status.busy": "2023-12-26T07:16:00.686375Z",
     "iopub.status.idle": "2023-12-26T07:16:03.887161Z",
     "shell.execute_reply": "2023-12-26T07:16:03.886005Z"
    },
    "papermill": {
     "duration": 3.542513,
     "end_time": "2023-12-26T07:16:03.889491",
     "exception": false,
     "start_time": "2023-12-26T07:16:00.346978",
     "status": "completed"
    },
    "tags": []
   },
   "outputs": [],
   "source": [
    "inputs = layers.Input(shape=(1,), dtype=\"string\")\n",
    "x = text_vectorizer(inputs)\n",
    "x = token_embedding(x)\n",
    "x = layers.Conv1D(filters=32, kernel_size=5, activation=\"relu\")(x)\n",
    "x = layers.GlobalMaxPool1D()(x)\n",
    "# x = layers.Dense(64, activation=\"relu\")(x) # optional dense layer\n",
    "outputs = layers.Dense(1, activation=\"sigmoid\")(x)\n",
    "model_8 = tf.keras.Model(inputs, outputs, name=\"model_8_Conv1D\")"
   ]
  },
  {
   "cell_type": "code",
   "execution_count": 60,
   "id": "70d1d021",
   "metadata": {
    "execution": {
     "iopub.execute_input": "2023-12-26T07:16:04.430158Z",
     "iopub.status.busy": "2023-12-26T07:16:04.429775Z",
     "iopub.status.idle": "2023-12-26T07:16:23.234568Z",
     "shell.execute_reply": "2023-12-26T07:16:23.233686Z"
    },
    "papermill": {
     "duration": 19.078152,
     "end_time": "2023-12-26T07:16:23.237185",
     "exception": false,
     "start_time": "2023-12-26T07:16:04.159033",
     "status": "completed"
    },
    "tags": []
   },
   "outputs": [
    {
     "name": "stdout",
     "output_type": "stream",
     "text": [
      "Epoch 1/100\n",
      "215/215 [==============================] - 3s 13ms/step - loss: 0.1635 - accuracy: 0.9472 - val_loss: 0.8631 - val_accuracy: 0.7402\n",
      "Epoch 2/100\n",
      "215/215 [==============================] - 3s 12ms/step - loss: 0.1132 - accuracy: 0.9597 - val_loss: 0.9698 - val_accuracy: 0.7428\n",
      "Epoch 3/100\n",
      "215/215 [==============================] - 2s 11ms/step - loss: 0.0885 - accuracy: 0.9645 - val_loss: 1.0629 - val_accuracy: 0.7415\n",
      "Epoch 4/100\n",
      "215/215 [==============================] - 2s 12ms/step - loss: 0.0724 - accuracy: 0.9708 - val_loss: 1.1489 - val_accuracy: 0.7415\n",
      "Epoch 5/100\n",
      "215/215 [==============================] - 3s 12ms/step - loss: 0.0628 - accuracy: 0.9730 - val_loss: 1.2154 - val_accuracy: 0.7336\n",
      "Epoch 6/100\n",
      "215/215 [==============================] - 3s 12ms/step - loss: 0.0565 - accuracy: 0.9749 - val_loss: 1.2521 - val_accuracy: 0.7402\n"
     ]
    }
   ],
   "source": [
    "model_8.compile(loss=\"binary_crossentropy\",\n",
    "                optimizer=tf.keras.optimizers.Adam(),\n",
    "                metrics=[\"accuracy\"])\n",
    "model_8_history = model_8.fit(train_dataset,\n",
    "                             epochs=100,\n",
    "                             validation_data=(valid_dataset),\n",
    "                             callbacks=[early_stopping_callback])"
   ]
  },
  {
   "cell_type": "code",
   "execution_count": 61,
   "id": "82e77932",
   "metadata": {
    "execution": {
     "iopub.execute_input": "2023-12-26T07:16:23.819040Z",
     "iopub.status.busy": "2023-12-26T07:16:23.817268Z",
     "iopub.status.idle": "2023-12-26T07:16:23.922491Z",
     "shell.execute_reply": "2023-12-26T07:16:23.920699Z"
    },
    "papermill": {
     "duration": 0.396774,
     "end_time": "2023-12-26T07:16:23.925065",
     "exception": false,
     "start_time": "2023-12-26T07:16:23.528291",
     "status": "completed"
    },
    "tags": []
   },
   "outputs": [
    {
     "name": "stdout",
     "output_type": "stream",
     "text": [
      "24/24 [==============================] - 0s 4ms/step - loss: 0.8631 - accuracy: 0.7402\n"
     ]
    }
   ],
   "source": [
    " i = model_8.evaluate(valid_dataset)"
   ]
  },
  {
   "cell_type": "code",
   "execution_count": 62,
   "id": "23b8ea38",
   "metadata": {
    "execution": {
     "iopub.execute_input": "2023-12-26T07:16:24.578413Z",
     "iopub.status.busy": "2023-12-26T07:16:24.578090Z",
     "iopub.status.idle": "2023-12-26T07:16:24.585183Z",
     "shell.execute_reply": "2023-12-26T07:16:24.583892Z"
    },
    "papermill": {
     "duration": 0.37568,
     "end_time": "2023-12-26T07:16:24.587390",
     "exception": false,
     "start_time": "2023-12-26T07:16:24.211710",
     "status": "completed"
    },
    "tags": []
   },
   "outputs": [],
   "source": [
    "def plot_models(models, val_data=valid_dataset):\n",
    "    accuracies = []\n",
    "    names = []\n",
    "    for m in models:\n",
    "        _, accuracy = m.evaluate(val_data)\n",
    "        accuracies.append(accuracy)\n",
    "        names.append(m.name)\n",
    "    \n",
    "    # Plotting the accuracies\n",
    "    plt.figure()\n",
    "    plt.bar(names, accuracies, color='skyblue')\n",
    "    plt.xlabel('Models')\n",
    "    plt.ylabel('Accuracy')\n",
    "    plt.title('Model Accuracies')\n",
    "    plt.xticks(rotation=45, fontsize=8)\n",
    "    plt.ylim([min(accuracies) - 0.05, max(accuracies) + 0.05])  # Adjust y-axis limits for better visualization\n",
    "    plt.show()"
   ]
  },
  {
   "cell_type": "code",
   "execution_count": 63,
   "id": "580cfabf",
   "metadata": {
    "execution": {
     "iopub.execute_input": "2023-12-26T07:16:25.166566Z",
     "iopub.status.busy": "2023-12-26T07:16:25.165176Z",
     "iopub.status.idle": "2023-12-26T07:16:29.727726Z",
     "shell.execute_reply": "2023-12-26T07:16:29.726158Z"
    },
    "papermill": {
     "duration": 4.854413,
     "end_time": "2023-12-26T07:16:29.730305",
     "exception": false,
     "start_time": "2023-12-26T07:16:24.875892",
     "status": "completed"
    },
    "tags": []
   },
   "outputs": [
    {
     "name": "stdout",
     "output_type": "stream",
     "text": [
      "24/24 [==============================] - 0s 3ms/step - loss: 0.6052 - accuracy: 0.7651\n",
      "24/24 [==============================] - 0s 9ms/step - loss: 0.3999 - accuracy: 0.8255\n",
      "24/24 [==============================] - 0s 8ms/step - loss: 0.6789 - accuracy: 0.7651\n",
      "24/24 [==============================] - 0s 7ms/step - loss: 0.7567 - accuracy: 0.7612\n",
      "24/24 [==============================] - 1s 10ms/step - loss: 0.8114 - accuracy: 0.7612\n",
      "24/24 [==============================] - 1s 13ms/step - loss: 0.6487 - accuracy: 0.7664\n",
      "24/24 [==============================] - 0s 9ms/step - loss: 0.7423 - accuracy: 0.7625\n",
      "24/24 [==============================] - 0s 4ms/step - loss: 0.8631 - accuracy: 0.7402\n"
     ]
    },
    {
     "data": {
      "image/png": "[encoded data removed]",
      "text/plain": [
       "<Figure size 640x480 with 1 Axes>"
      ]
     },
     "metadata": {},
     "output_type": "display_data"
    }
   ],
   "source": [
    "plot_models([model_1, model_2, model_3, model_4, model_5, model_6, model_7, model_8])"
   ]
  },
  {
   "cell_type": "markdown",
   "id": "182f4b18",
   "metadata": {
    "papermill": {
     "duration": 0.292552,
     "end_time": "2023-12-26T07:16:30.321482",
     "exception": false,
     "start_time": "2023-12-26T07:16:30.028930",
     "status": "completed"
    },
    "tags": []
   },
   "source": [
    "## Model Ensembling\n",
    "\n",
    "* if several uncorrelated models agree on a prediction, then the prediction must be more robust than a prediction made by a single model\n",
    "* The models should be uncorrelated...different types of models. \n",
    "* Ie: using lstm, bidirectional and tensorflow USE model. All these models are trained on the same training data, but they have different ways of finding patterns\n",
    "* If we were to use 3 similarly trained models such as 3 LSTM models, the predictions they output will be similar. \n",
    "* **Averaging Ensemble** - take the output prediction probabilities of each model for each sample. Combine them then average them. "
   ]
  },
  {
   "cell_type": "code",
   "execution_count": 64,
   "id": "bcebf113",
   "metadata": {
    "execution": {
     "iopub.execute_input": "2023-12-26T07:16:30.914951Z",
     "iopub.status.busy": "2023-12-26T07:16:30.913537Z",
     "iopub.status.idle": "2023-12-26T07:16:34.193519Z",
     "shell.execute_reply": "2023-12-26T07:16:34.191734Z"
    },
    "papermill": {
     "duration": 3.579945,
     "end_time": "2023-12-26T07:16:34.196479",
     "exception": false,
     "start_time": "2023-12-26T07:16:30.616534",
     "status": "completed"
    },
    "tags": []
   },
   "outputs": [
    {
     "name": "stdout",
     "output_type": "stream",
     "text": [
      "24/24 [==============================] - 0s 2ms/step\n",
      "24/24 [==============================] - 1s 9ms/step\n",
      "24/24 [==============================] - 2s 8ms/step\n"
     ]
    }
   ],
   "source": [
    "# use the results from model_1, model_2, model_7 \n",
    "model_1_preds = model_1.predict(valid_dataset)\n",
    "model_2_preds = model_2.predict(valid_dataset)\n",
    "model_7_preds = model_7.predict(valid_dataset)"
   ]
  },
  {
   "cell_type": "code",
   "execution_count": 65,
   "id": "1cfc8678",
   "metadata": {
    "execution": {
     "iopub.execute_input": "2023-12-26T07:16:34.846844Z",
     "iopub.status.busy": "2023-12-26T07:16:34.846177Z",
     "iopub.status.idle": "2023-12-26T07:16:34.855384Z",
     "shell.execute_reply": "2023-12-26T07:16:34.853705Z"
    },
    "papermill": {
     "duration": 0.304291,
     "end_time": "2023-12-26T07:16:34.857873",
     "exception": false,
     "start_time": "2023-12-26T07:16:34.553582",
     "status": "completed"
    },
    "tags": []
   },
   "outputs": [
    {
     "data": {
      "text/plain": [
       "(762, 1)"
      ]
     },
     "execution_count": 65,
     "metadata": {},
     "output_type": "execute_result"
    }
   ],
   "source": [
    "model_7_preds.shape"
   ]
  },
  {
   "cell_type": "code",
   "execution_count": 66,
   "id": "afa568f2",
   "metadata": {
    "execution": {
     "iopub.execute_input": "2023-12-26T07:16:35.462800Z",
     "iopub.status.busy": "2023-12-26T07:16:35.461798Z",
     "iopub.status.idle": "2023-12-26T07:16:35.478112Z",
     "shell.execute_reply": "2023-12-26T07:16:35.477136Z"
    },
    "papermill": {
     "duration": 0.318454,
     "end_time": "2023-12-26T07:16:35.480862",
     "exception": false,
     "start_time": "2023-12-26T07:16:35.162408",
     "status": "completed"
    },
    "tags": []
   },
   "outputs": [
    {
     "data": {
      "text/plain": [
       "<tf.Tensor: shape=(762,), dtype=float32, numpy=\n",
       "array([0., 0., 0., 0., 1., 0., 0., 0., 0., 1., 1., 1., 0., 0., 0., 0., 1.,\n",
       "       0., 1., 0., 0., 0., 0., 0., 1., 1., 1., 1., 1., 0., 1., 0., 0., 1.,\n",
       "       0., 0., 0., 0., 0., 0., 0., 1., 0., 1., 0., 0., 1., 0., 1., 1., 0.,\n",
       "       1., 0., 0., 1., 0., 1., 0., 0., 0., 1., 0., 1., 0., 0., 1., 1., 0.,\n",
       "       0., 0., 0., 0., 0., 0., 0., 0., 0., 1., 0., 1., 0., 0., 0., 1., 0.,\n",
       "       0., 1., 0., 1., 0., 1., 1., 0., 0., 0., 1., 0., 0., 1., 1., 0., 0.,\n",
       "       0., 0., 0., 0., 0., 0., 1., 0., 1., 1., 1., 1., 0., 1., 0., 1., 0.,\n",
       "       0., 1., 1., 0., 1., 1., 0., 0., 1., 1., 0., 0., 0., 0., 0., 1., 0.,\n",
       "       0., 0., 0., 1., 0., 0., 1., 1., 1., 0., 1., 1., 1., 0., 1., 0., 1.,\n",
       "       1., 1., 0., 0., 1., 1., 0., 0., 0., 1., 1., 0., 1., 0., 0., 1., 0.,\n",
       "       0., 1., 0., 0., 0., 0., 0., 1., 1., 1., 1., 0., 0., 0., 1., 1., 0.,\n",
       "       0., 0., 0., 0., 0., 0., 0., 0., 0., 0., 1., 0., 0., 0., 0., 0., 0.,\n",
       "       1., 0., 0., 0., 1., 0., 1., 1., 1., 1., 0., 0., 1., 1., 1., 0., 0.,\n",
       "       1., 1., 1., 1., 1., 0., 0., 0., 1., 0., 0., 1., 0., 0., 0., 1., 0.,\n",
       "       1., 0., 0., 1., 0., 0., 0., 0., 1., 1., 0., 1., 0., 1., 0., 1., 0.,\n",
       "       0., 0., 1., 0., 1., 0., 1., 1., 0., 1., 0., 0., 0., 1., 0., 0., 1.,\n",
       "       0., 0., 1., 0., 1., 1., 0., 1., 1., 1., 0., 0., 1., 1., 1., 0., 0.,\n",
       "       0., 1., 1., 0., 0., 1., 1., 0., 1., 1., 0., 1., 0., 1., 1., 0., 1.,\n",
       "       0., 0., 0., 0., 1., 1., 0., 1., 0., 1., 0., 0., 1., 1., 0., 1., 1.,\n",
       "       0., 0., 1., 0., 0., 0., 1., 0., 1., 1., 0., 1., 1., 1., 1., 1., 1.,\n",
       "       0., 0., 0., 0., 1., 0., 1., 1., 1., 0., 0., 1., 0., 0., 1., 0., 1.,\n",
       "       0., 0., 0., 0., 1., 0., 0., 1., 1., 0., 1., 0., 1., 0., 1., 0., 0.,\n",
       "       0., 1., 0., 0., 0., 0., 1., 0., 0., 0., 1., 1., 0., 0., 0., 0., 0.,\n",
       "       0., 0., 1., 0., 1., 1., 1., 0., 0., 0., 0., 1., 0., 0., 1., 1., 1.,\n",
       "       0., 1., 1., 1., 0., 1., 0., 0., 1., 0., 1., 0., 0., 1., 0., 0., 0.,\n",
       "       0., 0., 0., 1., 1., 0., 0., 0., 0., 1., 0., 1., 1., 0., 0., 1., 0.,\n",
       "       1., 1., 0., 0., 0., 0., 1., 0., 0., 0., 1., 0., 1., 1., 0., 1., 1.,\n",
       "       0., 1., 1., 0., 1., 1., 1., 1., 0., 1., 0., 1., 1., 1., 0., 1., 1.,\n",
       "       0., 0., 0., 0., 0., 1., 0., 1., 1., 0., 0., 0., 0., 0., 0., 0., 1.,\n",
       "       0., 1., 0., 0., 0., 0., 0., 1., 0., 0., 1., 1., 0., 0., 0., 0., 0.,\n",
       "       1., 1., 0., 0., 0., 0., 0., 0., 0., 0., 1., 1., 0., 1., 1., 0., 0.,\n",
       "       1., 1., 0., 0., 0., 0., 0., 0., 1., 1., 0., 0., 0., 0., 0., 0., 0.,\n",
       "       0., 1., 1., 0., 1., 0., 0., 0., 1., 0., 1., 0., 1., 0., 1., 0., 1.,\n",
       "       1., 1., 0., 0., 1., 0., 0., 0., 1., 1., 1., 1., 1., 1., 0., 0., 0.,\n",
       "       0., 1., 0., 1., 0., 0., 0., 0., 1., 0., 1., 1., 1., 1., 0., 0., 0.,\n",
       "       0., 0., 0., 0., 0., 0., 0., 0., 1., 1., 0., 1., 1., 0., 0., 1., 0.,\n",
       "       0., 1., 1., 0., 0., 0., 0., 0., 0., 1., 1., 1., 1., 1., 0., 1., 0.,\n",
       "       0., 1., 1., 1., 0., 0., 1., 1., 0., 0., 0., 0., 1., 1., 1., 0., 0.,\n",
       "       0., 1., 1., 0., 0., 0., 0., 1., 0., 0., 1., 1., 0., 1., 0., 0., 0.,\n",
       "       0., 1., 0., 1., 1., 1., 0., 0., 1., 0., 1., 0., 1., 0., 0., 0., 0.,\n",
       "       0., 0., 1., 0., 0., 0., 1., 1., 1., 1., 0., 1., 0., 0., 1., 1., 1.,\n",
       "       1., 1., 0., 1., 0., 1., 0., 0., 0., 0., 1., 1., 1., 1., 1., 1., 1.,\n",
       "       0., 0., 0., 0., 1., 1., 0., 0., 0., 1., 0., 0., 1., 0., 1., 1., 1.,\n",
       "       0., 1., 1., 0., 0., 0., 0., 0., 0., 1., 0., 0., 0., 1., 0., 1., 0.,\n",
       "       1., 0., 0., 1., 0., 0., 1., 1., 1., 0., 0., 1., 0., 0.],\n",
       "      dtype=float32)>"
      ]
     },
     "execution_count": 66,
     "metadata": {},
     "output_type": "execute_result"
    }
   ],
   "source": [
    "# Get mean pred probs for 3 models\n",
    "combined_pred_probs = tf.squeeze(model_1_preds, axis=1) + tf.squeeze(model_2_preds, axis=1) + tf.squeeze(model_7_preds, axis=1)\n",
    "combined_preds = tf.round(combined_pred_probs/3)\n",
    "combined_preds"
   ]
  },
  {
   "cell_type": "code",
   "execution_count": 67,
   "id": "8887cf2f",
   "metadata": {
    "execution": {
     "iopub.execute_input": "2023-12-26T07:16:36.067982Z",
     "iopub.status.busy": "2023-12-26T07:16:36.067602Z",
     "iopub.status.idle": "2023-12-26T07:16:36.074955Z",
     "shell.execute_reply": "2023-12-26T07:16:36.072798Z"
    },
    "papermill": {
     "duration": 0.305796,
     "end_time": "2023-12-26T07:16:36.077710",
     "exception": false,
     "start_time": "2023-12-26T07:16:35.771914",
     "status": "completed"
    },
    "tags": []
   },
   "outputs": [],
   "source": [
    "from sklearn.metrics import accuracy_score, precision_recall_fscore_support\n",
    "\n",
    "def calculate_results(y_true, y_pred):\n",
    "  \"\"\"\n",
    "  Calculates model accuracy, precision, recall and f1 score of a binary classification model.\n",
    "\n",
    "  Args:\n",
    "  -----\n",
    "  y_true = true labels in the form of a 1D array\n",
    "  y_pred = predicted labels in the form of a 1D array\n",
    "\n",
    "  Returns a dictionary of accuracy, precision, recall, f1-score.\n",
    "  \"\"\"\n",
    "  # Calculate model accuracy\n",
    "  model_accuracy = accuracy_score(y_true, y_pred) * 100\n",
    "  # Calculate model precision, recall and f1 score using \"weighted\" average\n",
    "  model_precision, model_recall, model_f1, _ = precision_recall_fscore_support(y_true, y_pred, average=\"weighted\")\n",
    "  model_results = {\"accuracy\": model_accuracy,\n",
    "                  \"precision\": model_precision,\n",
    "                  \"recall\": model_recall,\n",
    "                  \"f1\": model_f1}\n",
    "  return model_results"
   ]
  },
  {
   "cell_type": "code",
   "execution_count": 68,
   "id": "c5c3fd97",
   "metadata": {
    "execution": {
     "iopub.execute_input": "2023-12-26T07:16:36.730938Z",
     "iopub.status.busy": "2023-12-26T07:16:36.729727Z",
     "iopub.status.idle": "2023-12-26T07:16:36.742318Z",
     "shell.execute_reply": "2023-12-26T07:16:36.740894Z"
    },
    "papermill": {
     "duration": 0.308608,
     "end_time": "2023-12-26T07:16:36.745012",
     "exception": false,
     "start_time": "2023-12-26T07:16:36.436404",
     "status": "completed"
    },
    "tags": []
   },
   "outputs": [
    {
     "data": {
      "text/plain": [
       "{'accuracy': 79.00262467191601,\n",
       " 'precision': 0.7895463977631777,\n",
       " 'recall': 0.7900262467191601,\n",
       " 'f1': 0.7891155349992447}"
      ]
     },
     "execution_count": 68,
     "metadata": {},
     "output_type": "execute_result"
    }
   ],
   "source": [
    "ensemble_results = calculate_results(y_valid, combined_preds)\n",
    "ensemble_results"
   ]
  },
  {
   "cell_type": "code",
   "execution_count": 69,
   "id": "d1ceb7f4",
   "metadata": {
    "execution": {
     "iopub.execute_input": "2023-12-26T07:16:37.356796Z",
     "iopub.status.busy": "2023-12-26T07:16:37.356100Z",
     "iopub.status.idle": "2023-12-26T07:16:37.366070Z",
     "shell.execute_reply": "2023-12-26T07:16:37.365303Z"
    },
    "papermill": {
     "duration": 0.319025,
     "end_time": "2023-12-26T07:16:37.368077",
     "exception": false,
     "start_time": "2023-12-26T07:16:37.049052",
     "status": "completed"
    },
    "tags": []
   },
   "outputs": [
    {
     "data": {
      "text/plain": [
       "{'accuracy': 76.24671916010499,\n",
       " 'precision': 0.7623943018867197,\n",
       " 'recall': 0.7624671916010499,\n",
       " 'f1': 0.762429426257091}"
      ]
     },
     "execution_count": 69,
     "metadata": {},
     "output_type": "execute_result"
    }
   ],
   "source": [
    "model_7_results = calculate_results(y_valid, tf.squeeze(tf.round(model_7_preds), axis=1))\n",
    "model_7_results"
   ]
  },
  {
   "cell_type": "markdown",
   "id": "90ce8ac2",
   "metadata": {
    "papermill": {
     "duration": 0.288822,
     "end_time": "2023-12-26T07:16:37.953185",
     "exception": false,
     "start_time": "2023-12-26T07:16:37.664363",
     "status": "completed"
    },
    "tags": []
   },
   "source": [
    "## Try submission"
   ]
  },
  {
   "cell_type": "code",
   "execution_count": 70,
   "id": "6a785a6f",
   "metadata": {
    "execution": {
     "iopub.execute_input": "2023-12-26T07:16:38.625710Z",
     "iopub.status.busy": "2023-12-26T07:16:38.625114Z",
     "iopub.status.idle": "2023-12-26T07:16:41.715184Z",
     "shell.execute_reply": "2023-12-26T07:16:41.713307Z"
    },
    "papermill": {
     "duration": 3.4063,
     "end_time": "2023-12-26T07:16:41.717948",
     "exception": false,
     "start_time": "2023-12-26T07:16:38.311648",
     "status": "completed"
    },
    "tags": []
   },
   "outputs": [
    {
     "name": "stdout",
     "output_type": "stream",
     "text": [
      "1/1 [==============================] - 3s 3s/step\n"
     ]
    },
    {
     "data": {
      "text/plain": [
       "array([[0.98391265]], dtype=float32)"
      ]
     },
     "execution_count": 70,
     "metadata": {},
     "output_type": "execute_result"
    }
   ],
   "source": [
    "model_7.predict([\"There is a tornado in my area\"])"
   ]
  },
  {
   "cell_type": "code",
   "execution_count": 71,
   "id": "a2f6dcf1",
   "metadata": {
    "execution": {
     "iopub.execute_input": "2023-12-26T07:16:42.312079Z",
     "iopub.status.busy": "2023-12-26T07:16:42.311673Z",
     "iopub.status.idle": "2023-12-26T07:16:42.320530Z",
     "shell.execute_reply": "2023-12-26T07:16:42.318892Z"
    },
    "papermill": {
     "duration": 0.310096,
     "end_time": "2023-12-26T07:16:42.322582",
     "exception": false,
     "start_time": "2023-12-26T07:16:42.012486",
     "status": "completed"
    },
    "tags": []
   },
   "outputs": [
    {
     "data": {
      "text/plain": [
       "0                      Just happened a terrible car crash\n",
       "1       Heard about #earthquake is different cities, s...\n",
       "2       there is a forest fire at spot pond, geese are...\n",
       "3                Apocalypse lighting. #Spokane #wildfires\n",
       "4           Typhoon Soudelor kills 28 in China and Taiwan\n",
       "                              ...                        \n",
       "3258    EARTHQUAKE SAFETY LOS ANGELES ÛÒ SAFETY FASTE...\n",
       "3259    Storm in RI worse than last hurricane. My city...\n",
       "3260    Green Line derailment in Chicago http://t.co/U...\n",
       "3261    MEG issues Hazardous Weather Outlook (HWO) htt...\n",
       "3262    #CityofCalgary has activated its Municipal Eme...\n",
       "Name: text, Length: 3263, dtype: object"
      ]
     },
     "execution_count": 71,
     "metadata": {},
     "output_type": "execute_result"
    }
   ],
   "source": [
    "test_text_df = test_df[\"text\"]\n",
    "test_text_df"
   ]
  },
  {
   "cell_type": "code",
   "execution_count": null,
   "id": "28723bbd",
   "metadata": {
    "execution": {
     "iopub.execute_input": "2023-12-26T06:55:49.002280Z",
     "iopub.status.busy": "2023-12-26T06:55:49.001879Z",
     "iopub.status.idle": "2023-12-26T06:55:51.624073Z",
     "shell.execute_reply": "2023-12-26T06:55:51.622646Z",
     "shell.execute_reply.started": "2023-12-26T06:55:49.002249Z"
    },
    "papermill": {
     "duration": 0.291002,
     "end_time": "2023-12-26T07:16:42.909254",
     "exception": false,
     "start_time": "2023-12-26T07:16:42.618252",
     "status": "completed"
    },
    "tags": []
   },
   "outputs": [],
   "source": []
  },
  {
   "cell_type": "code",
   "execution_count": 72,
   "id": "d0fd97d3",
   "metadata": {
    "execution": {
     "iopub.execute_input": "2023-12-26T07:16:43.560757Z",
     "iopub.status.busy": "2023-12-26T07:16:43.560374Z",
     "iopub.status.idle": "2023-12-26T07:16:46.996098Z",
     "shell.execute_reply": "2023-12-26T07:16:46.994423Z"
    },
    "papermill": {
     "duration": 3.799133,
     "end_time": "2023-12-26T07:16:46.999246",
     "exception": false,
     "start_time": "2023-12-26T07:16:43.200113",
     "status": "completed"
    },
    "tags": []
   },
   "outputs": [
    {
     "name": "stdout",
     "output_type": "stream",
     "text": [
      "102/102 [==============================] - 0s 2ms/step\n",
      "102/102 [==============================] - 1s 7ms/step\n",
      "102/102 [==============================] - 2s 7ms/step\n"
     ]
    }
   ],
   "source": [
    "# use the results from model_1, model_2, model_7 \n",
    "model_1_preds_test = model_1.predict(test_text_df)\n",
    "model_2_preds_test = model_2.predict(test_text_df)\n",
    "model_3_preds_test = model_3.predict(test_text_df)"
   ]
  },
  {
   "cell_type": "code",
   "execution_count": 73,
   "id": "0d10ce6f",
   "metadata": {
    "execution": {
     "iopub.execute_input": "2023-12-26T07:16:47.601532Z",
     "iopub.status.busy": "2023-12-26T07:16:47.601202Z",
     "iopub.status.idle": "2023-12-26T07:16:47.612851Z",
     "shell.execute_reply": "2023-12-26T07:16:47.611363Z"
    },
    "papermill": {
     "duration": 0.308293,
     "end_time": "2023-12-26T07:16:47.615588",
     "exception": false,
     "start_time": "2023-12-26T07:16:47.307295",
     "status": "completed"
    },
    "tags": []
   },
   "outputs": [
    {
     "data": {
      "text/plain": [
       "<tf.Tensor: shape=(3263,), dtype=float32, numpy=array([1., 0., 1., ..., 1., 1., 1.], dtype=float32)>"
      ]
     },
     "execution_count": 73,
     "metadata": {},
     "output_type": "execute_result"
    }
   ],
   "source": [
    "# Get mean pred probs for 3 models\n",
    "combined_pred_probs = tf.squeeze(model_1_preds_test, axis=1) + tf.squeeze(model_2_preds_test, axis=1) + tf.squeeze(model_3_preds_test, axis=1)\n",
    "combined_preds = tf.round(combined_pred_probs/3)\n",
    "combined_preds"
   ]
  },
  {
   "cell_type": "code",
   "execution_count": 74,
   "id": "be6e0909",
   "metadata": {
    "execution": {
     "iopub.execute_input": "2023-12-26T07:16:48.209785Z",
     "iopub.status.busy": "2023-12-26T07:16:48.209245Z",
     "iopub.status.idle": "2023-12-26T07:16:48.214958Z",
     "shell.execute_reply": "2023-12-26T07:16:48.213395Z"
    },
    "papermill": {
     "duration": 0.306289,
     "end_time": "2023-12-26T07:16:48.217834",
     "exception": false,
     "start_time": "2023-12-26T07:16:47.911545",
     "status": "completed"
    },
    "tags": []
   },
   "outputs": [],
   "source": [
    "submission_df = pd.DataFrame({\n",
    "    \"id\": test_df[\"id\"],\n",
    "    \"target\": combined_preds\n",
    "})"
   ]
  },
  {
   "cell_type": "code",
   "execution_count": 75,
   "id": "62b4afbf",
   "metadata": {
    "execution": {
     "iopub.execute_input": "2023-12-26T07:16:48.883559Z",
     "iopub.status.busy": "2023-12-26T07:16:48.883149Z",
     "iopub.status.idle": "2023-12-26T07:16:48.897767Z",
     "shell.execute_reply": "2023-12-26T07:16:48.896131Z"
    },
    "papermill": {
     "duration": 0.386553,
     "end_time": "2023-12-26T07:16:48.900412",
     "exception": false,
     "start_time": "2023-12-26T07:16:48.513859",
     "status": "completed"
    },
    "tags": []
   },
   "outputs": [
    {
     "data": {
      "text/html": [
       "<div>\n",
       "<style scoped>\n",
       "    .dataframe tbody tr th:only-of-type {\n",
       "        vertical-align: middle;\n",
       "    }\n",
       "\n",
       "    .dataframe tbody tr th {\n",
       "        vertical-align: top;\n",
       "    }\n",
       "\n",
       "    .dataframe thead th {\n",
       "        text-align: right;\n",
       "    }\n",
       "</style>\n",
       "<table border=\"1\" class=\"dataframe\">\n",
       "  <thead>\n",
       "    <tr style=\"text-align: right;\">\n",
       "      <th></th>\n",
       "      <th>id</th>\n",
       "      <th>target</th>\n",
       "    </tr>\n",
       "  </thead>\n",
       "  <tbody>\n",
       "    <tr>\n",
       "      <th>0</th>\n",
       "      <td>0</td>\n",
       "      <td>1.0</td>\n",
       "    </tr>\n",
       "    <tr>\n",
       "      <th>1</th>\n",
       "      <td>2</td>\n",
       "      <td>0.0</td>\n",
       "    </tr>\n",
       "    <tr>\n",
       "      <th>2</th>\n",
       "      <td>3</td>\n",
       "      <td>1.0</td>\n",
       "    </tr>\n",
       "    <tr>\n",
       "      <th>3</th>\n",
       "      <td>9</td>\n",
       "      <td>1.0</td>\n",
       "    </tr>\n",
       "    <tr>\n",
       "      <th>4</th>\n",
       "      <td>11</td>\n",
       "      <td>1.0</td>\n",
       "    </tr>\n",
       "    <tr>\n",
       "      <th>...</th>\n",
       "      <td>...</td>\n",
       "      <td>...</td>\n",
       "    </tr>\n",
       "    <tr>\n",
       "      <th>3258</th>\n",
       "      <td>10861</td>\n",
       "      <td>1.0</td>\n",
       "    </tr>\n",
       "    <tr>\n",
       "      <th>3259</th>\n",
       "      <td>10865</td>\n",
       "      <td>1.0</td>\n",
       "    </tr>\n",
       "    <tr>\n",
       "      <th>3260</th>\n",
       "      <td>10868</td>\n",
       "      <td>1.0</td>\n",
       "    </tr>\n",
       "    <tr>\n",
       "      <th>3261</th>\n",
       "      <td>10874</td>\n",
       "      <td>1.0</td>\n",
       "    </tr>\n",
       "    <tr>\n",
       "      <th>3262</th>\n",
       "      <td>10875</td>\n",
       "      <td>1.0</td>\n",
       "    </tr>\n",
       "  </tbody>\n",
       "</table>\n",
       "<p>3263 rows × 2 columns</p>\n",
       "</div>"
      ],
      "text/plain": [
       "         id  target\n",
       "0         0     1.0\n",
       "1         2     0.0\n",
       "2         3     1.0\n",
       "3         9     1.0\n",
       "4        11     1.0\n",
       "...     ...     ...\n",
       "3258  10861     1.0\n",
       "3259  10865     1.0\n",
       "3260  10868     1.0\n",
       "3261  10874     1.0\n",
       "3262  10875     1.0\n",
       "\n",
       "[3263 rows x 2 columns]"
      ]
     },
     "execution_count": 75,
     "metadata": {},
     "output_type": "execute_result"
    }
   ],
   "source": [
    "submission_df"
   ]
  },
  {
   "cell_type": "code",
   "execution_count": 76,
   "id": "009bdc11",
   "metadata": {
    "execution": {
     "iopub.execute_input": "2023-12-26T07:16:49.488669Z",
     "iopub.status.busy": "2023-12-26T07:16:49.487196Z",
     "iopub.status.idle": "2023-12-26T07:16:49.504330Z",
     "shell.execute_reply": "2023-12-26T07:16:49.503179Z"
    },
    "papermill": {
     "duration": 0.313075,
     "end_time": "2023-12-26T07:16:49.506612",
     "exception": false,
     "start_time": "2023-12-26T07:16:49.193537",
     "status": "completed"
    },
    "tags": []
   },
   "outputs": [],
   "source": [
    "submission_df.to_csv('submission.csv', index=False)"
   ]
  }
 ],
 "metadata": {
  "kaggle": {
   "accelerator": "none",
   "dataSources": [
    {
     "databundleVersionId": 869809,
     "sourceId": 17777,
     "sourceType": "competition"
    },
    {
     "isSourceIdPinned": true,
     "modelInstanceId": 1844,
     "sourceId": 2529,
     "sourceType": "modelInstanceVersion"
    },
    {
     "isSourceIdPinned": true,
     "modelInstanceId": 4689,
     "sourceId": 5916,
     "sourceType": "modelInstanceVersion"
    }
   ],
   "dockerImageVersionId": 30626,
   "isGpuEnabled": false,
   "isInternetEnabled": true,
   "language": "python",
   "sourceType": "notebook"
  },
  "kernelspec": {
   "display_name": "Python 3",
   "language": "python",
   "name": "python3"
  },
  "language_info": {
   "codemirror_mode": {
    "name": "ipython",
    "version": 3
   },
   "file_extension": ".py",
   "mimetype": "text/x-python",
   "name": "python",
   "nbconvert_exporter": "python",
   "pygments_lexer": "ipython3",
   "version": "3.10.12"
  },
  "papermill": {
   "default_parameters": {},
   "duration": 484.677632,
   "end_time": "2023-12-26T07:16:52.851681",
   "environment_variables": {},
   "exception": null,
   "input_path": "__notebook__.ipynb",
   "output_path": "__notebook__.ipynb",
   "parameters": {},
   "start_time": "2023-12-26T07:08:48.174049",
   "version": "2.4.0"
  }
 },
 "nbformat": 4,
 "nbformat_minor": 5
}
