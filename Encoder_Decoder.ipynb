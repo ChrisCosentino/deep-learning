{
  "nbformat": 4,
  "nbformat_minor": 0,
  "metadata": {
    "colab": {
      "provenance": []
    },
    "kernelspec": {
      "name": "python3",
      "display_name": "Python 3"
    },
    "language_info": {
      "name": "python"
    }
  },
  "cells": [
    {
      "cell_type": "markdown",
      "source": [
        "# Encoder-Decoder to translate english to spanish words"
      ],
      "metadata": {
        "id": "yhL_8SCfb5BX"
      }
    },
    {
      "cell_type": "code",
      "source": [
        "import tensorflow as tf"
      ],
      "metadata": {
        "id": "yMqynzk2LWof"
      },
      "execution_count": null,
      "outputs": []
    },
    {
      "cell_type": "code",
      "execution_count": null,
      "metadata": {
        "colab": {
          "base_uri": "https://localhost:8080/"
        },
        "id": "o-1EmxZcLIXp",
        "outputId": "71ea3a9f-ac7c-4a92-f60d-ab3ec224231d"
      },
      "outputs": [
        {
          "output_type": "stream",
          "name": "stdout",
          "text": [
            "Downloading data from https://storage.googleapis.com/download.tensorflow.org/data/spa-eng.zip\n",
            "2638744/2638744 [==============================] - 0s 0us/step\n"
          ]
        }
      ],
      "source": [
        "from pathlib import Path\n",
        "url = 'https://storage.googleapis.com/download.tensorflow.org/data/spa-eng.zip'\n",
        "path = tf.keras.utils.get_file(\"spa-eng.zip\", origin=url, cache_dir=\"datasets\", extract=True)\n",
        "\n",
        "text = (Path(path).with_name(\"spa-eng\") / \"spa.txt\").read_text()"
      ]
    },
    {
      "cell_type": "code",
      "source": [
        "# remove spanish characters\n",
        "import numpy as np\n",
        "text = text.replace(\"¡\", \"\").replace(\"¿\", \"\")\n",
        "pairs = [line.split(\"\\t\") for line in text.splitlines()]\n",
        "\n",
        "pairs[:5]"
      ],
      "metadata": {
        "colab": {
          "base_uri": "https://localhost:8080/"
        },
        "id": "zSaDa_0XLu1r",
        "outputId": "b5597c80-20e8-4af9-fd5f-876bbb332473"
      },
      "execution_count": null,
      "outputs": [
        {
          "output_type": "execute_result",
          "data": {
            "text/plain": [
              "[['Go.', 'Ve.'],\n",
              " ['Go.', 'Vete.'],\n",
              " ['Go.', 'Vaya.'],\n",
              " ['Go.', 'Váyase.'],\n",
              " ['Hi.', 'Hola.']]"
            ]
          },
          "metadata": {},
          "execution_count": 5
        }
      ]
    },
    {
      "cell_type": "code",
      "source": [
        "np.random.shuffle(pairs)\n",
        "\n",
        "sentences_en, sentences_es = zip(*pairs) # separates pairs into 2 lists\n",
        "sentences_en[:5], sentences_es[:5]"
      ],
      "metadata": {
        "colab": {
          "base_uri": "https://localhost:8080/"
        },
        "id": "iIUJ8I9wL8hE",
        "outputId": "9b65471c-6c62-4cfd-9a3a-583d0f5f9958"
      },
      "execution_count": null,
      "outputs": [
        {
          "output_type": "execute_result",
          "data": {
            "text/plain": [
              "(('She is a nurse.',\n",
              "  'Do you want to come along with us?',\n",
              "  \"I'm ready to go.\",\n",
              "  'This tie goes well with the suit, I guess.',\n",
              "  \"We're rich.\"),\n",
              " ('Ella es una enfermera.',\n",
              "  'Quieres venir con nosotras?',\n",
              "  'Estoy listo para irme.',\n",
              "  'Supongo que esta corbata queda bien con el traje.',\n",
              "  'Somos ricos.'))"
            ]
          },
          "metadata": {},
          "execution_count": 6
        }
      ]
    },
    {
      "cell_type": "code",
      "source": [
        "for i in range(3):\n",
        "  print(sentences_en[i], \"==>\", sentences_es[i])"
      ],
      "metadata": {
        "colab": {
          "base_uri": "https://localhost:8080/"
        },
        "id": "oVo15OTFMtaT",
        "outputId": "933ab6e2-a1f1-46f2-8bf2-2ced936dce56"
      },
      "execution_count": null,
      "outputs": [
        {
          "output_type": "stream",
          "name": "stdout",
          "text": [
            "She is a nurse. ==> Ella es una enfermera.\n",
            "Do you want to come along with us? ==> Quieres venir con nosotras?\n",
            "I'm ready to go. ==> Estoy listo para irme.\n"
          ]
        }
      ]
    },
    {
      "cell_type": "markdown",
      "source": [
        "Create 2 textVectorization Layers - one per language"
      ],
      "metadata": {
        "id": "j42BW-zzaUtq"
      }
    },
    {
      "cell_type": "code",
      "source": [
        "vocab_size=1_000\n",
        "max_length = 50\n",
        "\n",
        "text_vec_layer_en = tf.keras.layers.TextVectorization(vocab_size, output_sequence_length=max_length)\n",
        "text_vec_layer_es = tf.keras.layers.TextVectorization(vocab_size, output_sequence_length=max_length)\n",
        "\n",
        "text_vec_layer_en.adapt(sentences_en)\n",
        "text_vec_layer_es.adapt([f\"startofseq {s} endofseq\" for s in sentences_es]) # this is for the decoder, without it the decoder wouldnt know when to start the translation"
      ],
      "metadata": {
        "id": "P27ff6PnM3Yo"
      },
      "execution_count": null,
      "outputs": []
    },
    {
      "cell_type": "code",
      "source": [
        "# visualize\n",
        "print(text_vec_layer_es.get_vocabulary()[:10])\n",
        "print(text_vec_layer_en.get_vocabulary()[:10])"
      ],
      "metadata": {
        "colab": {
          "base_uri": "https://localhost:8080/"
        },
        "id": "TscN-b-SbdU9",
        "outputId": "5267c34d-3e70-4e82-9085-c3a61d71c5a2"
      },
      "execution_count": null,
      "outputs": [
        {
          "output_type": "stream",
          "name": "stdout",
          "text": [
            "['', '[UNK]', 'startofseq', 'endofseq', 'de', 'que', 'a', 'no', 'tom', 'la']\n",
            "['', '[UNK]', 'the', 'i', 'to', 'you', 'tom', 'a', 'is', 'he']\n"
          ]
        }
      ]
    },
    {
      "cell_type": "code",
      "source": [
        "X_train = tf.constant(sentences_en[:100_000])\n",
        "X_valid = tf.constant(sentences_en[100_000:])\n",
        "\n",
        "X_train_dec = tf.constant([f\"startofseq {s}\" for s in sentences_es[:100_000]])\n",
        "X_valid_dec = tf.constant([f\"startofseq {s}\" for s in sentences_es[100_000:]])\n",
        "\n",
        "y_train = text_vec_layer_es([f\"{s} endofseq\" for s in sentences_es[:100_000]])\n",
        "y_valid = text_vec_layer_es([f\"{s} endofseq\" for s in sentences_es[100_000:]])"
      ],
      "metadata": {
        "id": "vsK-5fiEbyZv"
      },
      "execution_count": null,
      "outputs": []
    },
    {
      "cell_type": "code",
      "source": [
        "len(X_train), len(X_valid)"
      ],
      "metadata": {
        "colab": {
          "base_uri": "https://localhost:8080/"
        },
        "id": "oxE8F5XroQYg",
        "outputId": "b72a1343-c4f7-436d-c3ae-213cbf836b71"
      },
      "execution_count": null,
      "outputs": [
        {
          "output_type": "execute_result",
          "data": {
            "text/plain": [
              "(100000, 18964)"
            ]
          },
          "metadata": {},
          "execution_count": 11
        }
      ]
    },
    {
      "cell_type": "code",
      "source": [
        "# Reducing the size of the training and validation sets\n",
        "train_size = 5_000  # Example size, adjust as needed\n",
        "valid_size = 1_000   # Example size, adjust as needed\n",
        "\n",
        "X_train = tf.constant(sentences_en[:train_size])\n",
        "X_valid = tf.constant(sentences_en[train_size:train_size + valid_size])\n",
        "\n",
        "X_train_dec = tf.constant([f\"startofseq {s}\" for s in sentences_es[:train_size]])\n",
        "X_valid_dec = tf.constant([f\"startofseq {s}\" for s in sentences_es[train_size:train_size + valid_size]])\n",
        "\n",
        "y_train = text_vec_layer_es([f\"{s} endofseq\" for s in sentences_es[:train_size]])\n",
        "y_valid = text_vec_layer_es([f\"{s} endofseq\" for s in sentences_es[train_size:train_size + valid_size]])\n"
      ],
      "metadata": {
        "id": "xkLhIF24pM8T"
      },
      "execution_count": null,
      "outputs": []
    },
    {
      "cell_type": "code",
      "source": [
        "len(X_train), len(X_valid)"
      ],
      "metadata": {
        "colab": {
          "base_uri": "https://localhost:8080/"
        },
        "id": "6XbKb2P0pOmv",
        "outputId": "5dafb771-7d21-4872-c76c-635b7f95a585"
      },
      "execution_count": null,
      "outputs": [
        {
          "output_type": "execute_result",
          "data": {
            "text/plain": [
              "(5000, 1000)"
            ]
          },
          "metadata": {},
          "execution_count": 25
        }
      ]
    },
    {
      "cell_type": "code",
      "source": [
        "X_train[:5]"
      ],
      "metadata": {
        "colab": {
          "base_uri": "https://localhost:8080/"
        },
        "id": "mijdLpm9cgLR",
        "outputId": "11fd5c52-c6fb-421c-aff4-ead112b8b653"
      },
      "execution_count": null,
      "outputs": [
        {
          "output_type": "execute_result",
          "data": {
            "text/plain": [
              "<tf.Tensor: shape=(5,), dtype=string, numpy=\n",
              "array([b'She is a nurse.', b'Do you want to come along with us?',\n",
              "       b\"I'm ready to go.\", b'This tie goes well with the suit, I guess.',\n",
              "       b\"We're rich.\"], dtype=object)>"
            ]
          },
          "metadata": {},
          "execution_count": 26
        }
      ]
    },
    {
      "cell_type": "markdown",
      "source": [
        "Since the model is not sequential, need to use the functional tensorflow api"
      ],
      "metadata": {
        "id": "57DfKQc1ccJZ"
      }
    },
    {
      "cell_type": "code",
      "source": [
        "# requires 2 text inputs, one for encoder and one for decoder\n",
        "\n",
        "encoder_inputs = tf.keras.layers.Input(shape=[], dtype=\"string\", name=\"input_encoder\")\n",
        "\n",
        "decoder_inputs = tf.keras.layers.Input(shape=[], dtype=\"string\", name=\"input_decoder\")"
      ],
      "metadata": {
        "id": "Kk71ymBOc16Y"
      },
      "execution_count": null,
      "outputs": []
    },
    {
      "cell_type": "code",
      "source": [
        "# need to encode these sentences use TextVectorization layers we prepared earlier, followed by an embedding layer for each language with mask_zero=True to ensure masking is handled automatically\n",
        "\n",
        "embed_size = 128\n",
        "encoder_input_ids = text_vec_layer_en(encoder_inputs)\n",
        "decoder_input_ids = text_vec_layer_es(decoder_inputs)\n",
        "\n",
        "encoder_embedding_layer = tf.keras.layers.Embedding(vocab_size,\n",
        "                                                    embed_size,\n",
        "                                                    mask_zero=True)\n",
        "decoder_embedding_layer = tf.keras.layers.Embedding(vocab_size,\n",
        "                                                    embed_size,\n",
        "                                                    mask_zero=True)\n",
        "\n",
        "encoder_embeddings = encoder_embedding_layer(encoder_input_ids)\n",
        "decoder_embeddings = decoder_embedding_layer(decoder_input_ids)"
      ],
      "metadata": {
        "id": "ABddn0g6dJX_"
      },
      "execution_count": null,
      "outputs": []
    },
    {
      "cell_type": "markdown",
      "source": [
        "Now create encoder and pass it the embedded inputs\n",
        "\n",
        "Since we're using LSTM, there are 2 states:\n",
        "* short term state\n",
        "* long term state\n",
        "\n",
        "The layer returns these states separately which is why we had to write *encoder_state to group both states in a list:"
      ],
      "metadata": {
        "id": "DfecVwtGePp1"
      }
    },
    {
      "cell_type": "code",
      "source": [
        "# to keep simple just used a single LSTM layer but you could stack several of them\n",
        "encoder = tf.keras.layers.LSTM(512, return_state=True) # return_state to get a reference to the layers final state\n",
        "encoder_outputs, *encoder_state = encoder(encoder_embeddings)"
      ],
      "metadata": {
        "id": "VsUWIujGd9Gx"
      },
      "execution_count": null,
      "outputs": []
    },
    {
      "cell_type": "code",
      "source": [
        "# use the encoder_state as the intial state of the decoder\n",
        "decoder = tf.keras.layers.LSTM(512, return_sequences=True)\n",
        "decoder_outputs = decoder(decoder_embeddings, initial_state=encoder_state)"
      ],
      "metadata": {
        "id": "iQ7M6tERezeR"
      },
      "execution_count": null,
      "outputs": []
    },
    {
      "cell_type": "code",
      "source": [
        "output_layer = tf.keras.layers.Dense(vocab_size, activation=\"softmax\")\n",
        "y_proba = output_layer(decoder_outputs)"
      ],
      "metadata": {
        "id": "AZHuQCPxfJol"
      },
      "execution_count": null,
      "outputs": []
    },
    {
      "cell_type": "code",
      "source": [
        "model = tf.keras.Model(inputs=[encoder_inputs, decoder_inputs],\n",
        "                       outputs=[y_proba])"
      ],
      "metadata": {
        "id": "4YiWn0PufUF2"
      },
      "execution_count": null,
      "outputs": []
    },
    {
      "cell_type": "code",
      "source": [
        "model.summary()"
      ],
      "metadata": {
        "colab": {
          "base_uri": "https://localhost:8080/"
        },
        "id": "-mPXFCFMh11N",
        "outputId": "4e690abb-b9c8-47e0-b74f-6c76e35acc94"
      },
      "execution_count": null,
      "outputs": [
        {
          "output_type": "stream",
          "name": "stdout",
          "text": [
            "Model: \"model_1\"\n",
            "__________________________________________________________________________________________________\n",
            " Layer (type)                Output Shape                 Param #   Connected to                  \n",
            "==================================================================================================\n",
            " input_encoder (InputLayer)  [(None,)]                    0         []                            \n",
            "                                                                                                  \n",
            " input_decoder (InputLayer)  [(None,)]                    0         []                            \n",
            "                                                                                                  \n",
            " text_vectorization (TextVe  (None, 50)                   0         ['input_encoder[0][0]']       \n",
            " ctorization)                                                                                     \n",
            "                                                                                                  \n",
            " text_vectorization_1 (Text  (None, 50)                   0         ['input_decoder[0][0]']       \n",
            " Vectorization)                                                                                   \n",
            "                                                                                                  \n",
            " embedding_2 (Embedding)     (None, 50, 128)              128000    ['text_vectorization[1][0]']  \n",
            "                                                                                                  \n",
            " embedding_3 (Embedding)     (None, 50, 128)              128000    ['text_vectorization_1[1][0]']\n",
            "                                                                                                  \n",
            " lstm_2 (LSTM)               [(None, 512),                1312768   ['embedding_2[0][0]']         \n",
            "                              (None, 512),                                                        \n",
            "                              (None, 512)]                                                        \n",
            "                                                                                                  \n",
            " lstm_3 (LSTM)               (None, 50, 512)              1312768   ['embedding_3[0][0]',         \n",
            "                                                                     'lstm_2[0][1]',              \n",
            "                                                                     'lstm_2[0][2]']              \n",
            "                                                                                                  \n",
            " dense_2 (Dense)             (None, 50, 1000)             513000    ['lstm_3[0][0]']              \n",
            "                                                                                                  \n",
            "==================================================================================================\n",
            "Total params: 3394536 (12.95 MB)\n",
            "Trainable params: 3394536 (12.95 MB)\n",
            "Non-trainable params: 0 (0.00 Byte)\n",
            "__________________________________________________________________________________________________\n"
          ]
        }
      ]
    },
    {
      "cell_type": "code",
      "source": [
        "# plot the model\n",
        "tf.keras.utils.plot_model(model, show_shapes=True)"
      ],
      "metadata": {
        "colab": {
          "base_uri": "https://localhost:8080/",
          "height": 644
        },
        "id": "KvPERlCxh3wH",
        "outputId": "e4c1ffd0-69db-4a51-cf4a-e7cc56204793"
      },
      "execution_count": null,
      "outputs": [
        {
          "output_type": "execute_result",
          "data": {
            "image/png": "[encoded data removed]",
            "text/plain": [
              "<IPython.core.display.Image object>"
            ]
          },
          "metadata": {},
          "execution_count": 35
        }
      ]
    },
    {
      "cell_type": "code",
      "source": [
        "# compile the model\n",
        "model.compile(loss=\"sparse_categorical_crossentropy\",\n",
        "              optimizer=\"nadam\",\n",
        "              metrics=[\"accuracy\"])\n",
        "# fit the model\n",
        "model.fit((X_train, X_train_dec),\n",
        "          y_train,\n",
        "          validation_data=((X_valid, X_valid_dec), y_valid),\n",
        "          epochs=10)"
      ],
      "metadata": {
        "colab": {
          "base_uri": "https://localhost:8080/"
        },
        "id": "xY4YnXFGh-Ij",
        "outputId": "08722693-382f-4be9-d6ca-f78a4ebc7e92"
      },
      "execution_count": null,
      "outputs": [
        {
          "output_type": "stream",
          "name": "stdout",
          "text": [
            "Epoch 1/10\n",
            "157/157 [==============================] - 276s 2s/step - loss: 4.4873 - accuracy: 0.2685 - val_loss: 4.1293 - val_accuracy: 0.2943\n",
            "Epoch 2/10\n",
            "157/157 [==============================] - 263s 2s/step - loss: 3.9820 - accuracy: 0.3082 - val_loss: 3.8853 - val_accuracy: 0.3142\n",
            "Epoch 3/10\n",
            "157/157 [==============================] - 263s 2s/step - loss: 3.7019 - accuracy: 0.3313 - val_loss: 3.6568 - val_accuracy: 0.3341\n",
            "Epoch 4/10\n",
            "157/157 [==============================] - 263s 2s/step - loss: 3.4268 - accuracy: 0.3540 - val_loss: 3.4810 - val_accuracy: 0.3468\n",
            "Epoch 5/10\n",
            "157/157 [==============================] - 251s 2s/step - loss: 3.2192 - accuracy: 0.3729 - val_loss: 3.3813 - val_accuracy: 0.3608\n",
            "Epoch 6/10\n",
            "157/157 [==============================] - 263s 2s/step - loss: 3.0264 - accuracy: 0.3924 - val_loss: 3.2889 - val_accuracy: 0.3743\n",
            "Epoch 7/10\n",
            "157/157 [==============================] - 252s 2s/step - loss: 2.8354 - accuracy: 0.4166 - val_loss: 3.1996 - val_accuracy: 0.3897\n",
            "Epoch 8/10\n",
            "157/157 [==============================] - 252s 2s/step - loss: 2.6432 - accuracy: 0.4387 - val_loss: 3.1373 - val_accuracy: 0.4035\n",
            "Epoch 9/10\n",
            "157/157 [==============================] - 263s 2s/step - loss: 2.4575 - accuracy: 0.4623 - val_loss: 3.0758 - val_accuracy: 0.4124\n",
            "Epoch 10/10\n",
            "157/157 [==============================] - 254s 2s/step - loss: 2.2717 - accuracy: 0.4857 - val_loss: 3.0461 - val_accuracy: 0.4200\n"
          ]
        },
        {
          "output_type": "execute_result",
          "data": {
            "text/plain": [
              "<keras.src.callbacks.History at 0x7f0fc6105060>"
            ]
          },
          "metadata": {},
          "execution_count": 36
        }
      ]
    },
    {
      "cell_type": "code",
      "source": [
        "def translate(sentence_en):\n",
        "  translation = \"\"\n",
        "  for word_idx in range(max_length):\n",
        "    X = np.array([sentence_en]) # encoder input\n",
        "    X_dec = np.array([\"startofseq \" + translation]) # decoder input\n",
        "    y_proba = model.predict((X, X_dec))[0, word_idx]\n",
        "    predicted_word_id = np.argmax(y_proba)\n",
        "    predicted_word = text_vec_layer_es.get_vocabulary()[predicted_word_id]\n",
        "    if predicted_word == \"endofseq\":\n",
        "      break\n",
        "    translation += \" \" + predicted_word\n",
        "  return translation.strip()"
      ],
      "metadata": {
        "id": "iaIQzP_IiM1X"
      },
      "execution_count": null,
      "outputs": []
    },
    {
      "cell_type": "code",
      "source": [
        "translate(\"I like soccer and going to the beach\")"
      ],
      "metadata": {
        "colab": {
          "base_uri": "https://localhost:8080/",
          "height": 196
        },
        "id": "0_yItf2qz296",
        "outputId": "d4dbdaf9-e031-4b59-bb18-3adfe771f95c"
      },
      "execution_count": null,
      "outputs": [
        {
          "output_type": "stream",
          "name": "stdout",
          "text": [
            "1/1 [==============================] - 0s 164ms/step\n",
            "1/1 [==============================] - 0s 97ms/step\n",
            "1/1 [==============================] - 0s 99ms/step\n",
            "1/1 [==============================] - 0s 100ms/step\n",
            "1/1 [==============================] - 0s 116ms/step\n",
            "1/1 [==============================] - 0s 103ms/step\n",
            "1/1 [==============================] - 0s 91ms/step\n",
            "1/1 [==============================] - 0s 99ms/step\n",
            "1/1 [==============================] - 0s 106ms/step\n"
          ]
        },
        {
          "output_type": "execute_result",
          "data": {
            "text/plain": [
              "'yo me [UNK] a mi fiesta esta noche'"
            ],
            "application/vnd.google.colaboratory.intrinsic+json": {
              "type": "string"
            }
          },
          "metadata": {},
          "execution_count": 40
        }
      ]
    }
  ]
}