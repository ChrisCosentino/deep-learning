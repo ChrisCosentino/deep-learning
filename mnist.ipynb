{
 "cells": [
  {
   "cell_type": "code",
   "execution_count": 1,
   "id": "e99219f1",
   "metadata": {
    "_cell_guid": "b1076dfc-b9ad-4769-8c92-a6c4dae69d19",
    "_uuid": "8f2839f25d086af736a60e9eeb907d3b93b6e0e5",
    "execution": {
     "iopub.execute_input": "2023-12-25T05:39:38.627183Z",
     "iopub.status.busy": "2023-12-25T05:39:38.626546Z",
     "iopub.status.idle": "2023-12-25T05:39:39.379503Z",
     "shell.execute_reply": "2023-12-25T05:39:39.378813Z"
    },
    "papermill": {
     "duration": 0.765259,
     "end_time": "2023-12-25T05:39:39.381521",
     "exception": false,
     "start_time": "2023-12-25T05:39:38.616262",
     "status": "completed"
    },
    "tags": []
   },
   "outputs": [
    {
     "name": "stdout",
     "output_type": "stream",
     "text": [
      "/kaggle/input/digit-recognizer/sample_submission.csv\n",
      "/kaggle/input/digit-recognizer/train.csv\n",
      "/kaggle/input/digit-recognizer/test.csv\n"
     ]
    }
   ],
   "source": [
    "# This Python 3 environment comes with many helpful analytics libraries installed\n",
    "# It is defined by the kaggle/python Docker image: https://github.com/kaggle/docker-python\n",
    "# For example, here's several helpful packages to load\n",
    "\n",
    "import numpy as np # linear algebra\n",
    "import pandas as pd # data processing, CSV file I/O (e.g. pd.read_csv)\n",
    "\n",
    "# Input data files are available in the read-only \"../input/\" directory\n",
    "# For example, running this (by clicking run or pressing Shift+Enter) will list all files under the input directory\n",
    "\n",
    "import os\n",
    "for dirname, _, filenames in os.walk('/kaggle/input'):\n",
    "    for filename in filenames:\n",
    "        print(os.path.join(dirname, filename))\n",
    "\n",
    "# You can write up to 20GB to the current directory (/kaggle/working/) that gets preserved as output when you create a version using \"Save & Run All\" \n",
    "# You can also write temporary files to /kaggle/temp/, but they won't be saved outside of the current session"
   ]
  },
  {
   "cell_type": "code",
   "execution_count": 2,
   "id": "a33834f7",
   "metadata": {
    "execution": {
     "iopub.execute_input": "2023-12-25T05:39:39.400683Z",
     "iopub.status.busy": "2023-12-25T05:39:39.400054Z",
     "iopub.status.idle": "2023-12-25T05:39:51.737112Z",
     "shell.execute_reply": "2023-12-25T05:39:51.735102Z"
    },
    "papermill": {
     "duration": 12.349488,
     "end_time": "2023-12-25T05:39:51.739687",
     "exception": false,
     "start_time": "2023-12-25T05:39:39.390199",
     "status": "completed"
    },
    "tags": []
   },
   "outputs": [],
   "source": [
    "import tensorflow as tf\n",
    "from tensorflow.keras.preprocessing.image import ImageDataGenerator\n",
    "import pandas as pd"
   ]
  },
  {
   "cell_type": "code",
   "execution_count": 3,
   "id": "96a3cde8",
   "metadata": {
    "execution": {
     "iopub.execute_input": "2023-12-25T05:39:51.758739Z",
     "iopub.status.busy": "2023-12-25T05:39:51.758095Z",
     "iopub.status.idle": "2023-12-25T05:39:54.152076Z",
     "shell.execute_reply": "2023-12-25T05:39:54.151161Z"
    },
    "papermill": {
     "duration": 2.405753,
     "end_time": "2023-12-25T05:39:54.154029",
     "exception": false,
     "start_time": "2023-12-25T05:39:51.748276",
     "status": "completed"
    },
    "tags": []
   },
   "outputs": [
    {
     "data": {
      "text/html": [
       "<div>\n",
       "<style scoped>\n",
       "    .dataframe tbody tr th:only-of-type {\n",
       "        vertical-align: middle;\n",
       "    }\n",
       "\n",
       "    .dataframe tbody tr th {\n",
       "        vertical-align: top;\n",
       "    }\n",
       "\n",
       "    .dataframe thead th {\n",
       "        text-align: right;\n",
       "    }\n",
       "</style>\n",
       "<table border=\"1\" class=\"dataframe\">\n",
       "  <thead>\n",
       "    <tr style=\"text-align: right;\">\n",
       "      <th></th>\n",
       "      <th>label</th>\n",
       "      <th>pixel0</th>\n",
       "      <th>pixel1</th>\n",
       "      <th>pixel2</th>\n",
       "      <th>pixel3</th>\n",
       "      <th>pixel4</th>\n",
       "      <th>pixel5</th>\n",
       "      <th>pixel6</th>\n",
       "      <th>pixel7</th>\n",
       "      <th>pixel8</th>\n",
       "      <th>...</th>\n",
       "      <th>pixel774</th>\n",
       "      <th>pixel775</th>\n",
       "      <th>pixel776</th>\n",
       "      <th>pixel777</th>\n",
       "      <th>pixel778</th>\n",
       "      <th>pixel779</th>\n",
       "      <th>pixel780</th>\n",
       "      <th>pixel781</th>\n",
       "      <th>pixel782</th>\n",
       "      <th>pixel783</th>\n",
       "    </tr>\n",
       "  </thead>\n",
       "  <tbody>\n",
       "    <tr>\n",
       "      <th>0</th>\n",
       "      <td>1</td>\n",
       "      <td>0</td>\n",
       "      <td>0</td>\n",
       "      <td>0</td>\n",
       "      <td>0</td>\n",
       "      <td>0</td>\n",
       "      <td>0</td>\n",
       "      <td>0</td>\n",
       "      <td>0</td>\n",
       "      <td>0</td>\n",
       "      <td>...</td>\n",
       "      <td>0</td>\n",
       "      <td>0</td>\n",
       "      <td>0</td>\n",
       "      <td>0</td>\n",
       "      <td>0</td>\n",
       "      <td>0</td>\n",
       "      <td>0</td>\n",
       "      <td>0</td>\n",
       "      <td>0</td>\n",
       "      <td>0</td>\n",
       "    </tr>\n",
       "    <tr>\n",
       "      <th>1</th>\n",
       "      <td>0</td>\n",
       "      <td>0</td>\n",
       "      <td>0</td>\n",
       "      <td>0</td>\n",
       "      <td>0</td>\n",
       "      <td>0</td>\n",
       "      <td>0</td>\n",
       "      <td>0</td>\n",
       "      <td>0</td>\n",
       "      <td>0</td>\n",
       "      <td>...</td>\n",
       "      <td>0</td>\n",
       "      <td>0</td>\n",
       "      <td>0</td>\n",
       "      <td>0</td>\n",
       "      <td>0</td>\n",
       "      <td>0</td>\n",
       "      <td>0</td>\n",
       "      <td>0</td>\n",
       "      <td>0</td>\n",
       "      <td>0</td>\n",
       "    </tr>\n",
       "    <tr>\n",
       "      <th>2</th>\n",
       "      <td>1</td>\n",
       "      <td>0</td>\n",
       "      <td>0</td>\n",
       "      <td>0</td>\n",
       "      <td>0</td>\n",
       "      <td>0</td>\n",
       "      <td>0</td>\n",
       "      <td>0</td>\n",
       "      <td>0</td>\n",
       "      <td>0</td>\n",
       "      <td>...</td>\n",
       "      <td>0</td>\n",
       "      <td>0</td>\n",
       "      <td>0</td>\n",
       "      <td>0</td>\n",
       "      <td>0</td>\n",
       "      <td>0</td>\n",
       "      <td>0</td>\n",
       "      <td>0</td>\n",
       "      <td>0</td>\n",
       "      <td>0</td>\n",
       "    </tr>\n",
       "    <tr>\n",
       "      <th>3</th>\n",
       "      <td>4</td>\n",
       "      <td>0</td>\n",
       "      <td>0</td>\n",
       "      <td>0</td>\n",
       "      <td>0</td>\n",
       "      <td>0</td>\n",
       "      <td>0</td>\n",
       "      <td>0</td>\n",
       "      <td>0</td>\n",
       "      <td>0</td>\n",
       "      <td>...</td>\n",
       "      <td>0</td>\n",
       "      <td>0</td>\n",
       "      <td>0</td>\n",
       "      <td>0</td>\n",
       "      <td>0</td>\n",
       "      <td>0</td>\n",
       "      <td>0</td>\n",
       "      <td>0</td>\n",
       "      <td>0</td>\n",
       "      <td>0</td>\n",
       "    </tr>\n",
       "    <tr>\n",
       "      <th>4</th>\n",
       "      <td>0</td>\n",
       "      <td>0</td>\n",
       "      <td>0</td>\n",
       "      <td>0</td>\n",
       "      <td>0</td>\n",
       "      <td>0</td>\n",
       "      <td>0</td>\n",
       "      <td>0</td>\n",
       "      <td>0</td>\n",
       "      <td>0</td>\n",
       "      <td>...</td>\n",
       "      <td>0</td>\n",
       "      <td>0</td>\n",
       "      <td>0</td>\n",
       "      <td>0</td>\n",
       "      <td>0</td>\n",
       "      <td>0</td>\n",
       "      <td>0</td>\n",
       "      <td>0</td>\n",
       "      <td>0</td>\n",
       "      <td>0</td>\n",
       "    </tr>\n",
       "    <tr>\n",
       "      <th>...</th>\n",
       "      <td>...</td>\n",
       "      <td>...</td>\n",
       "      <td>...</td>\n",
       "      <td>...</td>\n",
       "      <td>...</td>\n",
       "      <td>...</td>\n",
       "      <td>...</td>\n",
       "      <td>...</td>\n",
       "      <td>...</td>\n",
       "      <td>...</td>\n",
       "      <td>...</td>\n",
       "      <td>...</td>\n",
       "      <td>...</td>\n",
       "      <td>...</td>\n",
       "      <td>...</td>\n",
       "      <td>...</td>\n",
       "      <td>...</td>\n",
       "      <td>...</td>\n",
       "      <td>...</td>\n",
       "      <td>...</td>\n",
       "      <td>...</td>\n",
       "    </tr>\n",
       "    <tr>\n",
       "      <th>41995</th>\n",
       "      <td>0</td>\n",
       "      <td>0</td>\n",
       "      <td>0</td>\n",
       "      <td>0</td>\n",
       "      <td>0</td>\n",
       "      <td>0</td>\n",
       "      <td>0</td>\n",
       "      <td>0</td>\n",
       "      <td>0</td>\n",
       "      <td>0</td>\n",
       "      <td>...</td>\n",
       "      <td>0</td>\n",
       "      <td>0</td>\n",
       "      <td>0</td>\n",
       "      <td>0</td>\n",
       "      <td>0</td>\n",
       "      <td>0</td>\n",
       "      <td>0</td>\n",
       "      <td>0</td>\n",
       "      <td>0</td>\n",
       "      <td>0</td>\n",
       "    </tr>\n",
       "    <tr>\n",
       "      <th>41996</th>\n",
       "      <td>1</td>\n",
       "      <td>0</td>\n",
       "      <td>0</td>\n",
       "      <td>0</td>\n",
       "      <td>0</td>\n",
       "      <td>0</td>\n",
       "      <td>0</td>\n",
       "      <td>0</td>\n",
       "      <td>0</td>\n",
       "      <td>0</td>\n",
       "      <td>...</td>\n",
       "      <td>0</td>\n",
       "      <td>0</td>\n",
       "      <td>0</td>\n",
       "      <td>0</td>\n",
       "      <td>0</td>\n",
       "      <td>0</td>\n",
       "      <td>0</td>\n",
       "      <td>0</td>\n",
       "      <td>0</td>\n",
       "      <td>0</td>\n",
       "    </tr>\n",
       "    <tr>\n",
       "      <th>41997</th>\n",
       "      <td>7</td>\n",
       "      <td>0</td>\n",
       "      <td>0</td>\n",
       "      <td>0</td>\n",
       "      <td>0</td>\n",
       "      <td>0</td>\n",
       "      <td>0</td>\n",
       "      <td>0</td>\n",
       "      <td>0</td>\n",
       "      <td>0</td>\n",
       "      <td>...</td>\n",
       "      <td>0</td>\n",
       "      <td>0</td>\n",
       "      <td>0</td>\n",
       "      <td>0</td>\n",
       "      <td>0</td>\n",
       "      <td>0</td>\n",
       "      <td>0</td>\n",
       "      <td>0</td>\n",
       "      <td>0</td>\n",
       "      <td>0</td>\n",
       "    </tr>\n",
       "    <tr>\n",
       "      <th>41998</th>\n",
       "      <td>6</td>\n",
       "      <td>0</td>\n",
       "      <td>0</td>\n",
       "      <td>0</td>\n",
       "      <td>0</td>\n",
       "      <td>0</td>\n",
       "      <td>0</td>\n",
       "      <td>0</td>\n",
       "      <td>0</td>\n",
       "      <td>0</td>\n",
       "      <td>...</td>\n",
       "      <td>0</td>\n",
       "      <td>0</td>\n",
       "      <td>0</td>\n",
       "      <td>0</td>\n",
       "      <td>0</td>\n",
       "      <td>0</td>\n",
       "      <td>0</td>\n",
       "      <td>0</td>\n",
       "      <td>0</td>\n",
       "      <td>0</td>\n",
       "    </tr>\n",
       "    <tr>\n",
       "      <th>41999</th>\n",
       "      <td>9</td>\n",
       "      <td>0</td>\n",
       "      <td>0</td>\n",
       "      <td>0</td>\n",
       "      <td>0</td>\n",
       "      <td>0</td>\n",
       "      <td>0</td>\n",
       "      <td>0</td>\n",
       "      <td>0</td>\n",
       "      <td>0</td>\n",
       "      <td>...</td>\n",
       "      <td>0</td>\n",
       "      <td>0</td>\n",
       "      <td>0</td>\n",
       "      <td>0</td>\n",
       "      <td>0</td>\n",
       "      <td>0</td>\n",
       "      <td>0</td>\n",
       "      <td>0</td>\n",
       "      <td>0</td>\n",
       "      <td>0</td>\n",
       "    </tr>\n",
       "  </tbody>\n",
       "</table>\n",
       "<p>42000 rows × 785 columns</p>\n",
       "</div>"
      ],
      "text/plain": [
       "       label  pixel0  pixel1  pixel2  pixel3  pixel4  pixel5  pixel6  pixel7  \\\n",
       "0          1       0       0       0       0       0       0       0       0   \n",
       "1          0       0       0       0       0       0       0       0       0   \n",
       "2          1       0       0       0       0       0       0       0       0   \n",
       "3          4       0       0       0       0       0       0       0       0   \n",
       "4          0       0       0       0       0       0       0       0       0   \n",
       "...      ...     ...     ...     ...     ...     ...     ...     ...     ...   \n",
       "41995      0       0       0       0       0       0       0       0       0   \n",
       "41996      1       0       0       0       0       0       0       0       0   \n",
       "41997      7       0       0       0       0       0       0       0       0   \n",
       "41998      6       0       0       0       0       0       0       0       0   \n",
       "41999      9       0       0       0       0       0       0       0       0   \n",
       "\n",
       "       pixel8  ...  pixel774  pixel775  pixel776  pixel777  pixel778  \\\n",
       "0           0  ...         0         0         0         0         0   \n",
       "1           0  ...         0         0         0         0         0   \n",
       "2           0  ...         0         0         0         0         0   \n",
       "3           0  ...         0         0         0         0         0   \n",
       "4           0  ...         0         0         0         0         0   \n",
       "...       ...  ...       ...       ...       ...       ...       ...   \n",
       "41995       0  ...         0         0         0         0         0   \n",
       "41996       0  ...         0         0         0         0         0   \n",
       "41997       0  ...         0         0         0         0         0   \n",
       "41998       0  ...         0         0         0         0         0   \n",
       "41999       0  ...         0         0         0         0         0   \n",
       "\n",
       "       pixel779  pixel780  pixel781  pixel782  pixel783  \n",
       "0             0         0         0         0         0  \n",
       "1             0         0         0         0         0  \n",
       "2             0         0         0         0         0  \n",
       "3             0         0         0         0         0  \n",
       "4             0         0         0         0         0  \n",
       "...         ...       ...       ...       ...       ...  \n",
       "41995         0         0         0         0         0  \n",
       "41996         0         0         0         0         0  \n",
       "41997         0         0         0         0         0  \n",
       "41998         0         0         0         0         0  \n",
       "41999         0         0         0         0         0  \n",
       "\n",
       "[42000 rows x 785 columns]"
      ]
     },
     "execution_count": 3,
     "metadata": {},
     "output_type": "execute_result"
    }
   ],
   "source": [
    "train_dir = \"/kaggle/input/digit-recognizer/train.csv\"\n",
    "\n",
    "train_df = pd.read_csv(train_dir)\n",
    "train_df"
   ]
  },
  {
   "cell_type": "code",
   "execution_count": null,
   "id": "f930e26c",
   "metadata": {
    "papermill": {
     "duration": 0.00879,
     "end_time": "2023-12-25T05:39:54.171273",
     "exception": false,
     "start_time": "2023-12-25T05:39:54.162483",
     "status": "completed"
    },
    "tags": []
   },
   "outputs": [],
   "source": []
  },
  {
   "cell_type": "code",
   "execution_count": 4,
   "id": "0b02169d",
   "metadata": {
    "execution": {
     "iopub.execute_input": "2023-12-25T05:39:54.190364Z",
     "iopub.status.busy": "2023-12-25T05:39:54.190005Z",
     "iopub.status.idle": "2023-12-25T05:39:54.240545Z",
     "shell.execute_reply": "2023-12-25T05:39:54.239510Z"
    },
    "papermill": {
     "duration": 0.062451,
     "end_time": "2023-12-25T05:39:54.242706",
     "exception": false,
     "start_time": "2023-12-25T05:39:54.180255",
     "status": "completed"
    },
    "tags": []
   },
   "outputs": [
    {
     "data": {
      "text/plain": [
       "array([[0, 0, 0, ..., 0, 0, 0],\n",
       "       [0, 0, 0, ..., 0, 0, 0],\n",
       "       [0, 0, 0, ..., 0, 0, 0],\n",
       "       ...,\n",
       "       [0, 0, 0, ..., 0, 0, 0],\n",
       "       [0, 0, 0, ..., 0, 0, 0],\n",
       "       [0, 0, 0, ..., 0, 0, 0]])"
      ]
     },
     "execution_count": 4,
     "metadata": {},
     "output_type": "execute_result"
    }
   ],
   "source": [
    "# # split the train data into features and labels\n",
    "X_train = train_df.drop(\"label\", axis=1).values\n",
    "y_train = train_df[\"label\"].values\n",
    "X_train"
   ]
  },
  {
   "cell_type": "code",
   "execution_count": 5,
   "id": "bb4f0b1d",
   "metadata": {
    "execution": {
     "iopub.execute_input": "2023-12-25T05:39:54.262237Z",
     "iopub.status.busy": "2023-12-25T05:39:54.261838Z",
     "iopub.status.idle": "2023-12-25T05:39:54.610518Z",
     "shell.execute_reply": "2023-12-25T05:39:54.609627Z"
    },
    "papermill": {
     "duration": 0.361423,
     "end_time": "2023-12-25T05:39:54.613052",
     "exception": false,
     "start_time": "2023-12-25T05:39:54.251629",
     "status": "completed"
    },
    "tags": []
   },
   "outputs": [
    {
     "data": {
      "image/png": "[encoded data removed]",
      "text/plain": [
       "<Figure size 640x480 with 5 Axes>"
      ]
     },
     "metadata": {},
     "output_type": "display_data"
    }
   ],
   "source": [
    "# # display 5 images\n",
    "import matplotlib.pyplot as plt\n",
    "for i in range(5):\n",
    "    plt.subplot(1, 5, i + 1)\n",
    "    plt.imshow(X_train.reshape(-1, 28, 28)[i], cmap='gray')\n",
    "    plt.title(f\"Label: {y_train[i]}\")\n",
    "    plt.axis('off')"
   ]
  },
  {
   "cell_type": "code",
   "execution_count": 6,
   "id": "ea5ce87a",
   "metadata": {
    "execution": {
     "iopub.execute_input": "2023-12-25T05:39:54.632212Z",
     "iopub.status.busy": "2023-12-25T05:39:54.631819Z",
     "iopub.status.idle": "2023-12-25T05:39:55.858571Z",
     "shell.execute_reply": "2023-12-25T05:39:55.857387Z"
    },
    "papermill": {
     "duration": 1.238816,
     "end_time": "2023-12-25T05:39:55.860702",
     "exception": false,
     "start_time": "2023-12-25T05:39:54.621886",
     "status": "completed"
    },
    "tags": []
   },
   "outputs": [
    {
     "data": {
      "text/plain": [
       "(37800, 4200)"
      ]
     },
     "execution_count": 6,
     "metadata": {},
     "output_type": "execute_result"
    }
   ],
   "source": [
    "# split the train set into train and validation set\n",
    "from sklearn.model_selection import train_test_split\n",
    "train_data, val_data = train_test_split(train_df, test_size=0.1, random_state=42)\n",
    "len(train_data), len(val_data)"
   ]
  },
  {
   "cell_type": "code",
   "execution_count": 7,
   "id": "ab7e0c17",
   "metadata": {
    "execution": {
     "iopub.execute_input": "2023-12-25T05:39:55.879988Z",
     "iopub.status.busy": "2023-12-25T05:39:55.879615Z",
     "iopub.status.idle": "2023-12-25T05:39:55.898976Z",
     "shell.execute_reply": "2023-12-25T05:39:55.897870Z"
    },
    "papermill": {
     "duration": 0.031432,
     "end_time": "2023-12-25T05:39:55.901050",
     "exception": false,
     "start_time": "2023-12-25T05:39:55.869618",
     "status": "completed"
    },
    "tags": []
   },
   "outputs": [
    {
     "data": {
      "text/html": [
       "<div>\n",
       "<style scoped>\n",
       "    .dataframe tbody tr th:only-of-type {\n",
       "        vertical-align: middle;\n",
       "    }\n",
       "\n",
       "    .dataframe tbody tr th {\n",
       "        vertical-align: top;\n",
       "    }\n",
       "\n",
       "    .dataframe thead th {\n",
       "        text-align: right;\n",
       "    }\n",
       "</style>\n",
       "<table border=\"1\" class=\"dataframe\">\n",
       "  <thead>\n",
       "    <tr style=\"text-align: right;\">\n",
       "      <th></th>\n",
       "      <th>label</th>\n",
       "      <th>pixel0</th>\n",
       "      <th>pixel1</th>\n",
       "      <th>pixel2</th>\n",
       "      <th>pixel3</th>\n",
       "      <th>pixel4</th>\n",
       "      <th>pixel5</th>\n",
       "      <th>pixel6</th>\n",
       "      <th>pixel7</th>\n",
       "      <th>pixel8</th>\n",
       "      <th>...</th>\n",
       "      <th>pixel774</th>\n",
       "      <th>pixel775</th>\n",
       "      <th>pixel776</th>\n",
       "      <th>pixel777</th>\n",
       "      <th>pixel778</th>\n",
       "      <th>pixel779</th>\n",
       "      <th>pixel780</th>\n",
       "      <th>pixel781</th>\n",
       "      <th>pixel782</th>\n",
       "      <th>pixel783</th>\n",
       "    </tr>\n",
       "  </thead>\n",
       "  <tbody>\n",
       "    <tr>\n",
       "      <th>5457</th>\n",
       "      <td>8</td>\n",
       "      <td>0</td>\n",
       "      <td>0</td>\n",
       "      <td>0</td>\n",
       "      <td>0</td>\n",
       "      <td>0</td>\n",
       "      <td>0</td>\n",
       "      <td>0</td>\n",
       "      <td>0</td>\n",
       "      <td>0</td>\n",
       "      <td>...</td>\n",
       "      <td>0</td>\n",
       "      <td>0</td>\n",
       "      <td>0</td>\n",
       "      <td>0</td>\n",
       "      <td>0</td>\n",
       "      <td>0</td>\n",
       "      <td>0</td>\n",
       "      <td>0</td>\n",
       "      <td>0</td>\n",
       "      <td>0</td>\n",
       "    </tr>\n",
       "    <tr>\n",
       "      <th>38509</th>\n",
       "      <td>1</td>\n",
       "      <td>0</td>\n",
       "      <td>0</td>\n",
       "      <td>0</td>\n",
       "      <td>0</td>\n",
       "      <td>0</td>\n",
       "      <td>0</td>\n",
       "      <td>0</td>\n",
       "      <td>0</td>\n",
       "      <td>0</td>\n",
       "      <td>...</td>\n",
       "      <td>0</td>\n",
       "      <td>0</td>\n",
       "      <td>0</td>\n",
       "      <td>0</td>\n",
       "      <td>0</td>\n",
       "      <td>0</td>\n",
       "      <td>0</td>\n",
       "      <td>0</td>\n",
       "      <td>0</td>\n",
       "      <td>0</td>\n",
       "    </tr>\n",
       "    <tr>\n",
       "      <th>25536</th>\n",
       "      <td>9</td>\n",
       "      <td>0</td>\n",
       "      <td>0</td>\n",
       "      <td>0</td>\n",
       "      <td>0</td>\n",
       "      <td>0</td>\n",
       "      <td>0</td>\n",
       "      <td>0</td>\n",
       "      <td>0</td>\n",
       "      <td>0</td>\n",
       "      <td>...</td>\n",
       "      <td>0</td>\n",
       "      <td>0</td>\n",
       "      <td>0</td>\n",
       "      <td>0</td>\n",
       "      <td>0</td>\n",
       "      <td>0</td>\n",
       "      <td>0</td>\n",
       "      <td>0</td>\n",
       "      <td>0</td>\n",
       "      <td>0</td>\n",
       "    </tr>\n",
       "    <tr>\n",
       "      <th>31803</th>\n",
       "      <td>9</td>\n",
       "      <td>0</td>\n",
       "      <td>0</td>\n",
       "      <td>0</td>\n",
       "      <td>0</td>\n",
       "      <td>0</td>\n",
       "      <td>0</td>\n",
       "      <td>0</td>\n",
       "      <td>0</td>\n",
       "      <td>0</td>\n",
       "      <td>...</td>\n",
       "      <td>0</td>\n",
       "      <td>0</td>\n",
       "      <td>0</td>\n",
       "      <td>0</td>\n",
       "      <td>0</td>\n",
       "      <td>0</td>\n",
       "      <td>0</td>\n",
       "      <td>0</td>\n",
       "      <td>0</td>\n",
       "      <td>0</td>\n",
       "    </tr>\n",
       "    <tr>\n",
       "      <th>39863</th>\n",
       "      <td>8</td>\n",
       "      <td>0</td>\n",
       "      <td>0</td>\n",
       "      <td>0</td>\n",
       "      <td>0</td>\n",
       "      <td>0</td>\n",
       "      <td>0</td>\n",
       "      <td>0</td>\n",
       "      <td>0</td>\n",
       "      <td>0</td>\n",
       "      <td>...</td>\n",
       "      <td>0</td>\n",
       "      <td>0</td>\n",
       "      <td>0</td>\n",
       "      <td>0</td>\n",
       "      <td>0</td>\n",
       "      <td>0</td>\n",
       "      <td>0</td>\n",
       "      <td>0</td>\n",
       "      <td>0</td>\n",
       "      <td>0</td>\n",
       "    </tr>\n",
       "    <tr>\n",
       "      <th>...</th>\n",
       "      <td>...</td>\n",
       "      <td>...</td>\n",
       "      <td>...</td>\n",
       "      <td>...</td>\n",
       "      <td>...</td>\n",
       "      <td>...</td>\n",
       "      <td>...</td>\n",
       "      <td>...</td>\n",
       "      <td>...</td>\n",
       "      <td>...</td>\n",
       "      <td>...</td>\n",
       "      <td>...</td>\n",
       "      <td>...</td>\n",
       "      <td>...</td>\n",
       "      <td>...</td>\n",
       "      <td>...</td>\n",
       "      <td>...</td>\n",
       "      <td>...</td>\n",
       "      <td>...</td>\n",
       "      <td>...</td>\n",
       "      <td>...</td>\n",
       "    </tr>\n",
       "    <tr>\n",
       "      <th>16041</th>\n",
       "      <td>4</td>\n",
       "      <td>0</td>\n",
       "      <td>0</td>\n",
       "      <td>0</td>\n",
       "      <td>0</td>\n",
       "      <td>0</td>\n",
       "      <td>0</td>\n",
       "      <td>0</td>\n",
       "      <td>0</td>\n",
       "      <td>0</td>\n",
       "      <td>...</td>\n",
       "      <td>0</td>\n",
       "      <td>0</td>\n",
       "      <td>0</td>\n",
       "      <td>0</td>\n",
       "      <td>0</td>\n",
       "      <td>0</td>\n",
       "      <td>0</td>\n",
       "      <td>0</td>\n",
       "      <td>0</td>\n",
       "      <td>0</td>\n",
       "    </tr>\n",
       "    <tr>\n",
       "      <th>4867</th>\n",
       "      <td>2</td>\n",
       "      <td>0</td>\n",
       "      <td>0</td>\n",
       "      <td>0</td>\n",
       "      <td>0</td>\n",
       "      <td>0</td>\n",
       "      <td>0</td>\n",
       "      <td>0</td>\n",
       "      <td>0</td>\n",
       "      <td>0</td>\n",
       "      <td>...</td>\n",
       "      <td>0</td>\n",
       "      <td>0</td>\n",
       "      <td>0</td>\n",
       "      <td>0</td>\n",
       "      <td>0</td>\n",
       "      <td>0</td>\n",
       "      <td>0</td>\n",
       "      <td>0</td>\n",
       "      <td>0</td>\n",
       "      <td>0</td>\n",
       "    </tr>\n",
       "    <tr>\n",
       "      <th>28123</th>\n",
       "      <td>7</td>\n",
       "      <td>0</td>\n",
       "      <td>0</td>\n",
       "      <td>0</td>\n",
       "      <td>0</td>\n",
       "      <td>0</td>\n",
       "      <td>0</td>\n",
       "      <td>0</td>\n",
       "      <td>0</td>\n",
       "      <td>0</td>\n",
       "      <td>...</td>\n",
       "      <td>0</td>\n",
       "      <td>0</td>\n",
       "      <td>0</td>\n",
       "      <td>0</td>\n",
       "      <td>0</td>\n",
       "      <td>0</td>\n",
       "      <td>0</td>\n",
       "      <td>0</td>\n",
       "      <td>0</td>\n",
       "      <td>0</td>\n",
       "    </tr>\n",
       "    <tr>\n",
       "      <th>3780</th>\n",
       "      <td>7</td>\n",
       "      <td>0</td>\n",
       "      <td>0</td>\n",
       "      <td>0</td>\n",
       "      <td>0</td>\n",
       "      <td>0</td>\n",
       "      <td>0</td>\n",
       "      <td>0</td>\n",
       "      <td>0</td>\n",
       "      <td>0</td>\n",
       "      <td>...</td>\n",
       "      <td>0</td>\n",
       "      <td>0</td>\n",
       "      <td>0</td>\n",
       "      <td>0</td>\n",
       "      <td>0</td>\n",
       "      <td>0</td>\n",
       "      <td>0</td>\n",
       "      <td>0</td>\n",
       "      <td>0</td>\n",
       "      <td>0</td>\n",
       "    </tr>\n",
       "    <tr>\n",
       "      <th>7155</th>\n",
       "      <td>5</td>\n",
       "      <td>0</td>\n",
       "      <td>0</td>\n",
       "      <td>0</td>\n",
       "      <td>0</td>\n",
       "      <td>0</td>\n",
       "      <td>0</td>\n",
       "      <td>0</td>\n",
       "      <td>0</td>\n",
       "      <td>0</td>\n",
       "      <td>...</td>\n",
       "      <td>0</td>\n",
       "      <td>0</td>\n",
       "      <td>0</td>\n",
       "      <td>0</td>\n",
       "      <td>0</td>\n",
       "      <td>0</td>\n",
       "      <td>0</td>\n",
       "      <td>0</td>\n",
       "      <td>0</td>\n",
       "      <td>0</td>\n",
       "    </tr>\n",
       "  </tbody>\n",
       "</table>\n",
       "<p>4200 rows × 785 columns</p>\n",
       "</div>"
      ],
      "text/plain": [
       "       label  pixel0  pixel1  pixel2  pixel3  pixel4  pixel5  pixel6  pixel7  \\\n",
       "5457       8       0       0       0       0       0       0       0       0   \n",
       "38509      1       0       0       0       0       0       0       0       0   \n",
       "25536      9       0       0       0       0       0       0       0       0   \n",
       "31803      9       0       0       0       0       0       0       0       0   \n",
       "39863      8       0       0       0       0       0       0       0       0   \n",
       "...      ...     ...     ...     ...     ...     ...     ...     ...     ...   \n",
       "16041      4       0       0       0       0       0       0       0       0   \n",
       "4867       2       0       0       0       0       0       0       0       0   \n",
       "28123      7       0       0       0       0       0       0       0       0   \n",
       "3780       7       0       0       0       0       0       0       0       0   \n",
       "7155       5       0       0       0       0       0       0       0       0   \n",
       "\n",
       "       pixel8  ...  pixel774  pixel775  pixel776  pixel777  pixel778  \\\n",
       "5457        0  ...         0         0         0         0         0   \n",
       "38509       0  ...         0         0         0         0         0   \n",
       "25536       0  ...         0         0         0         0         0   \n",
       "31803       0  ...         0         0         0         0         0   \n",
       "39863       0  ...         0         0         0         0         0   \n",
       "...       ...  ...       ...       ...       ...       ...       ...   \n",
       "16041       0  ...         0         0         0         0         0   \n",
       "4867        0  ...         0         0         0         0         0   \n",
       "28123       0  ...         0         0         0         0         0   \n",
       "3780        0  ...         0         0         0         0         0   \n",
       "7155        0  ...         0         0         0         0         0   \n",
       "\n",
       "       pixel779  pixel780  pixel781  pixel782  pixel783  \n",
       "5457          0         0         0         0         0  \n",
       "38509         0         0         0         0         0  \n",
       "25536         0         0         0         0         0  \n",
       "31803         0         0         0         0         0  \n",
       "39863         0         0         0         0         0  \n",
       "...         ...       ...       ...       ...       ...  \n",
       "16041         0         0         0         0         0  \n",
       "4867          0         0         0         0         0  \n",
       "28123         0         0         0         0         0  \n",
       "3780          0         0         0         0         0  \n",
       "7155          0         0         0         0         0  \n",
       "\n",
       "[4200 rows x 785 columns]"
      ]
     },
     "execution_count": 7,
     "metadata": {},
     "output_type": "execute_result"
    }
   ],
   "source": [
    "val_data"
   ]
  },
  {
   "cell_type": "code",
   "execution_count": 8,
   "id": "c15d300a",
   "metadata": {
    "execution": {
     "iopub.execute_input": "2023-12-25T05:39:55.921108Z",
     "iopub.status.busy": "2023-12-25T05:39:55.920738Z",
     "iopub.status.idle": "2023-12-25T05:39:55.963528Z",
     "shell.execute_reply": "2023-12-25T05:39:55.962195Z"
    },
    "papermill": {
     "duration": 0.055745,
     "end_time": "2023-12-25T05:39:55.966085",
     "exception": false,
     "start_time": "2023-12-25T05:39:55.910340",
     "status": "completed"
    },
    "tags": []
   },
   "outputs": [],
   "source": [
    "X_train = train_data.drop(\"label\", axis=1).values.reshape(-1, 28, 28, 1)\n",
    "y_train = train_data[\"label\"]\n",
    "\n",
    "X_val = val_data.drop(\"label\", axis=1).values.reshape(-1, 28, 28, 1)\n",
    "y_val = val_data[\"label\"]"
   ]
  },
  {
   "cell_type": "code",
   "execution_count": 9,
   "id": "bafce79b",
   "metadata": {
    "execution": {
     "iopub.execute_input": "2023-12-25T05:39:55.987562Z",
     "iopub.status.busy": "2023-12-25T05:39:55.987103Z",
     "iopub.status.idle": "2023-12-25T05:39:55.994341Z",
     "shell.execute_reply": "2023-12-25T05:39:55.993109Z"
    },
    "papermill": {
     "duration": 0.020242,
     "end_time": "2023-12-25T05:39:55.996444",
     "exception": false,
     "start_time": "2023-12-25T05:39:55.976202",
     "status": "completed"
    },
    "tags": []
   },
   "outputs": [
    {
     "data": {
      "text/plain": [
       "((37800, 28, 28, 1), (4200, 28, 28, 1), (37800,), (4200,))"
      ]
     },
     "execution_count": 9,
     "metadata": {},
     "output_type": "execute_result"
    }
   ],
   "source": [
    "X_train.shape, X_val.shape, y_train.shape, y_val.shape"
   ]
  },
  {
   "cell_type": "code",
   "execution_count": 10,
   "id": "4aa6e4fb",
   "metadata": {
    "execution": {
     "iopub.execute_input": "2023-12-25T05:39:56.016687Z",
     "iopub.status.busy": "2023-12-25T05:39:56.016254Z",
     "iopub.status.idle": "2023-12-25T05:39:56.025092Z",
     "shell.execute_reply": "2023-12-25T05:39:56.024075Z"
    },
    "papermill": {
     "duration": 0.021299,
     "end_time": "2023-12-25T05:39:56.027142",
     "exception": false,
     "start_time": "2023-12-25T05:39:56.005843",
     "status": "completed"
    },
    "tags": []
   },
   "outputs": [
    {
     "data": {
      "text/plain": [
       "22460    8\n",
       "20828    5\n",
       "32032    6\n",
       "6194     2\n",
       "12768    2\n",
       "        ..\n",
       "6265     9\n",
       "11284    9\n",
       "38158    2\n",
       "860      6\n",
       "15795    0\n",
       "Name: label, Length: 37800, dtype: int64"
      ]
     },
     "execution_count": 10,
     "metadata": {},
     "output_type": "execute_result"
    }
   ],
   "source": [
    "y_train"
   ]
  },
  {
   "cell_type": "code",
   "execution_count": 11,
   "id": "804f2bdd",
   "metadata": {
    "execution": {
     "iopub.execute_input": "2023-12-25T05:39:56.047735Z",
     "iopub.status.busy": "2023-12-25T05:39:56.047406Z",
     "iopub.status.idle": "2023-12-25T05:39:56.054455Z",
     "shell.execute_reply": "2023-12-25T05:39:56.053351Z"
    },
    "papermill": {
     "duration": 0.019442,
     "end_time": "2023-12-25T05:39:56.056193",
     "exception": false,
     "start_time": "2023-12-25T05:39:56.036751",
     "status": "completed"
    },
    "tags": []
   },
   "outputs": [],
   "source": [
    "# convert the labels into 1 hot encoded\n",
    "from tensorflow.keras.utils import to_categorical\n",
    "y_train = to_categorical(y_train, num_classes=10)"
   ]
  },
  {
   "cell_type": "code",
   "execution_count": 12,
   "id": "d14d89ae",
   "metadata": {
    "execution": {
     "iopub.execute_input": "2023-12-25T05:39:56.076438Z",
     "iopub.status.busy": "2023-12-25T05:39:56.076112Z",
     "iopub.status.idle": "2023-12-25T05:39:56.082805Z",
     "shell.execute_reply": "2023-12-25T05:39:56.081772Z"
    },
    "papermill": {
     "duration": 0.019275,
     "end_time": "2023-12-25T05:39:56.084841",
     "exception": false,
     "start_time": "2023-12-25T05:39:56.065566",
     "status": "completed"
    },
    "tags": []
   },
   "outputs": [
    {
     "data": {
      "text/plain": [
       "array([0., 0., 0., 0., 0., 0., 0., 0., 1., 0.], dtype=float32)"
      ]
     },
     "execution_count": 12,
     "metadata": {},
     "output_type": "execute_result"
    }
   ],
   "source": [
    "y_train[0] # should be #8"
   ]
  },
  {
   "cell_type": "code",
   "execution_count": 13,
   "id": "5ae49f79",
   "metadata": {
    "execution": {
     "iopub.execute_input": "2023-12-25T05:39:56.105496Z",
     "iopub.status.busy": "2023-12-25T05:39:56.105155Z",
     "iopub.status.idle": "2023-12-25T05:39:56.110345Z",
     "shell.execute_reply": "2023-12-25T05:39:56.108767Z"
    },
    "papermill": {
     "duration": 0.017943,
     "end_time": "2023-12-25T05:39:56.112281",
     "exception": false,
     "start_time": "2023-12-25T05:39:56.094338",
     "status": "completed"
    },
    "tags": []
   },
   "outputs": [],
   "source": [
    "y_val = to_categorical(y_val, num_classes=10)"
   ]
  },
  {
   "cell_type": "code",
   "execution_count": 14,
   "id": "ec38502c",
   "metadata": {
    "execution": {
     "iopub.execute_input": "2023-12-25T05:39:56.132663Z",
     "iopub.status.busy": "2023-12-25T05:39:56.132335Z",
     "iopub.status.idle": "2023-12-25T05:39:56.138718Z",
     "shell.execute_reply": "2023-12-25T05:39:56.137811Z"
    },
    "papermill": {
     "duration": 0.01889,
     "end_time": "2023-12-25T05:39:56.140722",
     "exception": false,
     "start_time": "2023-12-25T05:39:56.121832",
     "status": "completed"
    },
    "tags": []
   },
   "outputs": [
    {
     "data": {
      "text/plain": [
       "array([0., 0., 0., 0., 0., 0., 0., 0., 1., 0.], dtype=float32)"
      ]
     },
     "execution_count": 14,
     "metadata": {},
     "output_type": "execute_result"
    }
   ],
   "source": [
    "y_val[0]"
   ]
  },
  {
   "cell_type": "code",
   "execution_count": 15,
   "id": "41313b94",
   "metadata": {
    "execution": {
     "iopub.execute_input": "2023-12-25T05:39:56.162918Z",
     "iopub.status.busy": "2023-12-25T05:39:56.162525Z",
     "iopub.status.idle": "2023-12-25T05:39:56.168120Z",
     "shell.execute_reply": "2023-12-25T05:39:56.166984Z"
    },
    "papermill": {
     "duration": 0.019457,
     "end_time": "2023-12-25T05:39:56.169954",
     "exception": false,
     "start_time": "2023-12-25T05:39:56.150497",
     "status": "completed"
    },
    "tags": []
   },
   "outputs": [],
   "source": [
    "train_datagen = ImageDataGenerator(\n",
    "    rescale=1/255.,\n",
    "    rotation_range=10,\n",
    "    zoom_range=0.1,\n",
    "    width_shift_range=0.1, \n",
    "    height_shift_range=0.1)\n",
    "\n",
    "val_test_datagen = ImageDataGenerator(\n",
    "    rescale=1/255.)"
   ]
  },
  {
   "cell_type": "code",
   "execution_count": 16,
   "id": "feef28df",
   "metadata": {
    "execution": {
     "iopub.execute_input": "2023-12-25T05:39:56.239072Z",
     "iopub.status.busy": "2023-12-25T05:39:56.238665Z",
     "iopub.status.idle": "2023-12-25T05:39:56.276261Z",
     "shell.execute_reply": "2023-12-25T05:39:56.275373Z"
    },
    "papermill": {
     "duration": 0.09911,
     "end_time": "2023-12-25T05:39:56.278847",
     "exception": false,
     "start_time": "2023-12-25T05:39:56.179737",
     "status": "completed"
    },
    "tags": []
   },
   "outputs": [],
   "source": [
    "# train_data = train_datagen.flow_from_directory(\n",
    "#     train_dir,\n",
    "#     target_size=(28, 28),\n",
    "#     batch_size=32,\n",
    "#     class_mode=\"categorical\",\n",
    "#     seed=42)\n",
    "train_data = train_datagen.flow(\n",
    "    X_train,\n",
    "    y_train,\n",
    "    batch_size=32,\n",
    "    seed=42)\n",
    "val_data = val_test_datagen.flow(\n",
    "    X_val,\n",
    "    y_val,\n",
    "    batch_size=32,\n",
    "    seed=42)"
   ]
  },
  {
   "cell_type": "code",
   "execution_count": 17,
   "id": "92bdaff4",
   "metadata": {
    "execution": {
     "iopub.execute_input": "2023-12-25T05:39:56.301118Z",
     "iopub.status.busy": "2023-12-25T05:39:56.300769Z",
     "iopub.status.idle": "2023-12-25T05:39:56.319825Z",
     "shell.execute_reply": "2023-12-25T05:39:56.318422Z"
    },
    "papermill": {
     "duration": 0.032347,
     "end_time": "2023-12-25T05:39:56.321775",
     "exception": false,
     "start_time": "2023-12-25T05:39:56.289428",
     "status": "completed"
    },
    "tags": []
   },
   "outputs": [
    {
     "data": {
      "text/plain": [
       "(32, 28, 28, 1)"
      ]
     },
     "execution_count": 17,
     "metadata": {},
     "output_type": "execute_result"
    }
   ],
   "source": [
    "train_data[0][0].shape"
   ]
  },
  {
   "cell_type": "code",
   "execution_count": 18,
   "id": "5db824b0",
   "metadata": {
    "execution": {
     "iopub.execute_input": "2023-12-25T05:39:56.345176Z",
     "iopub.status.busy": "2023-12-25T05:39:56.343971Z",
     "iopub.status.idle": "2023-12-25T05:39:56.353161Z",
     "shell.execute_reply": "2023-12-25T05:39:56.352104Z"
    },
    "papermill": {
     "duration": 0.022699,
     "end_time": "2023-12-25T05:39:56.354962",
     "exception": false,
     "start_time": "2023-12-25T05:39:56.332263",
     "status": "completed"
    },
    "tags": []
   },
   "outputs": [
    {
     "data": {
      "text/plain": [
       "(32, 28, 28, 1)"
      ]
     },
     "execution_count": 18,
     "metadata": {},
     "output_type": "execute_result"
    }
   ],
   "source": [
    "val_data[0][0].shape"
   ]
  },
  {
   "cell_type": "markdown",
   "id": "4c78fd0e",
   "metadata": {
    "papermill": {
     "duration": 0.009931,
     "end_time": "2023-12-25T05:39:56.375140",
     "exception": false,
     "start_time": "2023-12-25T05:39:56.365209",
     "status": "completed"
    },
    "tags": []
   },
   "source": [
    "## Create first model"
   ]
  },
  {
   "cell_type": "code",
   "execution_count": 19,
   "id": "85d39aae",
   "metadata": {
    "execution": {
     "iopub.execute_input": "2023-12-25T05:39:56.398280Z",
     "iopub.status.busy": "2023-12-25T05:39:56.397150Z",
     "iopub.status.idle": "2023-12-25T05:39:56.569360Z",
     "shell.execute_reply": "2023-12-25T05:39:56.568444Z"
    },
    "papermill": {
     "duration": 0.186693,
     "end_time": "2023-12-25T05:39:56.571788",
     "exception": false,
     "start_time": "2023-12-25T05:39:56.385095",
     "status": "completed"
    },
    "tags": []
   },
   "outputs": [],
   "source": [
    "model_1 = tf.keras.Sequential([\n",
    "    tf.keras.layers.Conv2D(10, 5, activation=\"relu\", input_shape=(28, 28, 1)),\n",
    "    tf.keras.layers.MaxPool2D(2),\n",
    "    tf.keras.layers.Conv2D(10, 5, activation=\"relu\"),\n",
    "    tf.keras.layers.MaxPool2D(2),\n",
    "    tf.keras.layers.Flatten(), \n",
    "    tf.keras.layers.Dense(10, activation=\"softmax\")\n",
    "])\n",
    "\n",
    "model_1.compile(loss=\"categorical_crossentropy\",\n",
    "             optimizer=tf.keras.optimizers.Adam(learning_rate=0.001),\n",
    "             metrics=[\"Accuracy\"])\n"
   ]
  },
  {
   "cell_type": "code",
   "execution_count": 20,
   "id": "1ffde623",
   "metadata": {
    "execution": {
     "iopub.execute_input": "2023-12-25T05:39:56.593438Z",
     "iopub.status.busy": "2023-12-25T05:39:56.593075Z",
     "iopub.status.idle": "2023-12-25T05:39:56.621910Z",
     "shell.execute_reply": "2023-12-25T05:39:56.620660Z"
    },
    "papermill": {
     "duration": 0.044195,
     "end_time": "2023-12-25T05:39:56.626303",
     "exception": false,
     "start_time": "2023-12-25T05:39:56.582108",
     "status": "completed"
    },
    "tags": []
   },
   "outputs": [
    {
     "name": "stdout",
     "output_type": "stream",
     "text": [
      "Model: \"sequential\"\n",
      "_________________________________________________________________\n",
      " Layer (type)                Output Shape              Param #   \n",
      "=================================================================\n",
      " conv2d (Conv2D)             (None, 24, 24, 10)        260       \n",
      "                                                                 \n",
      " max_pooling2d (MaxPooling2  (None, 12, 12, 10)        0         \n",
      " D)                                                              \n",
      "                                                                 \n",
      " conv2d_1 (Conv2D)           (None, 8, 8, 10)          2510      \n",
      "                                                                 \n",
      " max_pooling2d_1 (MaxPoolin  (None, 4, 4, 10)          0         \n",
      " g2D)                                                            \n",
      "                                                                 \n",
      " flatten (Flatten)           (None, 160)               0         \n",
      "                                                                 \n",
      " dense (Dense)               (None, 10)                1610      \n",
      "                                                                 \n",
      "=================================================================\n",
      "Total params: 4380 (17.11 KB)\n",
      "Trainable params: 4380 (17.11 KB)\n",
      "Non-trainable params: 0 (0.00 Byte)\n",
      "_________________________________________________________________\n"
     ]
    }
   ],
   "source": [
    "model_1.summary()"
   ]
  },
  {
   "cell_type": "code",
   "execution_count": 21,
   "id": "fe809268",
   "metadata": {
    "execution": {
     "iopub.execute_input": "2023-12-25T05:39:56.651604Z",
     "iopub.status.busy": "2023-12-25T05:39:56.650221Z",
     "iopub.status.idle": "2023-12-25T05:39:56.655920Z",
     "shell.execute_reply": "2023-12-25T05:39:56.655017Z"
    },
    "papermill": {
     "duration": 0.020211,
     "end_time": "2023-12-25T05:39:56.658088",
     "exception": false,
     "start_time": "2023-12-25T05:39:56.637877",
     "status": "completed"
    },
    "tags": []
   },
   "outputs": [],
   "source": [
    "early_stop_callback = tf.keras.callbacks.EarlyStopping(monitor=\"val_loss\",\n",
    "                                                      patience=3,\n",
    "                                                      restore_best_weights=True)"
   ]
  },
  {
   "cell_type": "code",
   "execution_count": 22,
   "id": "ffa4eb18",
   "metadata": {
    "execution": {
     "iopub.execute_input": "2023-12-25T05:39:56.683836Z",
     "iopub.status.busy": "2023-12-25T05:39:56.683462Z",
     "iopub.status.idle": "2023-12-25T05:39:56.688799Z",
     "shell.execute_reply": "2023-12-25T05:39:56.687615Z"
    },
    "papermill": {
     "duration": 0.020384,
     "end_time": "2023-12-25T05:39:56.690612",
     "exception": false,
     "start_time": "2023-12-25T05:39:56.670228",
     "status": "completed"
    },
    "tags": []
   },
   "outputs": [],
   "source": [
    "reduce_lr_callback = tf.keras.callbacks.ReduceLROnPlateau(monitor=\"val_loss\",\n",
    "                                                         patience=2,\n",
    "                                                         factor=0.2,\n",
    "                                                         min_lr=0.0001)"
   ]
  },
  {
   "cell_type": "code",
   "execution_count": 23,
   "id": "52275f2f",
   "metadata": {
    "execution": {
     "iopub.execute_input": "2023-12-25T05:39:56.716092Z",
     "iopub.status.busy": "2023-12-25T05:39:56.715732Z",
     "iopub.status.idle": "2023-12-25T05:46:16.681461Z",
     "shell.execute_reply": "2023-12-25T05:46:16.680248Z"
    },
    "papermill": {
     "duration": 379.981714,
     "end_time": "2023-12-25T05:46:16.684377",
     "exception": false,
     "start_time": "2023-12-25T05:39:56.702663",
     "status": "completed"
    },
    "tags": []
   },
   "outputs": [
    {
     "name": "stdout",
     "output_type": "stream",
     "text": [
      "Epoch 1/20\n",
      "1182/1182 [==============================] - 16s 13ms/step - loss: 0.6391 - Accuracy: 0.7989 - val_loss: 0.1766 - val_Accuracy: 0.9469 - lr: 0.0010\n",
      "Epoch 2/20\n",
      "1182/1182 [==============================] - 15s 13ms/step - loss: 0.2761 - Accuracy: 0.9172 - val_loss: 0.1220 - val_Accuracy: 0.9638 - lr: 0.0010\n",
      "Epoch 3/20\n",
      "1182/1182 [==============================] - 16s 13ms/step - loss: 0.2207 - Accuracy: 0.9325 - val_loss: 0.0861 - val_Accuracy: 0.9752 - lr: 0.0010\n",
      "Epoch 4/20\n",
      "1182/1182 [==============================] - 15s 13ms/step - loss: 0.1838 - Accuracy: 0.9458 - val_loss: 0.0753 - val_Accuracy: 0.9776 - lr: 0.0010\n",
      "Epoch 5/20\n",
      "1182/1182 [==============================] - 15s 13ms/step - loss: 0.1691 - Accuracy: 0.9490 - val_loss: 0.0821 - val_Accuracy: 0.9726 - lr: 0.0010\n",
      "Epoch 6/20\n",
      "1182/1182 [==============================] - 15s 12ms/step - loss: 0.1513 - Accuracy: 0.9545 - val_loss: 0.0600 - val_Accuracy: 0.9819 - lr: 0.0010\n",
      "Epoch 7/20\n",
      "1182/1182 [==============================] - 16s 13ms/step - loss: 0.1384 - Accuracy: 0.9593 - val_loss: 0.0595 - val_Accuracy: 0.9819 - lr: 0.0010\n",
      "Epoch 8/20\n",
      "1182/1182 [==============================] - 15s 13ms/step - loss: 0.1258 - Accuracy: 0.9625 - val_loss: 0.0664 - val_Accuracy: 0.9783 - lr: 0.0010\n",
      "Epoch 9/20\n",
      "1182/1182 [==============================] - 15s 13ms/step - loss: 0.1164 - Accuracy: 0.9643 - val_loss: 0.0427 - val_Accuracy: 0.9874 - lr: 0.0010\n",
      "Epoch 10/20\n",
      "1182/1182 [==============================] - 16s 13ms/step - loss: 0.1104 - Accuracy: 0.9674 - val_loss: 0.0481 - val_Accuracy: 0.9829 - lr: 0.0010\n",
      "Epoch 11/20\n",
      "1182/1182 [==============================] - 15s 13ms/step - loss: 0.1055 - Accuracy: 0.9687 - val_loss: 0.0476 - val_Accuracy: 0.9836 - lr: 0.0010\n",
      "Epoch 12/20\n",
      "1182/1182 [==============================] - 15s 13ms/step - loss: 0.0900 - Accuracy: 0.9726 - val_loss: 0.0401 - val_Accuracy: 0.9855 - lr: 2.0000e-04\n",
      "Epoch 13/20\n",
      "1182/1182 [==============================] - 15s 13ms/step - loss: 0.0849 - Accuracy: 0.9736 - val_loss: 0.0395 - val_Accuracy: 0.9857 - lr: 2.0000e-04\n",
      "Epoch 14/20\n",
      "1182/1182 [==============================] - 15s 13ms/step - loss: 0.0845 - Accuracy: 0.9754 - val_loss: 0.0379 - val_Accuracy: 0.9874 - lr: 2.0000e-04\n",
      "Epoch 15/20\n",
      "1182/1182 [==============================] - 15s 13ms/step - loss: 0.0841 - Accuracy: 0.9745 - val_loss: 0.0388 - val_Accuracy: 0.9874 - lr: 2.0000e-04\n",
      "Epoch 16/20\n",
      "1182/1182 [==============================] - 15s 13ms/step - loss: 0.0800 - Accuracy: 0.9756 - val_loss: 0.0392 - val_Accuracy: 0.9867 - lr: 2.0000e-04\n",
      "Epoch 17/20\n",
      "1182/1182 [==============================] - 15s 13ms/step - loss: 0.0802 - Accuracy: 0.9752 - val_loss: 0.0354 - val_Accuracy: 0.9883 - lr: 1.0000e-04\n",
      "Epoch 18/20\n",
      "1182/1182 [==============================] - 15s 13ms/step - loss: 0.0767 - Accuracy: 0.9767 - val_loss: 0.0361 - val_Accuracy: 0.9871 - lr: 1.0000e-04\n",
      "Epoch 19/20\n",
      "1182/1182 [==============================] - 15s 13ms/step - loss: 0.0775 - Accuracy: 0.9760 - val_loss: 0.0379 - val_Accuracy: 0.9862 - lr: 1.0000e-04\n",
      "Epoch 20/20\n",
      "1182/1182 [==============================] - 15s 13ms/step - loss: 0.0799 - Accuracy: 0.9764 - val_loss: 0.0344 - val_Accuracy: 0.9881 - lr: 1.0000e-04\n"
     ]
    }
   ],
   "source": [
    "history_1 = model_1.fit(train_data,\n",
    "                       epochs=20,\n",
    "                       steps_per_epoch=len(train_data),\n",
    "                       validation_data=val_data,\n",
    "                       validation_steps=len(val_data),\n",
    "                       callbacks=[early_stop_callback, reduce_lr_callback])"
   ]
  },
  {
   "cell_type": "code",
   "execution_count": 24,
   "id": "372a1385",
   "metadata": {
    "execution": {
     "iopub.execute_input": "2023-12-25T05:46:17.338138Z",
     "iopub.status.busy": "2023-12-25T05:46:17.337586Z",
     "iopub.status.idle": "2023-12-25T05:46:18.018543Z",
     "shell.execute_reply": "2023-12-25T05:46:18.017563Z"
    },
    "papermill": {
     "duration": 1.009316,
     "end_time": "2023-12-25T05:46:18.020563",
     "exception": false,
     "start_time": "2023-12-25T05:46:17.011247",
     "status": "completed"
    },
    "tags": []
   },
   "outputs": [
    {
     "name": "stdout",
     "output_type": "stream",
     "text": [
      "132/132 [==============================] - 1s 5ms/step - loss: 0.0344 - Accuracy: 0.9881\n"
     ]
    },
    {
     "data": {
      "text/plain": [
       "[0.03443814441561699, 0.988095223903656]"
      ]
     },
     "execution_count": 24,
     "metadata": {},
     "output_type": "execute_result"
    }
   ],
   "source": [
    "model_1.evaluate(val_data)"
   ]
  },
  {
   "cell_type": "code",
   "execution_count": 25,
   "id": "a32c0b74",
   "metadata": {
    "execution": {
     "iopub.execute_input": "2023-12-25T05:46:18.739598Z",
     "iopub.status.busy": "2023-12-25T05:46:18.738908Z",
     "iopub.status.idle": "2023-12-25T05:46:18.743761Z",
     "shell.execute_reply": "2023-12-25T05:46:18.743022Z"
    },
    "papermill": {
     "duration": 0.331721,
     "end_time": "2023-12-25T05:46:18.745557",
     "exception": false,
     "start_time": "2023-12-25T05:46:18.413836",
     "status": "completed"
    },
    "tags": []
   },
   "outputs": [
    {
     "name": "stdout",
     "output_type": "stream",
     "text": [
      "dict_keys(['loss', 'Accuracy', 'val_loss', 'val_Accuracy', 'lr'])\n"
     ]
    }
   ],
   "source": [
    "print(history_1.history.keys())"
   ]
  },
  {
   "cell_type": "code",
   "execution_count": 26,
   "id": "e19959b2",
   "metadata": {
    "execution": {
     "iopub.execute_input": "2023-12-25T05:46:19.401867Z",
     "iopub.status.busy": "2023-12-25T05:46:19.401162Z",
     "iopub.status.idle": "2023-12-25T05:46:19.822805Z",
     "shell.execute_reply": "2023-12-25T05:46:19.822097Z"
    },
    "papermill": {
     "duration": 0.75163,
     "end_time": "2023-12-25T05:46:19.825194",
     "exception": false,
     "start_time": "2023-12-25T05:46:19.073564",
     "status": "completed"
    },
    "tags": []
   },
   "outputs": [
    {
     "data": {
      "image/png": "[encoded data removed]",
      "text/plain": [
       "<Figure size 1200x500 with 2 Axes>"
      ]
     },
     "metadata": {},
     "output_type": "display_data"
    }
   ],
   "source": [
    "import matplotlib.pyplot as plt\n",
    "\n",
    "acc = history_1.history['Accuracy']\n",
    "val_acc = history_1.history['val_Accuracy']\n",
    "loss = history_1.history['loss']\n",
    "val_loss = history_1.history['val_loss']\n",
    "\n",
    "epochs = range(len(acc))  # Get number of epochs\n",
    "\n",
    "# Plot training and validation accuracy\n",
    "plt.figure(figsize=(12, 5))\n",
    "plt.subplot(1, 2, 1)\n",
    "plt.plot(epochs, acc, label='Training Accuracy')\n",
    "plt.plot(epochs, val_acc, label='Validation Accuracy')\n",
    "plt.title('Training and Validation Accuracy')\n",
    "plt.legend()\n",
    "\n",
    "# Plot training and validation loss\n",
    "plt.subplot(1, 2, 2)\n",
    "plt.plot(epochs, loss, label='Training Loss')\n",
    "plt.plot(epochs, val_loss, label='Validation Loss')\n",
    "plt.title('Training and Validation Loss')\n",
    "plt.legend()\n",
    "\n",
    "plt.show()"
   ]
  },
  {
   "cell_type": "code",
   "execution_count": 27,
   "id": "d56a9d7c",
   "metadata": {
    "execution": {
     "iopub.execute_input": "2023-12-25T05:46:20.487233Z",
     "iopub.status.busy": "2023-12-25T05:46:20.486612Z",
     "iopub.status.idle": "2023-12-25T05:46:22.079859Z",
     "shell.execute_reply": "2023-12-25T05:46:22.078198Z"
    },
    "papermill": {
     "duration": 1.932396,
     "end_time": "2023-12-25T05:46:22.081893",
     "exception": false,
     "start_time": "2023-12-25T05:46:20.149497",
     "status": "completed"
    },
    "tags": []
   },
   "outputs": [
    {
     "data": {
      "text/html": [
       "<div>\n",
       "<style scoped>\n",
       "    .dataframe tbody tr th:only-of-type {\n",
       "        vertical-align: middle;\n",
       "    }\n",
       "\n",
       "    .dataframe tbody tr th {\n",
       "        vertical-align: top;\n",
       "    }\n",
       "\n",
       "    .dataframe thead th {\n",
       "        text-align: right;\n",
       "    }\n",
       "</style>\n",
       "<table border=\"1\" class=\"dataframe\">\n",
       "  <thead>\n",
       "    <tr style=\"text-align: right;\">\n",
       "      <th></th>\n",
       "      <th>pixel0</th>\n",
       "      <th>pixel1</th>\n",
       "      <th>pixel2</th>\n",
       "      <th>pixel3</th>\n",
       "      <th>pixel4</th>\n",
       "      <th>pixel5</th>\n",
       "      <th>pixel6</th>\n",
       "      <th>pixel7</th>\n",
       "      <th>pixel8</th>\n",
       "      <th>pixel9</th>\n",
       "      <th>...</th>\n",
       "      <th>pixel774</th>\n",
       "      <th>pixel775</th>\n",
       "      <th>pixel776</th>\n",
       "      <th>pixel777</th>\n",
       "      <th>pixel778</th>\n",
       "      <th>pixel779</th>\n",
       "      <th>pixel780</th>\n",
       "      <th>pixel781</th>\n",
       "      <th>pixel782</th>\n",
       "      <th>pixel783</th>\n",
       "    </tr>\n",
       "  </thead>\n",
       "  <tbody>\n",
       "    <tr>\n",
       "      <th>0</th>\n",
       "      <td>0</td>\n",
       "      <td>0</td>\n",
       "      <td>0</td>\n",
       "      <td>0</td>\n",
       "      <td>0</td>\n",
       "      <td>0</td>\n",
       "      <td>0</td>\n",
       "      <td>0</td>\n",
       "      <td>0</td>\n",
       "      <td>0</td>\n",
       "      <td>...</td>\n",
       "      <td>0</td>\n",
       "      <td>0</td>\n",
       "      <td>0</td>\n",
       "      <td>0</td>\n",
       "      <td>0</td>\n",
       "      <td>0</td>\n",
       "      <td>0</td>\n",
       "      <td>0</td>\n",
       "      <td>0</td>\n",
       "      <td>0</td>\n",
       "    </tr>\n",
       "    <tr>\n",
       "      <th>1</th>\n",
       "      <td>0</td>\n",
       "      <td>0</td>\n",
       "      <td>0</td>\n",
       "      <td>0</td>\n",
       "      <td>0</td>\n",
       "      <td>0</td>\n",
       "      <td>0</td>\n",
       "      <td>0</td>\n",
       "      <td>0</td>\n",
       "      <td>0</td>\n",
       "      <td>...</td>\n",
       "      <td>0</td>\n",
       "      <td>0</td>\n",
       "      <td>0</td>\n",
       "      <td>0</td>\n",
       "      <td>0</td>\n",
       "      <td>0</td>\n",
       "      <td>0</td>\n",
       "      <td>0</td>\n",
       "      <td>0</td>\n",
       "      <td>0</td>\n",
       "    </tr>\n",
       "    <tr>\n",
       "      <th>2</th>\n",
       "      <td>0</td>\n",
       "      <td>0</td>\n",
       "      <td>0</td>\n",
       "      <td>0</td>\n",
       "      <td>0</td>\n",
       "      <td>0</td>\n",
       "      <td>0</td>\n",
       "      <td>0</td>\n",
       "      <td>0</td>\n",
       "      <td>0</td>\n",
       "      <td>...</td>\n",
       "      <td>0</td>\n",
       "      <td>0</td>\n",
       "      <td>0</td>\n",
       "      <td>0</td>\n",
       "      <td>0</td>\n",
       "      <td>0</td>\n",
       "      <td>0</td>\n",
       "      <td>0</td>\n",
       "      <td>0</td>\n",
       "      <td>0</td>\n",
       "    </tr>\n",
       "    <tr>\n",
       "      <th>3</th>\n",
       "      <td>0</td>\n",
       "      <td>0</td>\n",
       "      <td>0</td>\n",
       "      <td>0</td>\n",
       "      <td>0</td>\n",
       "      <td>0</td>\n",
       "      <td>0</td>\n",
       "      <td>0</td>\n",
       "      <td>0</td>\n",
       "      <td>0</td>\n",
       "      <td>...</td>\n",
       "      <td>0</td>\n",
       "      <td>0</td>\n",
       "      <td>0</td>\n",
       "      <td>0</td>\n",
       "      <td>0</td>\n",
       "      <td>0</td>\n",
       "      <td>0</td>\n",
       "      <td>0</td>\n",
       "      <td>0</td>\n",
       "      <td>0</td>\n",
       "    </tr>\n",
       "    <tr>\n",
       "      <th>4</th>\n",
       "      <td>0</td>\n",
       "      <td>0</td>\n",
       "      <td>0</td>\n",
       "      <td>0</td>\n",
       "      <td>0</td>\n",
       "      <td>0</td>\n",
       "      <td>0</td>\n",
       "      <td>0</td>\n",
       "      <td>0</td>\n",
       "      <td>0</td>\n",
       "      <td>...</td>\n",
       "      <td>0</td>\n",
       "      <td>0</td>\n",
       "      <td>0</td>\n",
       "      <td>0</td>\n",
       "      <td>0</td>\n",
       "      <td>0</td>\n",
       "      <td>0</td>\n",
       "      <td>0</td>\n",
       "      <td>0</td>\n",
       "      <td>0</td>\n",
       "    </tr>\n",
       "  </tbody>\n",
       "</table>\n",
       "<p>5 rows × 784 columns</p>\n",
       "</div>"
      ],
      "text/plain": [
       "   pixel0  pixel1  pixel2  pixel3  pixel4  pixel5  pixel6  pixel7  pixel8  \\\n",
       "0       0       0       0       0       0       0       0       0       0   \n",
       "1       0       0       0       0       0       0       0       0       0   \n",
       "2       0       0       0       0       0       0       0       0       0   \n",
       "3       0       0       0       0       0       0       0       0       0   \n",
       "4       0       0       0       0       0       0       0       0       0   \n",
       "\n",
       "   pixel9  ...  pixel774  pixel775  pixel776  pixel777  pixel778  pixel779  \\\n",
       "0       0  ...         0         0         0         0         0         0   \n",
       "1       0  ...         0         0         0         0         0         0   \n",
       "2       0  ...         0         0         0         0         0         0   \n",
       "3       0  ...         0         0         0         0         0         0   \n",
       "4       0  ...         0         0         0         0         0         0   \n",
       "\n",
       "   pixel780  pixel781  pixel782  pixel783  \n",
       "0         0         0         0         0  \n",
       "1         0         0         0         0  \n",
       "2         0         0         0         0  \n",
       "3         0         0         0         0  \n",
       "4         0         0         0         0  \n",
       "\n",
       "[5 rows x 784 columns]"
      ]
     },
     "execution_count": 27,
     "metadata": {},
     "output_type": "execute_result"
    }
   ],
   "source": [
    "test_df = pd.read_csv('/kaggle/input/digit-recognizer/test.csv')\n",
    "test_df.head()"
   ]
  },
  {
   "cell_type": "code",
   "execution_count": 28,
   "id": "11ae7218",
   "metadata": {
    "execution": {
     "iopub.execute_input": "2023-12-25T05:46:22.811557Z",
     "iopub.status.busy": "2023-12-25T05:46:22.811232Z",
     "iopub.status.idle": "2023-12-25T05:46:26.824336Z",
     "shell.execute_reply": "2023-12-25T05:46:26.822827Z"
    },
    "papermill": {
     "duration": 4.341561,
     "end_time": "2023-12-25T05:46:26.826743",
     "exception": false,
     "start_time": "2023-12-25T05:46:22.485182",
     "status": "completed"
    },
    "tags": []
   },
   "outputs": [
    {
     "name": "stdout",
     "output_type": "stream",
     "text": [
      "875/875 [==============================] - 4s 4ms/step\n"
     ]
    }
   ],
   "source": [
    "predictions = model_1.predict(test_df.values.reshape(-1, 28, 28, 1))"
   ]
  },
  {
   "cell_type": "code",
   "execution_count": 29,
   "id": "07149e6a",
   "metadata": {
    "execution": {
     "iopub.execute_input": "2023-12-25T05:46:27.489784Z",
     "iopub.status.busy": "2023-12-25T05:46:27.489431Z",
     "iopub.status.idle": "2023-12-25T05:46:27.496175Z",
     "shell.execute_reply": "2023-12-25T05:46:27.494559Z"
    },
    "papermill": {
     "duration": 0.343754,
     "end_time": "2023-12-25T05:46:27.499092",
     "exception": false,
     "start_time": "2023-12-25T05:46:27.155338",
     "status": "completed"
    },
    "tags": []
   },
   "outputs": [],
   "source": [
    "predicted_labels = predictions.argmax(axis=1)"
   ]
  },
  {
   "cell_type": "code",
   "execution_count": 30,
   "id": "8800fab0",
   "metadata": {
    "execution": {
     "iopub.execute_input": "2023-12-25T05:46:28.218025Z",
     "iopub.status.busy": "2023-12-25T05:46:28.216755Z",
     "iopub.status.idle": "2023-12-25T05:46:28.227830Z",
     "shell.execute_reply": "2023-12-25T05:46:28.226949Z"
    },
    "papermill": {
     "duration": 0.402363,
     "end_time": "2023-12-25T05:46:28.229713",
     "exception": false,
     "start_time": "2023-12-25T05:46:27.827350",
     "status": "completed"
    },
    "tags": []
   },
   "outputs": [
    {
     "data": {
      "text/html": [
       "<div>\n",
       "<style scoped>\n",
       "    .dataframe tbody tr th:only-of-type {\n",
       "        vertical-align: middle;\n",
       "    }\n",
       "\n",
       "    .dataframe tbody tr th {\n",
       "        vertical-align: top;\n",
       "    }\n",
       "\n",
       "    .dataframe thead th {\n",
       "        text-align: right;\n",
       "    }\n",
       "</style>\n",
       "<table border=\"1\" class=\"dataframe\">\n",
       "  <thead>\n",
       "    <tr style=\"text-align: right;\">\n",
       "      <th></th>\n",
       "      <th>ImageId</th>\n",
       "      <th>Label</th>\n",
       "    </tr>\n",
       "  </thead>\n",
       "  <tbody>\n",
       "    <tr>\n",
       "      <th>0</th>\n",
       "      <td>1</td>\n",
       "      <td>2</td>\n",
       "    </tr>\n",
       "    <tr>\n",
       "      <th>1</th>\n",
       "      <td>2</td>\n",
       "      <td>0</td>\n",
       "    </tr>\n",
       "    <tr>\n",
       "      <th>2</th>\n",
       "      <td>3</td>\n",
       "      <td>9</td>\n",
       "    </tr>\n",
       "    <tr>\n",
       "      <th>3</th>\n",
       "      <td>4</td>\n",
       "      <td>0</td>\n",
       "    </tr>\n",
       "    <tr>\n",
       "      <th>4</th>\n",
       "      <td>5</td>\n",
       "      <td>3</td>\n",
       "    </tr>\n",
       "    <tr>\n",
       "      <th>...</th>\n",
       "      <td>...</td>\n",
       "      <td>...</td>\n",
       "    </tr>\n",
       "    <tr>\n",
       "      <th>27995</th>\n",
       "      <td>27996</td>\n",
       "      <td>9</td>\n",
       "    </tr>\n",
       "    <tr>\n",
       "      <th>27996</th>\n",
       "      <td>27997</td>\n",
       "      <td>7</td>\n",
       "    </tr>\n",
       "    <tr>\n",
       "      <th>27997</th>\n",
       "      <td>27998</td>\n",
       "      <td>3</td>\n",
       "    </tr>\n",
       "    <tr>\n",
       "      <th>27998</th>\n",
       "      <td>27999</td>\n",
       "      <td>9</td>\n",
       "    </tr>\n",
       "    <tr>\n",
       "      <th>27999</th>\n",
       "      <td>28000</td>\n",
       "      <td>2</td>\n",
       "    </tr>\n",
       "  </tbody>\n",
       "</table>\n",
       "<p>28000 rows × 2 columns</p>\n",
       "</div>"
      ],
      "text/plain": [
       "       ImageId  Label\n",
       "0            1      2\n",
       "1            2      0\n",
       "2            3      9\n",
       "3            4      0\n",
       "4            5      3\n",
       "...        ...    ...\n",
       "27995    27996      9\n",
       "27996    27997      7\n",
       "27997    27998      3\n",
       "27998    27999      9\n",
       "27999    28000      2\n",
       "\n",
       "[28000 rows x 2 columns]"
      ]
     },
     "execution_count": 30,
     "metadata": {},
     "output_type": "execute_result"
    }
   ],
   "source": [
    "submission_df = pd.DataFrame({\n",
    "    'ImageId': range(1, len(predicted_labels) + 1),\n",
    "    'Label': predicted_labels\n",
    "})\n",
    "submission_df"
   ]
  },
  {
   "cell_type": "code",
   "execution_count": 31,
   "id": "d7340224",
   "metadata": {
    "execution": {
     "iopub.execute_input": "2023-12-25T05:46:28.889782Z",
     "iopub.status.busy": "2023-12-25T05:46:28.889440Z",
     "iopub.status.idle": "2023-12-25T05:46:28.923685Z",
     "shell.execute_reply": "2023-12-25T05:46:28.922436Z"
    },
    "papermill": {
     "duration": 0.367352,
     "end_time": "2023-12-25T05:46:28.926667",
     "exception": false,
     "start_time": "2023-12-25T05:46:28.559315",
     "status": "completed"
    },
    "tags": []
   },
   "outputs": [],
   "source": [
    "submission_df.to_csv(\"submission.csv\", index=False)"
   ]
  },
  {
   "cell_type": "markdown",
   "id": "cf1e5e84",
   "metadata": {
    "papermill": {
     "duration": 0.329466,
     "end_time": "2023-12-25T05:46:29.584215",
     "exception": false,
     "start_time": "2023-12-25T05:46:29.254749",
     "status": "completed"
    },
    "tags": []
   },
   "source": [
    "Can train for longer but going to try a different model type\n",
    "\n",
    "## Model 2"
   ]
  },
  {
   "cell_type": "code",
   "execution_count": 32,
   "id": "2be7a94d",
   "metadata": {
    "execution": {
     "iopub.execute_input": "2023-12-25T05:46:30.308076Z",
     "iopub.status.busy": "2023-12-25T05:46:30.307693Z",
     "iopub.status.idle": "2023-12-25T05:46:30.371492Z",
     "shell.execute_reply": "2023-12-25T05:46:30.370496Z"
    },
    "papermill": {
     "duration": 0.398826,
     "end_time": "2023-12-25T05:46:30.373694",
     "exception": false,
     "start_time": "2023-12-25T05:46:29.974868",
     "status": "completed"
    },
    "tags": []
   },
   "outputs": [],
   "source": [
    "model_2 = tf.keras.Sequential([\n",
    "    tf.keras.layers.Conv2D(10, 5, activation=\"relu\", input_shape=(28, 28, 1)),\n",
    "    tf.keras.layers.MaxPool2D(2),\n",
    "    tf.keras.layers.Dropout(0.2),\n",
    "    tf.keras.layers.Conv2D(10, 5, activation=\"relu\"),\n",
    "    tf.keras.layers.MaxPool2D(2),\n",
    "    tf.keras.layers.Flatten(), \n",
    "    tf.keras.layers.Dense(10, activation=\"softmax\")\n",
    "])\n",
    "\n",
    "model_2.compile(loss=\"categorical_crossentropy\",\n",
    "             optimizer=\"Adam\",\n",
    "             metrics=[\"Accuracy\"])\n"
   ]
  },
  {
   "cell_type": "code",
   "execution_count": 33,
   "id": "5d6cb9b6",
   "metadata": {
    "execution": {
     "iopub.execute_input": "2023-12-25T05:46:31.038423Z",
     "iopub.status.busy": "2023-12-25T05:46:31.038013Z",
     "iopub.status.idle": "2023-12-25T05:46:31.069283Z",
     "shell.execute_reply": "2023-12-25T05:46:31.068069Z"
    },
    "papermill": {
     "duration": 0.366074,
     "end_time": "2023-12-25T05:46:31.071704",
     "exception": false,
     "start_time": "2023-12-25T05:46:30.705630",
     "status": "completed"
    },
    "tags": []
   },
   "outputs": [
    {
     "name": "stdout",
     "output_type": "stream",
     "text": [
      "Model: \"sequential_1\"\n",
      "_________________________________________________________________\n",
      " Layer (type)                Output Shape              Param #   \n",
      "=================================================================\n",
      " conv2d_2 (Conv2D)           (None, 24, 24, 10)        260       \n",
      "                                                                 \n",
      " max_pooling2d_2 (MaxPoolin  (None, 12, 12, 10)        0         \n",
      " g2D)                                                            \n",
      "                                                                 \n",
      " dropout (Dropout)           (None, 12, 12, 10)        0         \n",
      "                                                                 \n",
      " conv2d_3 (Conv2D)           (None, 8, 8, 10)          2510      \n",
      "                                                                 \n",
      " max_pooling2d_3 (MaxPoolin  (None, 4, 4, 10)          0         \n",
      " g2D)                                                            \n",
      "                                                                 \n",
      " flatten_1 (Flatten)         (None, 160)               0         \n",
      "                                                                 \n",
      " dense_1 (Dense)             (None, 10)                1610      \n",
      "                                                                 \n",
      "=================================================================\n",
      "Total params: 4380 (17.11 KB)\n",
      "Trainable params: 4380 (17.11 KB)\n",
      "Non-trainable params: 0 (0.00 Byte)\n",
      "_________________________________________________________________\n"
     ]
    }
   ],
   "source": [
    "model_2.summary()"
   ]
  },
  {
   "cell_type": "code",
   "execution_count": 34,
   "id": "40162a5c",
   "metadata": {
    "execution": {
     "iopub.execute_input": "2023-12-25T05:46:31.744857Z",
     "iopub.status.busy": "2023-12-25T05:46:31.744474Z",
     "iopub.status.idle": "2023-12-25T05:52:57.324072Z",
     "shell.execute_reply": "2023-12-25T05:52:57.322858Z"
    },
    "papermill": {
     "duration": 385.916152,
     "end_time": "2023-12-25T05:52:57.326115",
     "exception": false,
     "start_time": "2023-12-25T05:46:31.409963",
     "status": "completed"
    },
    "tags": []
   },
   "outputs": [
    {
     "name": "stdout",
     "output_type": "stream",
     "text": [
      "Epoch 1/20\n",
      "1182/1182 [==============================] - 16s 13ms/step - loss: 0.7202 - Accuracy: 0.7653 - val_loss: 0.1854 - val_Accuracy: 0.9450\n",
      "Epoch 2/20\n",
      "1182/1182 [==============================] - 16s 13ms/step - loss: 0.3272 - Accuracy: 0.8976 - val_loss: 0.1360 - val_Accuracy: 0.9569\n",
      "Epoch 3/20\n",
      "1182/1182 [==============================] - 16s 13ms/step - loss: 0.2655 - Accuracy: 0.9179 - val_loss: 0.1130 - val_Accuracy: 0.9645\n",
      "Epoch 4/20\n",
      "1182/1182 [==============================] - 15s 13ms/step - loss: 0.2244 - Accuracy: 0.9319 - val_loss: 0.0914 - val_Accuracy: 0.9743\n",
      "Epoch 5/20\n",
      "1182/1182 [==============================] - 16s 13ms/step - loss: 0.1992 - Accuracy: 0.9377 - val_loss: 0.0778 - val_Accuracy: 0.9748\n",
      "Epoch 6/20\n",
      "1182/1182 [==============================] - 15s 13ms/step - loss: 0.1797 - Accuracy: 0.9451 - val_loss: 0.0692 - val_Accuracy: 0.9795\n",
      "Epoch 7/20\n",
      "1182/1182 [==============================] - 16s 13ms/step - loss: 0.1683 - Accuracy: 0.9484 - val_loss: 0.0711 - val_Accuracy: 0.9798\n",
      "Epoch 8/20\n",
      "1182/1182 [==============================] - 15s 13ms/step - loss: 0.1523 - Accuracy: 0.9529 - val_loss: 0.0632 - val_Accuracy: 0.9812\n",
      "Epoch 9/20\n",
      "1182/1182 [==============================] - 15s 13ms/step - loss: 0.1467 - Accuracy: 0.9544 - val_loss: 0.0561 - val_Accuracy: 0.9833\n",
      "Epoch 10/20\n",
      "1182/1182 [==============================] - 16s 13ms/step - loss: 0.1359 - Accuracy: 0.9569 - val_loss: 0.0602 - val_Accuracy: 0.9805\n",
      "Epoch 11/20\n",
      "1182/1182 [==============================] - 15s 13ms/step - loss: 0.1374 - Accuracy: 0.9570 - val_loss: 0.0471 - val_Accuracy: 0.9855\n",
      "Epoch 12/20\n",
      "1182/1182 [==============================] - 16s 13ms/step - loss: 0.1291 - Accuracy: 0.9606 - val_loss: 0.0490 - val_Accuracy: 0.9840\n",
      "Epoch 13/20\n",
      "1182/1182 [==============================] - 16s 13ms/step - loss: 0.1268 - Accuracy: 0.9611 - val_loss: 0.0440 - val_Accuracy: 0.9864\n",
      "Epoch 14/20\n",
      "1182/1182 [==============================] - 16s 13ms/step - loss: 0.1215 - Accuracy: 0.9624 - val_loss: 0.0498 - val_Accuracy: 0.9836\n",
      "Epoch 15/20\n",
      "1182/1182 [==============================] - 16s 13ms/step - loss: 0.1201 - Accuracy: 0.9632 - val_loss: 0.0437 - val_Accuracy: 0.9879\n",
      "Epoch 16/20\n",
      "1182/1182 [==============================] - 16s 13ms/step - loss: 0.1168 - Accuracy: 0.9639 - val_loss: 0.0443 - val_Accuracy: 0.9869\n",
      "Epoch 17/20\n",
      "1182/1182 [==============================] - 15s 13ms/step - loss: 0.1130 - Accuracy: 0.9643 - val_loss: 0.0415 - val_Accuracy: 0.9860\n",
      "Epoch 18/20\n",
      "1182/1182 [==============================] - 16s 13ms/step - loss: 0.1106 - Accuracy: 0.9660 - val_loss: 0.0420 - val_Accuracy: 0.9840\n",
      "Epoch 19/20\n",
      "1182/1182 [==============================] - 16s 13ms/step - loss: 0.1098 - Accuracy: 0.9660 - val_loss: 0.0370 - val_Accuracy: 0.9857\n",
      "Epoch 20/20\n",
      "1182/1182 [==============================] - 16s 13ms/step - loss: 0.1065 - Accuracy: 0.9673 - val_loss: 0.0403 - val_Accuracy: 0.9860\n"
     ]
    }
   ],
   "source": [
    "history_2 = model_2.fit(train_data,\n",
    "                       epochs=20,\n",
    "                       steps_per_epoch=len(train_data),\n",
    "                       validation_data=val_data,\n",
    "                       validation_steps=len(val_data),\n",
    "                       callbacks=[early_stop_callback])"
   ]
  },
  {
   "cell_type": "code",
   "execution_count": 35,
   "id": "0967247b",
   "metadata": {
    "execution": {
     "iopub.execute_input": "2023-12-25T05:52:58.684715Z",
     "iopub.status.busy": "2023-12-25T05:52:58.683018Z",
     "iopub.status.idle": "2023-12-25T05:52:59.360447Z",
     "shell.execute_reply": "2023-12-25T05:52:59.359168Z"
    },
    "papermill": {
     "duration": 1.327922,
     "end_time": "2023-12-25T05:52:59.363365",
     "exception": false,
     "start_time": "2023-12-25T05:52:58.035443",
     "status": "completed"
    },
    "tags": []
   },
   "outputs": [
    {
     "name": "stdout",
     "output_type": "stream",
     "text": [
      "132/132 [==============================] - 1s 5ms/step - loss: 0.0403 - Accuracy: 0.9860\n"
     ]
    },
    {
     "data": {
      "text/plain": [
       "[0.04033306613564491, 0.9859523773193359]"
      ]
     },
     "execution_count": 35,
     "metadata": {},
     "output_type": "execute_result"
    }
   ],
   "source": [
    "model_2.evaluate(val_data)"
   ]
  },
  {
   "cell_type": "code",
   "execution_count": 36,
   "id": "6e3ab0fe",
   "metadata": {
    "execution": {
     "iopub.execute_input": "2023-12-25T05:53:00.734038Z",
     "iopub.status.busy": "2023-12-25T05:53:00.732907Z",
     "iopub.status.idle": "2023-12-25T05:53:01.392178Z",
     "shell.execute_reply": "2023-12-25T05:53:01.390976Z"
    },
    "papermill": {
     "duration": 1.318171,
     "end_time": "2023-12-25T05:53:01.395271",
     "exception": false,
     "start_time": "2023-12-25T05:53:00.077100",
     "status": "completed"
    },
    "tags": []
   },
   "outputs": [
    {
     "name": "stdout",
     "output_type": "stream",
     "text": [
      "132/132 [==============================] - 1s 4ms/step - loss: 0.0344 - Accuracy: 0.9881\n"
     ]
    },
    {
     "data": {
      "text/plain": [
       "[0.03443814069032669, 0.988095223903656]"
      ]
     },
     "execution_count": 36,
     "metadata": {},
     "output_type": "execute_result"
    }
   ],
   "source": [
    "model_1.evaluate(val_data)"
   ]
  },
  {
   "cell_type": "code",
   "execution_count": 37,
   "id": "6b78f909",
   "metadata": {
    "execution": {
     "iopub.execute_input": "2023-12-25T05:53:02.783448Z",
     "iopub.status.busy": "2023-12-25T05:53:02.781807Z",
     "iopub.status.idle": "2023-12-25T05:53:02.787748Z",
     "shell.execute_reply": "2023-12-25T05:53:02.786985Z"
    },
    "papermill": {
     "duration": 0.743815,
     "end_time": "2023-12-25T05:53:02.790159",
     "exception": false,
     "start_time": "2023-12-25T05:53:02.046344",
     "status": "completed"
    },
    "tags": []
   },
   "outputs": [],
   "source": [
    "# import tensorflow_hub as hub\n",
    "# efficientnet_url = \"https://tfhub.dev/google/imagenet/efficientnet_v2_imagenet1k_b0/feature_vector/2\"\n",
    "\n",
    "# # feature_extractor_layer = hub.KerasLayer(efficientnet_url,\n",
    "# #                                         trainable=False,\n",
    "# #                                         name=\"feature_extraction_layer\",\n",
    "# #                                         input_shape=(28, 28, 1))\n",
    "\n",
    "\n",
    "# inputs = tf.keras.layers.Input(shape=(28, 28, 1))\n",
    "\n",
    "# x = tf.keras.layers.Conv2D(10, 3, activation=\"relu\")(inputs)\n",
    "\n",
    "# # x = tf.keras.layers.UpSampling2D(size=(96//28, 96//28))(x)\n",
    "\n",
    "# # base_model = tf.keras.applications.MobileNet(weights='imagenet', input_shape=(96, 96, 3), include_top=False)\n",
    "# # x = base_model(x, training=False)\n",
    "\n",
    "# # x = tf.keras.layers.GlobalAveragePooling2D()(x)\n",
    "\n",
    "# outputs = tf.keras.layers.Dense(10, activation=\"softmax\")(x)\n",
    "\n",
    "# model_2 = tf.keras.Model(inputs, outputs)\n",
    "\n",
    "# # model_2 = tf.keras.Sequential([\n",
    "# #     tf.keras.layers.Resizing(224, 224),\n",
    "# #     feature_extractor_layer,\n",
    "# #     tf.keras.layers.Dense(10, activation=\"softmax\", name=\"output_layer\")\n",
    "# # ])\n",
    "\n",
    "# model_2.compile(loss=\"categorical_crossentropy\",\n",
    "#              optimizer=\"Adam\",\n",
    "#              metrics=[\"Accuracy\"])"
   ]
  },
  {
   "cell_type": "code",
   "execution_count": 38,
   "id": "f2177a6a",
   "metadata": {
    "execution": {
     "iopub.execute_input": "2023-12-25T05:53:04.168265Z",
     "iopub.status.busy": "2023-12-25T05:53:04.167332Z",
     "iopub.status.idle": "2023-12-25T05:53:04.171795Z",
     "shell.execute_reply": "2023-12-25T05:53:04.170819Z"
    },
    "papermill": {
     "duration": 0.724502,
     "end_time": "2023-12-25T05:53:04.173633",
     "exception": false,
     "start_time": "2023-12-25T05:53:03.449131",
     "status": "completed"
    },
    "tags": []
   },
   "outputs": [],
   "source": [
    "# model_2.summary()"
   ]
  },
  {
   "cell_type": "code",
   "execution_count": 39,
   "id": "7ba01359",
   "metadata": {
    "execution": {
     "iopub.execute_input": "2023-12-25T05:53:05.474668Z",
     "iopub.status.busy": "2023-12-25T05:53:05.474304Z",
     "iopub.status.idle": "2023-12-25T05:53:05.479282Z",
     "shell.execute_reply": "2023-12-25T05:53:05.477857Z"
    },
    "papermill": {
     "duration": 0.658326,
     "end_time": "2023-12-25T05:53:05.481648",
     "exception": false,
     "start_time": "2023-12-25T05:53:04.823322",
     "status": "completed"
    },
    "tags": []
   },
   "outputs": [],
   "source": [
    "# history_2 = model_2.fit(train_data,\n",
    "#                        epochs=8,\n",
    "#                        steps_per_epoch=len(train_data),\n",
    "#                        validation_data=val_data,\n",
    "#                        validation_steps=len(val_data))"
   ]
  }
 ],
 "metadata": {
  "kaggle": {
   "accelerator": "none",
   "dataSources": [
    {
     "databundleVersionId": 861823,
     "sourceId": 3004,
     "sourceType": "competition"
    }
   ],
   "dockerImageVersionId": 30626,
   "isGpuEnabled": false,
   "isInternetEnabled": true,
   "language": "python",
   "sourceType": "notebook"
  },
  "kernelspec": {
   "display_name": "Python 3",
   "language": "python",
   "name": "python3"
  },
  "language_info": {
   "codemirror_mode": {
    "name": "ipython",
    "version": 3
   },
   "file_extension": ".py",
   "mimetype": "text/x-python",
   "name": "python",
   "nbconvert_exporter": "python",
   "pygments_lexer": "ipython3",
   "version": "3.10.12"
  },
  "papermill": {
   "default_parameters": {},
   "duration": 813.687837,
   "end_time": "2023-12-25T05:53:08.530011",
   "environment_variables": {},
   "exception": null,
   "input_path": "__notebook__.ipynb",
   "output_path": "__notebook__.ipynb",
   "parameters": {},
   "start_time": "2023-12-25T05:39:34.842174",
   "version": "2.4.0"
  }
 },
 "nbformat": 4,
 "nbformat_minor": 5
}
